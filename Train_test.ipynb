{
 "cells": [
  {
   "cell_type": "markdown",
   "metadata": {},
   "source": [
    "## Required PIP Installations in Terminal Before Running Code"
   ]
  },
  {
   "cell_type": "code",
   "execution_count": 2,
   "metadata": {},
   "outputs": [],
   "source": [
    "# pip install gym-trading-env, torch\n",
    "#  \n",
    "# git clone https://github.com/facebookresearch/Pearl.git\n",
    "# cd Pearl\n",
    "# git install -e .\n",
    "# cd ..\n"
   ]
  },
  {
   "cell_type": "code",
   "execution_count": 3,
   "metadata": {},
   "outputs": [],
   "source": [
    "import gym_trading_env\n",
    "from gym_trading_env.downloader import download, EXCHANGE_LIMIT_RATES\n",
    "#import gymnasium as gym # No longer used and is installed with other libraries anyways\n",
    "import gymnasium as gym\n",
    "import datetime\n",
    "import pandas as pd\n",
    "import numpy as np\n",
    "import os # used to get current directory\n",
    "from tqdm import tqdm\n",
    "# Import all the Pearl related methods\n",
    "from pearl.pearl_agent import PearlAgent\n",
    "from pearl.action_representation_modules.one_hot_action_representation_module import (\n",
    "    OneHotActionTensorRepresentationModule,\n",
    ")\n",
    "from pearl.policy_learners.sequential_decision_making.deep_q_learning import (\n",
    "    DeepQLearning,\n",
    ")\n",
    "from pearl.replay_buffers.sequential_decision_making.fifo_off_policy_replay_buffer import (\n",
    "    FIFOOffPolicyReplayBuffer,\n",
    ")\n",
    "from pearl.utils.instantiations.environments.gym_environment import GymEnvironment\n",
    "from pearl.policy_learners.sequential_decision_making.implicit_q_learning import ImplicitQLearning\n",
    "from pearl.utils.functional_utils.train_and_eval.offline_learning_and_evaluation import (\n",
    "    get_offline_data_in_buffer,\n",
    "    offline_evaluation,\n",
    "    offline_learning,\n",
    ")\n",
    "from pearl.neural_networks.sequential_decision_making.actor_networks import VanillaContinuousActorNetwork\n",
    "from pearl.pearl_agent import PearlAgent\n",
    "from pearl.action_representation_modules.one_hot_action_representation_module import (\n",
    "    OneHotActionTensorRepresentationModule,\n",
    ")\n",
    "from pearl.policy_learners.sequential_decision_making.deep_q_learning import (\n",
    "    DeepQLearning,\n",
    ")\n",
    "from pearl.replay_buffers.sequential_decision_making.fifo_off_policy_replay_buffer import (\n",
    "    FIFOOffPolicyReplayBuffer,\n",
    ")\n",
    "from pearl.utils.instantiations.environments.gym_environment import GymEnvironment\n",
    "import torch # used for calculating the mean when evaluating Pearl training performance\n",
    "\n",
    "##FOR USE WITH VANILLAQVALUENETWORK\n",
    "#from pearl.neural_networks.sequential_decision_making.q_value_networks import VanillaQValueNetwork\n",
    "\n",
    "experiment_seed = 42"
   ]
  },
  {
   "cell_type": "code",
   "execution_count": 4,
   "metadata": {},
   "outputs": [
    {
     "name": "stdout",
     "output_type": "stream",
     "text": [
      "BTC/USDT downloaded from binanceus and stored at data/binanceus-BTCUSDT-1h.pkl\n"
     ]
    }
   ],
   "source": [
    "# Download data from site\n",
    "EXCHANGE_LIMIT_RATES[\"binanceus\"] = {\n",
    "    \"limit\" : 200, # One request will query 200 data points (aka candlesticks).\n",
    "    \"pause_every\" : 120, # it will pause every 120 requests.\n",
    "    \"pause\" : 2, # the pause will last 2 seconds.\n",
    "}\n",
    "download(\n",
    "    exchange_names = [\"binanceus\"],\n",
    "    symbols= [\"BTC/USDT\"],\n",
    "    timeframe= \"1h\",\n",
    "    dir = \"data\",\n",
    "    since= datetime.datetime(year= 2024, month= 8, day=7),\n",
    ")"
   ]
  },
  {
   "cell_type": "code",
   "execution_count": 5,
   "metadata": {},
   "outputs": [
    {
     "name": "stdout",
     "output_type": "stream",
     "text": [
      "The Item Is >>>>> open\n",
      "The Item Is >>>>> high\n",
      "The Item Is >>>>> low\n",
      "The Item Is >>>>> close\n",
      "The Item Is >>>>> volume\n",
      "The Item Is >>>>> date_close\n"
     ]
    },
    {
     "data": {
      "text/html": [
       "<div>\n",
       "<style scoped>\n",
       "    .dataframe tbody tr th:only-of-type {\n",
       "        vertical-align: middle;\n",
       "    }\n",
       "\n",
       "    .dataframe tbody tr th {\n",
       "        vertical-align: top;\n",
       "    }\n",
       "\n",
       "    .dataframe thead th {\n",
       "        text-align: right;\n",
       "    }\n",
       "</style>\n",
       "<table border=\"1\" class=\"dataframe\">\n",
       "  <thead>\n",
       "    <tr style=\"text-align: right;\">\n",
       "      <th></th>\n",
       "      <th>open</th>\n",
       "      <th>high</th>\n",
       "      <th>low</th>\n",
       "      <th>close</th>\n",
       "      <th>volume</th>\n",
       "      <th>date_close</th>\n",
       "      <th>feature_close</th>\n",
       "      <th>feature_open</th>\n",
       "      <th>feature_high</th>\n",
       "      <th>feature_low</th>\n",
       "      <th>feature_sma10</th>\n",
       "      <th>feature_sma5</th>\n",
       "      <th>feature_volume</th>\n",
       "    </tr>\n",
       "    <tr>\n",
       "      <th>date_open</th>\n",
       "      <th></th>\n",
       "      <th></th>\n",
       "      <th></th>\n",
       "      <th></th>\n",
       "      <th></th>\n",
       "      <th></th>\n",
       "      <th></th>\n",
       "      <th></th>\n",
       "      <th></th>\n",
       "      <th></th>\n",
       "      <th></th>\n",
       "      <th></th>\n",
       "      <th></th>\n",
       "    </tr>\n",
       "  </thead>\n",
       "  <tbody>\n",
       "    <tr>\n",
       "      <th>2024-08-07 17:00:00</th>\n",
       "      <td>56136.58</td>\n",
       "      <td>56255.37</td>\n",
       "      <td>55425.30</td>\n",
       "      <td>55496.27</td>\n",
       "      <td>11.14794</td>\n",
       "      <td>2024-08-07 18:00:00</td>\n",
       "      <td>-0.010596</td>\n",
       "      <td>1.011538</td>\n",
       "      <td>1.013678</td>\n",
       "      <td>0.998721</td>\n",
       "      <td>56689.301</td>\n",
       "      <td>56127.654</td>\n",
       "      <td>1.000000</td>\n",
       "    </tr>\n",
       "    <tr>\n",
       "      <th>2024-08-07 18:00:00</th>\n",
       "      <td>55467.90</td>\n",
       "      <td>55500.00</td>\n",
       "      <td>54602.19</td>\n",
       "      <td>54724.60</td>\n",
       "      <td>4.17710</td>\n",
       "      <td>2024-08-07 19:00:00</td>\n",
       "      <td>-0.013905</td>\n",
       "      <td>1.013583</td>\n",
       "      <td>1.014169</td>\n",
       "      <td>0.997763</td>\n",
       "      <td>56429.957</td>\n",
       "      <td>55709.842</td>\n",
       "      <td>0.374697</td>\n",
       "    </tr>\n",
       "    <tr>\n",
       "      <th>2024-08-07 19:00:00</th>\n",
       "      <td>54683.49</td>\n",
       "      <td>55122.80</td>\n",
       "      <td>54683.49</td>\n",
       "      <td>54869.08</td>\n",
       "      <td>4.05487</td>\n",
       "      <td>2024-08-07 20:00:00</td>\n",
       "      <td>0.002640</td>\n",
       "      <td>0.996618</td>\n",
       "      <td>1.004624</td>\n",
       "      <td>0.996618</td>\n",
       "      <td>56180.700</td>\n",
       "      <td>55451.288</td>\n",
       "      <td>0.970738</td>\n",
       "    </tr>\n",
       "    <tr>\n",
       "      <th>2024-08-07 20:00:00</th>\n",
       "      <td>54865.54</td>\n",
       "      <td>55266.50</td>\n",
       "      <td>54670.73</td>\n",
       "      <td>55072.28</td>\n",
       "      <td>1.16852</td>\n",
       "      <td>2024-08-07 21:00:00</td>\n",
       "      <td>0.003703</td>\n",
       "      <td>0.996246</td>\n",
       "      <td>1.003527</td>\n",
       "      <td>0.992709</td>\n",
       "      <td>55957.132</td>\n",
       "      <td>55250.566</td>\n",
       "      <td>0.288177</td>\n",
       "    </tr>\n",
       "    <tr>\n",
       "      <th>2024-08-07 21:00:00</th>\n",
       "      <td>55127.27</td>\n",
       "      <td>55525.40</td>\n",
       "      <td>54884.41</td>\n",
       "      <td>55359.15</td>\n",
       "      <td>0.61045</td>\n",
       "      <td>2024-08-07 22:00:00</td>\n",
       "      <td>0.005209</td>\n",
       "      <td>0.995811</td>\n",
       "      <td>1.003003</td>\n",
       "      <td>0.991424</td>\n",
       "      <td>55793.536</td>\n",
       "      <td>55104.276</td>\n",
       "      <td>0.522413</td>\n",
       "    </tr>\n",
       "    <tr>\n",
       "      <th>...</th>\n",
       "      <td>...</td>\n",
       "      <td>...</td>\n",
       "      <td>...</td>\n",
       "      <td>...</td>\n",
       "      <td>...</td>\n",
       "      <td>...</td>\n",
       "      <td>...</td>\n",
       "      <td>...</td>\n",
       "      <td>...</td>\n",
       "      <td>...</td>\n",
       "      <td>...</td>\n",
       "      <td>...</td>\n",
       "      <td>...</td>\n",
       "    </tr>\n",
       "    <tr>\n",
       "      <th>2024-09-13 11:00:00</th>\n",
       "      <td>58318.48</td>\n",
       "      <td>58340.52</td>\n",
       "      <td>57849.48</td>\n",
       "      <td>57905.18</td>\n",
       "      <td>1.90824</td>\n",
       "      <td>2024-09-13 12:00:00</td>\n",
       "      <td>-0.006271</td>\n",
       "      <td>1.007138</td>\n",
       "      <td>1.007518</td>\n",
       "      <td>0.999038</td>\n",
       "      <td>57986.153</td>\n",
       "      <td>58059.206</td>\n",
       "      <td>1.000000</td>\n",
       "    </tr>\n",
       "    <tr>\n",
       "      <th>2024-09-13 12:00:00</th>\n",
       "      <td>57905.06</td>\n",
       "      <td>57954.42</td>\n",
       "      <td>57636.86</td>\n",
       "      <td>57947.90</td>\n",
       "      <td>0.23885</td>\n",
       "      <td>2024-09-13 13:00:00</td>\n",
       "      <td>0.000738</td>\n",
       "      <td>0.999261</td>\n",
       "      <td>1.000113</td>\n",
       "      <td>0.994632</td>\n",
       "      <td>57972.096</td>\n",
       "      <td>58033.968</td>\n",
       "      <td>0.125168</td>\n",
       "    </tr>\n",
       "    <tr>\n",
       "      <th>2024-09-13 13:00:00</th>\n",
       "      <td>57884.02</td>\n",
       "      <td>58123.56</td>\n",
       "      <td>57733.52</td>\n",
       "      <td>58073.76</td>\n",
       "      <td>0.21783</td>\n",
       "      <td>2024-09-13 14:00:00</td>\n",
       "      <td>0.002172</td>\n",
       "      <td>0.996733</td>\n",
       "      <td>1.000858</td>\n",
       "      <td>0.994141</td>\n",
       "      <td>57994.524</td>\n",
       "      <td>58050.926</td>\n",
       "      <td>0.911995</td>\n",
       "    </tr>\n",
       "    <tr>\n",
       "      <th>2024-09-13 14:00:00</th>\n",
       "      <td>58085.23</td>\n",
       "      <td>58500.00</td>\n",
       "      <td>57872.53</td>\n",
       "      <td>58399.50</td>\n",
       "      <td>2.34567</td>\n",
       "      <td>2024-09-13 15:00:00</td>\n",
       "      <td>0.005609</td>\n",
       "      <td>0.994619</td>\n",
       "      <td>1.001721</td>\n",
       "      <td>0.990976</td>\n",
       "      <td>58049.526</td>\n",
       "      <td>58119.390</td>\n",
       "      <td>1.000000</td>\n",
       "    </tr>\n",
       "    <tr>\n",
       "      <th>2024-09-13 15:00:00</th>\n",
       "      <td>58397.23</td>\n",
       "      <td>59400.00</td>\n",
       "      <td>58381.42</td>\n",
       "      <td>59281.11</td>\n",
       "      <td>6.57434</td>\n",
       "      <td>2024-09-13 16:00:00</td>\n",
       "      <td>0.015096</td>\n",
       "      <td>0.985090</td>\n",
       "      <td>1.002006</td>\n",
       "      <td>0.984823</td>\n",
       "      <td>58181.964</td>\n",
       "      <td>58321.490</td>\n",
       "      <td>1.000000</td>\n",
       "    </tr>\n",
       "  </tbody>\n",
       "</table>\n",
       "<p>887 rows × 13 columns</p>\n",
       "</div>"
      ],
      "text/plain": [
       "                         open      high       low     close    volume  \\\n",
       "date_open                                                               \n",
       "2024-08-07 17:00:00  56136.58  56255.37  55425.30  55496.27  11.14794   \n",
       "2024-08-07 18:00:00  55467.90  55500.00  54602.19  54724.60   4.17710   \n",
       "2024-08-07 19:00:00  54683.49  55122.80  54683.49  54869.08   4.05487   \n",
       "2024-08-07 20:00:00  54865.54  55266.50  54670.73  55072.28   1.16852   \n",
       "2024-08-07 21:00:00  55127.27  55525.40  54884.41  55359.15   0.61045   \n",
       "...                       ...       ...       ...       ...       ...   \n",
       "2024-09-13 11:00:00  58318.48  58340.52  57849.48  57905.18   1.90824   \n",
       "2024-09-13 12:00:00  57905.06  57954.42  57636.86  57947.90   0.23885   \n",
       "2024-09-13 13:00:00  57884.02  58123.56  57733.52  58073.76   0.21783   \n",
       "2024-09-13 14:00:00  58085.23  58500.00  57872.53  58399.50   2.34567   \n",
       "2024-09-13 15:00:00  58397.23  59400.00  58381.42  59281.11   6.57434   \n",
       "\n",
       "                             date_close  feature_close  feature_open  \\\n",
       "date_open                                                              \n",
       "2024-08-07 17:00:00 2024-08-07 18:00:00      -0.010596      1.011538   \n",
       "2024-08-07 18:00:00 2024-08-07 19:00:00      -0.013905      1.013583   \n",
       "2024-08-07 19:00:00 2024-08-07 20:00:00       0.002640      0.996618   \n",
       "2024-08-07 20:00:00 2024-08-07 21:00:00       0.003703      0.996246   \n",
       "2024-08-07 21:00:00 2024-08-07 22:00:00       0.005209      0.995811   \n",
       "...                                 ...            ...           ...   \n",
       "2024-09-13 11:00:00 2024-09-13 12:00:00      -0.006271      1.007138   \n",
       "2024-09-13 12:00:00 2024-09-13 13:00:00       0.000738      0.999261   \n",
       "2024-09-13 13:00:00 2024-09-13 14:00:00       0.002172      0.996733   \n",
       "2024-09-13 14:00:00 2024-09-13 15:00:00       0.005609      0.994619   \n",
       "2024-09-13 15:00:00 2024-09-13 16:00:00       0.015096      0.985090   \n",
       "\n",
       "                     feature_high  feature_low  feature_sma10  feature_sma5  \\\n",
       "date_open                                                                     \n",
       "2024-08-07 17:00:00      1.013678     0.998721      56689.301     56127.654   \n",
       "2024-08-07 18:00:00      1.014169     0.997763      56429.957     55709.842   \n",
       "2024-08-07 19:00:00      1.004624     0.996618      56180.700     55451.288   \n",
       "2024-08-07 20:00:00      1.003527     0.992709      55957.132     55250.566   \n",
       "2024-08-07 21:00:00      1.003003     0.991424      55793.536     55104.276   \n",
       "...                           ...          ...            ...           ...   \n",
       "2024-09-13 11:00:00      1.007518     0.999038      57986.153     58059.206   \n",
       "2024-09-13 12:00:00      1.000113     0.994632      57972.096     58033.968   \n",
       "2024-09-13 13:00:00      1.000858     0.994141      57994.524     58050.926   \n",
       "2024-09-13 14:00:00      1.001721     0.990976      58049.526     58119.390   \n",
       "2024-09-13 15:00:00      1.002006     0.984823      58181.964     58321.490   \n",
       "\n",
       "                     feature_volume  \n",
       "date_open                            \n",
       "2024-08-07 17:00:00        1.000000  \n",
       "2024-08-07 18:00:00        0.374697  \n",
       "2024-08-07 19:00:00        0.970738  \n",
       "2024-08-07 20:00:00        0.288177  \n",
       "2024-08-07 21:00:00        0.522413  \n",
       "...                             ...  \n",
       "2024-09-13 11:00:00        1.000000  \n",
       "2024-09-13 12:00:00        0.125168  \n",
       "2024-09-13 13:00:00        0.911995  \n",
       "2024-09-13 14:00:00        1.000000  \n",
       "2024-09-13 15:00:00        1.000000  \n",
       "\n",
       "[887 rows x 13 columns]"
      ]
     },
     "execution_count": 5,
     "metadata": {},
     "output_type": "execute_result"
    }
   ],
   "source": [
    "# Import data\n",
    "filename = \"./data/binanceus-BTCUSDT-1h.pkl\"\n",
    "df = pd.read_pickle(filename)\n",
    "\n",
    "for item in df:\n",
    "    print(\"The Item Is >>>>> \" + item)\n",
    "    \n",
    "\n",
    "# df is a DataFrame with columns : \"open\", \"high\", \"low\", \"close\", \"Volume USD\"\n",
    "\n",
    "#df.sort_index(inplace= True)\n",
    "\n",
    "# Create the feature : ( close[t] - close[t-1] )/ close[t-1]\n",
    "df[\"feature_close\"] = df[\"close\"].pct_change()\n",
    "\n",
    "# Create the feature : open[t] / close[t]\n",
    "df[\"feature_open\"] = df[\"open\"]/df[\"close\"]\n",
    "\n",
    "# Create the feature : high[t] / close[t]\n",
    "df[\"feature_high\"] = df[\"high\"]/df[\"close\"]\n",
    "\n",
    "# Create the feature : low[t] / close[t]\n",
    "df[\"feature_low\"] = df[\"low\"]/df[\"close\"]\n",
    "\n",
    "## simple moving averages\n",
    "df[\"feature_sma10\"] = df[\"close\"].rolling(10).mean()\n",
    "df[\"feature_sma5\"] = df[\"close\"].rolling(5).mean()\n",
    "\n",
    "# Create the feature : volume[t] / max(*volume[t-7*24:t+1])\n",
    "df[\"feature_volume\"] = df[\"volume\"] / df[\"volume\"].rolling(2).max()\n",
    "\n",
    "df.dropna(inplace= True) # Clean again !\n",
    "# Each step, the environment will return 5 inputs  : \"feature_close\", \"feature_open\", \"feature_high\", \"feature_low\", \"feature_volume\"\n",
    "\n",
    "df"
   ]
  },
  {
   "cell_type": "code",
   "execution_count": 6,
   "metadata": {},
   "outputs": [],
   "source": [
    "# df['close'].plot()\n",
    "\n",
    "# df.index\n",
    "split_date=pd.to_datetime('09/01/2024')\n",
    "train_df=df[:split_date]\n",
    "test_df=df[split_date:]\n"
   ]
  },
  {
   "cell_type": "code",
   "execution_count": 7,
   "metadata": {},
   "outputs": [
    {
     "data": {
      "text/plain": [
       "<Axes: xlabel='date_open'>"
      ]
     },
     "execution_count": 7,
     "metadata": {},
     "output_type": "execute_result"
    },
    {
     "data": {
      "image/png": "[encoded data removed]",
      "text/plain": [
       "<Figure size 640x480 with 1 Axes>"
      ]
     },
     "metadata": {},
     "output_type": "display_data"
    }
   ],
   "source": [
    "train_df['close'].plot()"
   ]
  },
  {
   "cell_type": "code",
   "execution_count": 8,
   "metadata": {},
   "outputs": [],
   "source": [
    "## Create Trading Environment\n",
    "\n",
    "# Define reward function here. Current function is based on last 2 timesteps (one hour apart)\n",
    "def reward_function(history):\n",
    "        return np.log(history[\"portfolio_valuation\", -1] / history[\"portfolio_valuation\", -2])\n",
    "\n",
    "train_env = gym.make(\"TradingEnv\",\n",
    "        name= \"ICPUSD\",\n",
    "        df = train_df,\n",
    "        positions = [ -1, 0, 1], # -1 (=SHORT), 0(=OUT), +1 (=LONG)\n",
    "        reward_function = reward_function,\n",
    "        trading_fees = 0.01/100, # 0.01% per stock buy / sell (Binance fees)\n",
    "        borrow_interest_rate= 0.0003/100, # 0.0003% per timestep (one timestep = 1h here)\n",
    "    )\n",
    "\n",
    "test_env = gym.make(\"TradingEnv\",\n",
    "        name= \"ICPUSD\",\n",
    "        df = test_df,\n",
    "        positions = [ -1, 0, 1], # -1 (=SHORT), 0(=OUT), +1 (=LONG)\n",
    "        reward_function = reward_function,\n",
    "        trading_fees = 0.01/100, # 0.01% per stock buy / sell (Binance fees)\n",
    "        borrow_interest_rate= 0.0003/100, # 0.0003% per timestep (one timestep = 1h here)\n",
    "    )"
   ]
  },
  {
   "cell_type": "code",
   "execution_count": 9,
   "metadata": {},
   "outputs": [
    {
     "data": {
      "text/plain": [
       "{'idx': 0,\n",
       " 'step': 0,\n",
       " 'date': np.datetime64('2024-08-07T17:00:00.000000000'),\n",
       " 'position_index': 1,\n",
       " 'position': np.int64(0),\n",
       " 'real_position': np.int64(0),\n",
       " 'data_high': 56255.37,\n",
       " 'data_close': 55496.27,\n",
       " 'data_low': 55425.3,\n",
       " 'data_volume': 11.14794,\n",
       " 'data_date_close': Timestamp('2024-08-07 18:00:00'),\n",
       " 'data_open': 56136.58,\n",
       " 'portfolio_valuation': 1000.0,\n",
       " 'portfolio_distribution_asset': 0,\n",
       " 'portfolio_distribution_fiat': np.float64(1000.0),\n",
       " 'portfolio_distribution_borrowed_asset': 0,\n",
       " 'portfolio_distribution_borrowed_fiat': 0,\n",
       " 'portfolio_distribution_interest_asset': 0,\n",
       " 'portfolio_distribution_interest_fiat': 0,\n",
       " 'reward': 0}"
      ]
     },
     "execution_count": 9,
     "metadata": {},
     "output_type": "execute_result"
    }
   ],
   "source": [
    "obs,info=train_env.reset()\n",
    "info"
   ]
  },
  {
   "cell_type": "markdown",
   "metadata": {},
   "source": [
    "## Make Wrapper Environment for Pearl"
   ]
  },
  {
   "cell_type": "code",
   "execution_count": 10,
   "metadata": {},
   "outputs": [],
   "source": [
    "train_env = GymEnvironment(train_env)\n",
    "test_env = GymEnvironment(test_env)"
   ]
  },
  {
   "cell_type": "code",
   "execution_count": 11,
   "metadata": {},
   "outputs": [
    {
     "data": {
      "text/plain": [
       "<pearl.utils.instantiations.environments.gym_environment.GymEnvironment at 0x139f47700>"
      ]
     },
     "execution_count": 11,
     "metadata": {},
     "output_type": "execute_result"
    }
   ],
   "source": [
    "train_env"
   ]
  },
  {
   "cell_type": "markdown",
   "metadata": {},
   "source": [
    "# episode\n",
    "## Training_step\n",
    "### loss_reduction "
   ]
  },
  {
   "cell_type": "code",
   "execution_count": 12,
   "metadata": {},
   "outputs": [],
   "source": [
    "\n",
    "\n",
    "num_actions = train_env.action_space.n\n",
    "agent = PearlAgent(\n",
    "    policy_learner=DeepQLearning(\n",
    "        state_dim=train_env.observation_space.shape[0],\n",
    "        action_space=train_env.action_space, \n",
    "        hidden_dims=[64, 64],\n",
    "        \n",
    "        training_rounds=20,\n",
    "        action_representation_module=OneHotActionTensorRepresentationModule(\n",
    "            max_number_actions=num_actions\n",
    "        ),\n",
    "    ),\n",
    "    replay_buffer=FIFOOffPolicyReplayBuffer(10_000),\n",
    ")\n"
   ]
  },
  {
   "cell_type": "code",
   "execution_count": 16,
   "metadata": {},
   "outputs": [
    {
     "data": {
      "text/plain": [
       "DeepQLearning(\n",
       "  (_action_representation_module): OneHotActionTensorRepresentationModule()\n",
       "  (_history_summarization_module): IdentityHistorySummarizationModule()\n",
       "  (_Q): VanillaQValueNetwork(\n",
       "    (_model): Sequential(\n",
       "      (0): Sequential(\n",
       "        (0): Linear(in_features=12, out_features=64, bias=True)\n",
       "        (1): ReLU()\n",
       "      )\n",
       "      (1): Sequential(\n",
       "        (0): Linear(in_features=64, out_features=64, bias=True)\n",
       "        (1): ReLU()\n",
       "      )\n",
       "      (2): Sequential(\n",
       "        (0): Linear(in_features=64, out_features=1, bias=True)\n",
       "      )\n",
       "    )\n",
       "  )\n",
       "  (_Q_target): VanillaQValueNetwork(\n",
       "    (_model): Sequential(\n",
       "      (0): Sequential(\n",
       "        (0): Linear(in_features=12, out_features=64, bias=True)\n",
       "        (1): ReLU()\n",
       "      )\n",
       "      (1): Sequential(\n",
       "        (0): Linear(in_features=64, out_features=64, bias=True)\n",
       "        (1): ReLU()\n",
       "      )\n",
       "      (2): Sequential(\n",
       "        (0): Linear(in_features=64, out_features=1, bias=True)\n",
       "      )\n",
       "    )\n",
       "  )\n",
       "  (safety_module): IdentitySafetyModule()\n",
       ")"
      ]
     },
     "execution_count": 16,
     "metadata": {},
     "output_type": "execute_result"
    }
   ],
   "source": [
    "agent.policy_learner"
   ]
  },
  {
   "cell_type": "code",
   "execution_count": 20,
   "metadata": {},
   "outputs": [
    {
     "data": {
      "text/plain": [
       "((7,),\n",
       " <pearl.utils.instantiations.spaces.discrete_action.DiscreteActionSpace at 0x13b908490>)"
      ]
     },
     "execution_count": 20,
     "metadata": {},
     "output_type": "execute_result"
    }
   ],
   "source": [
    "\n",
    "observation, action_space = train_env.reset()\n",
    "observation.shape,action_space"
   ]
  },
  {
   "cell_type": "code",
   "execution_count": 21,
   "metadata": {},
   "outputs": [],
   "source": [
    "agent.reset(observation, action_space)"
   ]
  },
  {
   "cell_type": "code",
   "execution_count": 22,
   "metadata": {},
   "outputs": [
    {
     "data": {
      "text/plain": [
       "tensor([1])"
      ]
     },
     "execution_count": 22,
     "metadata": {},
     "output_type": "execute_result"
    }
   ],
   "source": [
    "action = agent.act(exploit=False)\n",
    "action\n"
   ]
  },
  {
   "cell_type": "code",
   "execution_count": 23,
   "metadata": {},
   "outputs": [
    {
     "data": {
      "text/plain": [
       "ActionResult(observation=array([-9.3599118e-04,  1.0003542e+00,  1.0065527e+00,  9.9897468e-01,\n",
       "        3.6814356e-01,  0.0000000e+00,  0.0000000e+00], dtype=float32), reward=np.float32(-0.000100005), terminated=False, truncated=False, info={'idx': 1, 'step': 1, 'date': np.datetime64('2024-08-07T10:00:00.000000000'), 'position_index': 1, 'position': 0, 'real_position': np.float64(0.0), 'data_volume': 0.25068, 'data_close': 57307.96, 'data_open': 57328.26, 'data_low': 57249.2, 'data_date_close': Timestamp('2024-08-07 11:00:00'), 'data_high': 57683.48, 'portfolio_valuation': np.float64(999.9), 'portfolio_distribution_asset': 0, 'portfolio_distribution_fiat': np.float64(999.9), 'portfolio_distribution_borrowed_asset': 0, 'portfolio_distribution_borrowed_fiat': 0, 'portfolio_distribution_interest_asset': 0.0, 'portfolio_distribution_interest_fiat': 0.0, 'reward': np.float64(-0.00010000500033334732)}, cost=None, available_action_space=None)"
      ]
     },
     "execution_count": 23,
     "metadata": {},
     "output_type": "execute_result"
    }
   ],
   "source": [
    "action_result = train_env.step(action)\n",
    "action_result"
   ]
  },
  {
   "cell_type": "code",
   "execution_count": 25,
   "metadata": {},
   "outputs": [],
   "source": [
    "losses=[]"
   ]
  },
  {
   "cell_type": "code",
   "execution_count": 26,
   "metadata": {},
   "outputs": [
    {
     "name": "stderr",
     "output_type": "stream",
     "text": [
      "  0%|          | 0/5 [00:00<?, ?it/s]"
     ]
    }
   ],
   "source": [
    "n_epochs=5\n",
    "for i in tqdm(range(n_epochs)):\n",
    "    observation, action_space = train_env.reset()\n",
    "    agent.reset(observation, action_space)\n",
    "    done = False\n",
    "    while not done:\n",
    "        action = agent.act(exploit=False)\n",
    "        action_result = train_env.step(action)\n",
    "        agent.observe(action_result)\n",
    "        loss=agent.learn()\n",
    "        [losses.append(l) for l in loss['loss']]\n",
    "        done = action_result.done\n"
   ]
  },
  {
   "cell_type": "code",
   "execution_count": null,
   "metadata": {},
   "outputs": [
    {
     "data": {
      "text/plain": [
       "{'loss': [0.0023811873979866505,\n",
       "  0.0017646002816036344,\n",
       "  0.0018055570544674993,\n",
       "  0.002175847301259637,\n",
       "  0.0022305184975266457,\n",
       "  0.0020160991698503494,\n",
       "  0.0020852205343544483,\n",
       "  0.0021684723906219006,\n",
       "  0.0024167594965547323,\n",
       "  0.002101665362715721,\n",
       "  0.0021944392938166857,\n",
       "  0.0021747038699686527,\n",
       "  0.0016727549955248833,\n",
       "  0.0019049221882596612,\n",
       "  0.002007229020819068,\n",
       "  0.001832782756537199,\n",
       "  0.0018944526091217995,\n",
       "  0.0019050651462748647,\n",
       "  0.0018286267295479774,\n",
       "  0.0024245483800768852]}"
      ]
     },
     "execution_count": 19,
     "metadata": {},
     "output_type": "execute_result"
    }
   ],
   "source": [
    "loss=agent.learn()\n",
    "loss"
   ]
  },
  {
   "cell_type": "code",
   "execution_count": null,
   "metadata": {},
   "outputs": [],
   "source": [
    "import matplotlib.pyplot as plt"
   ]
  },
  {
   "cell_type": "code",
   "execution_count": null,
   "metadata": {},
   "outputs": [
    {
     "data": {
      "text/plain": [
       "59100"
      ]
     },
     "execution_count": 21,
     "metadata": {},
     "output_type": "execute_result"
    }
   ],
   "source": [
    "len(losses)"
   ]
  },
  {
   "cell_type": "code",
   "execution_count": null,
   "metadata": {},
   "outputs": [
    {
     "data": {
      "text/plain": [
       "[<matplotlib.lines.Line2D at 0x14fc14b50>]"
      ]
     },
     "execution_count": 22,
     "metadata": {},
     "output_type": "execute_result"
    },
    {
     "data": {
      "image/png": "[encoded data removed]",
      "text/plain": [
       "<Figure size 640x480 with 1 Axes>"
      ]
     },
     "metadata": {},
     "output_type": "display_data"
    }
   ],
   "source": [
    "plt.plot(losses[:1000])"
   ]
  },
  {
   "cell_type": "code",
   "execution_count": null,
   "metadata": {},
   "outputs": [
    {
     "name": "stdout",
     "output_type": "stream",
     "text": [
      "Market Return :  2.78%   |   Portfolio Return : 12.65%   |   \n"
     ]
    }
   ],
   "source": [
    "observation, action_space = train_env.reset()\n",
    "agent.reset(observation, action_space)\n",
    "done = False\n",
    "while not done:\n",
    "    action = agent.act(exploit=True)\n",
    "    action_result = train_env.step(action)\n",
    "    agent.observe(action_result)\n",
    "    # loss=agent.learn()\n",
    "    # [losses.append(l) for l in loss['loss']]\n",
    "    done = action_result.done"
   ]
  },
  {
   "cell_type": "code",
   "execution_count": null,
   "metadata": {},
   "outputs": [],
   "source": [
    "og_env=train_env.env.unwrapped"
   ]
  },
  {
   "cell_type": "code",
   "execution_count": null,
   "metadata": {},
   "outputs": [],
   "source": [
    "og_env=train_env.env.unwrapped\n",
    "og_env.save_for_render('renders/Train_run')"
   ]
  },
  {
   "cell_type": "code",
   "execution_count": null,
   "metadata": {},
   "outputs": [],
   "source": [
    "from gym_trading_env.renderer import Renderer\n",
    "renderer = Renderer(render_logs_dir=\"render_logs\")\n",
    "\n",
    "# Add Custom Lines (Simple Moving Average)\n",
    "renderer.add_line( name= \"sma10\", function= lambda df : df[\"close\"].rolling(10).mean(), line_options ={\"width\" : 1, \"color\": \"purple\"})\n",
    "renderer.add_line( name= \"sma20\", function= lambda df : df[\"close\"].rolling(20).mean(), line_options ={\"width\" : 1, \"color\": \"blue\"})\n",
    "\n",
    "# renderer.run()"
   ]
  },
  {
   "cell_type": "code",
   "execution_count": null,
   "metadata": {},
   "outputs": [
    {
     "name": "stdout",
     "output_type": "stream",
     "text": [
      "Market Return : -8.10%   |   Portfolio Return :  7.74%   |   \n"
     ]
    }
   ],
   "source": [
    "observation, action_space = test_env.reset()\n",
    "agent.reset(observation, action_space)\n",
    "done = False\n",
    "while not done:\n",
    "    action = agent.act(exploit=True)\n",
    "    action_result = test_env.step(action)\n",
    "    agent.observe(action_result)\n",
    "    # loss=agent.learn()\n",
    "    done = action_result.done"
   ]
  },
  {
   "cell_type": "code",
   "execution_count": null,
   "metadata": {},
   "outputs": [],
   "source": [
    "og_env=test_env.env.unwrapped\n",
    "og_env.save_for_render('renders/Test_run')"
   ]
  },
  {
   "cell_type": "code",
   "execution_count": null,
   "metadata": {},
   "outputs": [],
   "source": [
    "renderer = Renderer(render_logs_dir=\"renders/Test_run\")\n",
    "\n",
    "# Add Custom Lines (Simple Moving Average)\n",
    "renderer.add_line( name= \"sma10\", function= lambda df : df[\"close\"].rolling(10).mean(), line_options ={\"width\" : 1, \"color\": \"purple\"})\n",
    "renderer.add_line( name= \"sma20\", function= lambda df : df[\"close\"].rolling(20).mean(), line_options ={\"width\" : 1, \"color\": \"blue\"})\n"
   ]
  },
  {
   "cell_type": "code",
   "execution_count": null,
   "metadata": {},
   "outputs": [
    {
     "name": "stdout",
     "output_type": "stream",
     "text": [
      " * Serving Flask app 'gym_trading_env.renderer'\n",
      " * Debug mode: off\n"
     ]
    },
    {
     "name": "stderr",
     "output_type": "stream",
     "text": [
      "INFO:werkzeug:\u001b[31m\u001b[1mWARNING: This is a development server. Do not use it in a production deployment. Use a production WSGI server instead.\u001b[0m\n",
      " * Running on http://127.0.0.1:5000\n",
      "INFO:werkzeug:\u001b[33mPress CTRL+C to quit\u001b[0m\n",
      "INFO:werkzeug:127.0.0.1 - - [06/Sep/2024 08:59:57] \"GET / HTTP/1.1\" 200 -\n",
      "INFO:werkzeug:127.0.0.1 - - [06/Sep/2024 08:59:57] \"GET /update_data/ICPUSD_2024-09-06_08-58-07.pkl HTTP/1.1\" 200 -\n",
      "INFO:werkzeug:127.0.0.1 - - [06/Sep/2024 08:59:57] \"GET /metrics HTTP/1.1\" 200 -\n"
     ]
    }
   ],
   "source": [
    "renderer.run()"
   ]
  },
  {
   "cell_type": "code",
   "execution_count": null,
   "metadata": {},
   "outputs": [],
   "source": [
    "timeframe='??'\n",
    "split_date='??' ## how much train datae to give the model before we test\n",
    "n_epochs='??'\n"
   ]
  }
 ],
 "metadata": {
  "kernelspec": {
   "display_name": "Python 3",
   "language": "python",
   "name": "python3"
  },
  "language_info": {
   "codemirror_mode": {
    "name": "ipython",
    "version": 3
   },
   "file_extension": ".py",
   "mimetype": "text/x-python",
   "name": "python",
   "nbconvert_exporter": "python",
   "pygments_lexer": "ipython3",
   "version": "3.10.13"
  }
 },
 "nbformat": 4,
 "nbformat_minor": 2
}
