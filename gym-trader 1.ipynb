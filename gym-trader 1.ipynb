{
 "cells": [
  {
   "cell_type": "markdown",
   "metadata": {},
   "source": [
    "## Required PIP Installations in Terminal Before Running Code"
   ]
  },
  {
   "cell_type": "code",
   "execution_count": 51,
   "metadata": {},
   "outputs": [],
   "source": [
    "# git clone https://github.com/facebookresearch/Pearl.git\n",
    "# cd Pearl\n",
    "# git install -e .\n",
    "# cd ..\n",
    "#\n",
    "# pip install gym-trading-env  \n",
    "\n"
   ]
  },
  {
   "cell_type": "code",
   "execution_count": 1,
   "metadata": {},
   "outputs": [
    {
     "name": "stderr",
     "output_type": "stream",
     "text": [
      "c:\\Users\\548253\\AppData\\Local\\anaconda3\\envs\\gym-trader5\\lib\\site-packages\\tqdm\\auto.py:21: TqdmWarning: IProgress not found. Please update jupyter and ipywidgets. See https://ipywidgets.readthedocs.io/en/stable/user_install.html\n",
      "  from .autonotebook import tqdm as notebook_tqdm\n"
     ]
    }
   ],
   "source": [
    "import gym_trading_env\n",
    "from gym_trading_env.downloader import download, EXCHANGE_LIMIT_RATES\n",
    "from gym_trading_env.renderer import Renderer\n",
    "import gymnasium as gym\n",
    "import datetime\n",
    "import pandas as pd\n",
    "import numpy as np\n",
    "import os # used to get current directory\n",
    "from tqdm.auto import tqdm\n",
    "import matplotlib.pyplot as plt\n",
    "from hyperopt import hp,tpe,fmin, STATUS_OK, Trials # for hyperparameterization\n",
    "from hyperopt.pyll.stochastic import sample\n",
    "\n",
    "# Import all the Pearl related methods\n",
    "from pearl.pearl_agent import PearlAgent\n",
    "from pearl.action_representation_modules.one_hot_action_representation_module import (\n",
    "    OneHotActionTensorRepresentationModule,\n",
    ")\n",
    "from pearl.policy_learners.sequential_decision_making.deep_q_learning import (\n",
    "    DeepQLearning,\n",
    ")\n",
    "from pearl.replay_buffers.sequential_decision_making.fifo_off_policy_replay_buffer import (\n",
    "    FIFOOffPolicyReplayBuffer,\n",
    ")\n",
    "from pearl.utils.instantiations.environments.gym_environment import GymEnvironment\n",
    "from pearl.policy_learners.sequential_decision_making.implicit_q_learning import ImplicitQLearning\n",
    "from pearl.utils.functional_utils.train_and_eval.offline_learning_and_evaluation import (\n",
    "    get_offline_data_in_buffer,\n",
    "    offline_evaluation,\n",
    "    offline_learning,\n",
    ")\n",
    "from pearl.neural_networks.sequential_decision_making.actor_networks import VanillaContinuousActorNetwork\n",
    "from pearl.pearl_agent import PearlAgent\n",
    "from pearl.action_representation_modules.one_hot_action_representation_module import (\n",
    "    OneHotActionTensorRepresentationModule,\n",
    ")\n",
    "from pearl.policy_learners.sequential_decision_making.deep_q_learning import (\n",
    "    DeepQLearning,\n",
    ")\n",
    "from pearl.replay_buffers.sequential_decision_making.fifo_off_policy_replay_buffer import (\n",
    "    FIFOOffPolicyReplayBuffer,\n",
    ")\n",
    "from pearl.utils.instantiations.environments.gym_environment import GymEnvironment\n",
    "import torch # used for calculating the mean when evaluating Pearl training performance\n",
    "\n",
    "##FOR USE WITH VANILLAQVALUENETWORK\n",
    "#from pearl.neural_networks.sequential_decision_making.q_value_networks import VanillaQValueNetwork\n",
    "\n",
    "experiment_seed = 42"
   ]
  },
  {
   "cell_type": "code",
   "execution_count": 14,
   "metadata": {},
   "outputs": [],
   "source": [
    "# run this twice\n",
    "import warnings\n",
    "warnings.simplefilter('ignore')"
   ]
  },
  {
   "cell_type": "code",
   "execution_count": 73,
   "metadata": {},
   "outputs": [
    {
     "name": "stdout",
     "output_type": "stream",
     "text": [
      "ICP/USDT downloaded from binanceus and stored at data/binanceus-ICPUSDT-1h.pkl\n"
     ]
    }
   ],
   "source": [
    "# Download data from site\n",
    "EXCHANGE_LIMIT_RATES[\"binanceus\"] = {\n",
    "    \"limit\" : 200, # One request will query 200 data points (aka candlesticks).\n",
    "    \"pause_every\" : 120, # it will pause every 120 requests.\n",
    "    \"pause\" : 2, # the pause will last 2 seconds.\n",
    "}\n",
    "download(\n",
    "    exchange_names = [\"binanceus\"],\n",
    "    symbols= [\"ICP/USDT\"],\n",
    "    timeframe= \"1h\",\n",
    "    dir = \"data\",\n",
    "    since= datetime.datetime(year= 2024, month= 9, day=1),\n",
    ")"
   ]
  },
  {
   "cell_type": "code",
   "execution_count": 74,
   "metadata": {},
   "outputs": [],
   "source": [
    "def get_data(filename: str):\n",
    "    if filename[:6] != \"./data/\":\n",
    "        filename = \"./data/\" + filename\n",
    "\n",
    "    # df is a DataFrame with original columns : \"open\", \"high\", \"low\", \"close\", \"Volume USD\"\n",
    "    df = pd.read_pickle(filename)\n",
    "\n",
    "    #df.sort_index(inplace= True)\n",
    "\n",
    "    # Create the feature : ( close[t] - close[t-1] )/ close[t-1]\n",
    "    df[\"feature_close\"] = df[\"close\"].pct_change()\n",
    "\n",
    "    # Create the feature : open[t] / close[t]\n",
    "    df[\"feature_open\"] = df[\"open\"]/df[\"close\"]\n",
    "\n",
    "    # Create the feature : high[t] / close[t]\n",
    "    df[\"feature_high\"] = df[\"high\"]/df[\"close\"]\n",
    "\n",
    "    # Create the feature : low[t] / close[t]\n",
    "    df[\"feature_low\"] = df[\"low\"]/df[\"close\"]\n",
    "\n",
    "    # Create the feature : volume[t] / max(*volume[t-7*24:t+1])\n",
    "    # Create the feature : volume[t] / max(*volume[2])\n",
    "    df[\"feature_volume\"] = df[\"volume\"] / df[\"volume\"].rolling(2).max()\n",
    "\n",
    "    # Simple moving averages of 10 and 5 units of time\n",
    "    df[\"feature_sma10\"] = df[\"close\"].rolling(10).mean()\n",
    "    df[\"feature_sma5\"] = df[\"close\"].rolling(5).mean()\n",
    "\n",
    "    df.dropna(inplace= True) # Clean again !\n",
    "    # Each step, the environment will return 5 inputs  : \"feature_close\", \"feature_open\", \"feature_high\", \"feature_low\", \"feature_volume\"\n",
    "\n",
    "    return df \n",
    "\n"
   ]
  },
  {
   "cell_type": "code",
   "execution_count": 75,
   "metadata": {},
   "outputs": [
    {
     "data": {
      "text/html": [
       "<div>\n",
       "<style scoped>\n",
       "    .dataframe tbody tr th:only-of-type {\n",
       "        vertical-align: middle;\n",
       "    }\n",
       "\n",
       "    .dataframe tbody tr th {\n",
       "        vertical-align: top;\n",
       "    }\n",
       "\n",
       "    .dataframe thead th {\n",
       "        text-align: right;\n",
       "    }\n",
       "</style>\n",
       "<table border=\"1\" class=\"dataframe\">\n",
       "  <thead>\n",
       "    <tr style=\"text-align: right;\">\n",
       "      <th></th>\n",
       "      <th>open</th>\n",
       "      <th>high</th>\n",
       "      <th>low</th>\n",
       "      <th>close</th>\n",
       "      <th>volume</th>\n",
       "      <th>date_close</th>\n",
       "      <th>feature_close</th>\n",
       "      <th>feature_open</th>\n",
       "      <th>feature_high</th>\n",
       "      <th>feature_low</th>\n",
       "      <th>feature_volume</th>\n",
       "      <th>feature_sma10</th>\n",
       "      <th>feature_sma5</th>\n",
       "    </tr>\n",
       "    <tr>\n",
       "      <th>date_open</th>\n",
       "      <th></th>\n",
       "      <th></th>\n",
       "      <th></th>\n",
       "      <th></th>\n",
       "      <th></th>\n",
       "      <th></th>\n",
       "      <th></th>\n",
       "      <th></th>\n",
       "      <th></th>\n",
       "      <th></th>\n",
       "      <th></th>\n",
       "      <th></th>\n",
       "      <th></th>\n",
       "    </tr>\n",
       "  </thead>\n",
       "  <tbody>\n",
       "    <tr>\n",
       "      <th>2024-09-01 01:00:00</th>\n",
       "      <td>7.526</td>\n",
       "      <td>7.526</td>\n",
       "      <td>7.484</td>\n",
       "      <td>7.484</td>\n",
       "      <td>1.74</td>\n",
       "      <td>2024-09-01 02:00:00</td>\n",
       "      <td>-0.008610</td>\n",
       "      <td>1.005612</td>\n",
       "      <td>1.005612</td>\n",
       "      <td>1.000000</td>\n",
       "      <td>1.000000</td>\n",
       "      <td>7.5221</td>\n",
       "      <td>7.5436</td>\n",
       "    </tr>\n",
       "    <tr>\n",
       "      <th>2024-09-01 02:00:00</th>\n",
       "      <td>7.436</td>\n",
       "      <td>7.436</td>\n",
       "      <td>7.436</td>\n",
       "      <td>7.436</td>\n",
       "      <td>27.14</td>\n",
       "      <td>2024-09-01 03:00:00</td>\n",
       "      <td>-0.006414</td>\n",
       "      <td>1.000000</td>\n",
       "      <td>1.000000</td>\n",
       "      <td>1.000000</td>\n",
       "      <td>1.000000</td>\n",
       "      <td>7.5173</td>\n",
       "      <td>7.5172</td>\n",
       "    </tr>\n",
       "    <tr>\n",
       "      <th>2024-09-01 03:00:00</th>\n",
       "      <td>7.436</td>\n",
       "      <td>7.436</td>\n",
       "      <td>7.436</td>\n",
       "      <td>7.436</td>\n",
       "      <td>0.00</td>\n",
       "      <td>2024-09-01 04:00:00</td>\n",
       "      <td>0.000000</td>\n",
       "      <td>1.000000</td>\n",
       "      <td>1.000000</td>\n",
       "      <td>1.000000</td>\n",
       "      <td>0.000000</td>\n",
       "      <td>7.5124</td>\n",
       "      <td>7.4908</td>\n",
       "    </tr>\n",
       "    <tr>\n",
       "      <th>2024-09-01 05:00:00</th>\n",
       "      <td>7.375</td>\n",
       "      <td>7.375</td>\n",
       "      <td>7.360</td>\n",
       "      <td>7.360</td>\n",
       "      <td>16.01</td>\n",
       "      <td>2024-09-01 06:00:00</td>\n",
       "      <td>-0.010221</td>\n",
       "      <td>1.002038</td>\n",
       "      <td>1.002038</td>\n",
       "      <td>1.000000</td>\n",
       "      <td>1.000000</td>\n",
       "      <td>7.4890</td>\n",
       "      <td>7.4304</td>\n",
       "    </tr>\n",
       "    <tr>\n",
       "      <th>2024-09-01 06:00:00</th>\n",
       "      <td>7.360</td>\n",
       "      <td>7.360</td>\n",
       "      <td>7.360</td>\n",
       "      <td>7.360</td>\n",
       "      <td>0.00</td>\n",
       "      <td>2024-09-01 07:00:00</td>\n",
       "      <td>0.000000</td>\n",
       "      <td>1.000000</td>\n",
       "      <td>1.000000</td>\n",
       "      <td>1.000000</td>\n",
       "      <td>0.000000</td>\n",
       "      <td>7.4746</td>\n",
       "      <td>7.4056</td>\n",
       "    </tr>\n",
       "    <tr>\n",
       "      <th>...</th>\n",
       "      <td>...</td>\n",
       "      <td>...</td>\n",
       "      <td>...</td>\n",
       "      <td>...</td>\n",
       "      <td>...</td>\n",
       "      <td>...</td>\n",
       "      <td>...</td>\n",
       "      <td>...</td>\n",
       "      <td>...</td>\n",
       "      <td>...</td>\n",
       "      <td>...</td>\n",
       "      <td>...</td>\n",
       "      <td>...</td>\n",
       "    </tr>\n",
       "    <tr>\n",
       "      <th>2024-10-01 02:00:00</th>\n",
       "      <td>9.046</td>\n",
       "      <td>9.097</td>\n",
       "      <td>9.046</td>\n",
       "      <td>9.097</td>\n",
       "      <td>1.44</td>\n",
       "      <td>2024-10-01 03:00:00</td>\n",
       "      <td>-0.002741</td>\n",
       "      <td>0.994394</td>\n",
       "      <td>1.000000</td>\n",
       "      <td>0.994394</td>\n",
       "      <td>0.200837</td>\n",
       "      <td>9.0989</td>\n",
       "      <td>9.0630</td>\n",
       "    </tr>\n",
       "    <tr>\n",
       "      <th>2024-10-01 03:00:00</th>\n",
       "      <td>9.148</td>\n",
       "      <td>9.245</td>\n",
       "      <td>9.148</td>\n",
       "      <td>9.245</td>\n",
       "      <td>21.90</td>\n",
       "      <td>2024-10-01 04:00:00</td>\n",
       "      <td>0.016269</td>\n",
       "      <td>0.989508</td>\n",
       "      <td>1.000000</td>\n",
       "      <td>0.989508</td>\n",
       "      <td>1.000000</td>\n",
       "      <td>9.1086</td>\n",
       "      <td>9.1018</td>\n",
       "    </tr>\n",
       "    <tr>\n",
       "      <th>2024-10-01 04:00:00</th>\n",
       "      <td>9.250</td>\n",
       "      <td>9.286</td>\n",
       "      <td>9.227</td>\n",
       "      <td>9.286</td>\n",
       "      <td>40.04</td>\n",
       "      <td>2024-10-01 05:00:00</td>\n",
       "      <td>0.004435</td>\n",
       "      <td>0.996123</td>\n",
       "      <td>1.000000</td>\n",
       "      <td>0.993646</td>\n",
       "      <td>1.000000</td>\n",
       "      <td>9.1275</td>\n",
       "      <td>9.1598</td>\n",
       "    </tr>\n",
       "    <tr>\n",
       "      <th>2024-10-01 05:00:00</th>\n",
       "      <td>9.274</td>\n",
       "      <td>9.274</td>\n",
       "      <td>9.190</td>\n",
       "      <td>9.190</td>\n",
       "      <td>44.25</td>\n",
       "      <td>2024-10-01 06:00:00</td>\n",
       "      <td>-0.010338</td>\n",
       "      <td>1.009140</td>\n",
       "      <td>1.009140</td>\n",
       "      <td>1.000000</td>\n",
       "      <td>1.000000</td>\n",
       "      <td>9.1317</td>\n",
       "      <td>9.1880</td>\n",
       "    </tr>\n",
       "    <tr>\n",
       "      <th>2024-10-01 06:00:00</th>\n",
       "      <td>9.250</td>\n",
       "      <td>9.329</td>\n",
       "      <td>9.250</td>\n",
       "      <td>9.329</td>\n",
       "      <td>34.29</td>\n",
       "      <td>2024-10-01 07:00:00</td>\n",
       "      <td>0.015125</td>\n",
       "      <td>0.991532</td>\n",
       "      <td>1.000000</td>\n",
       "      <td>0.991532</td>\n",
       "      <td>0.774915</td>\n",
       "      <td>9.1482</td>\n",
       "      <td>9.2294</td>\n",
       "    </tr>\n",
       "  </tbody>\n",
       "</table>\n",
       "<p>709 rows × 13 columns</p>\n",
       "</div>"
      ],
      "text/plain": [
       "                      open   high    low  close  volume          date_close  \\\n",
       "date_open                                                                     \n",
       "2024-09-01 01:00:00  7.526  7.526  7.484  7.484    1.74 2024-09-01 02:00:00   \n",
       "2024-09-01 02:00:00  7.436  7.436  7.436  7.436   27.14 2024-09-01 03:00:00   \n",
       "2024-09-01 03:00:00  7.436  7.436  7.436  7.436    0.00 2024-09-01 04:00:00   \n",
       "2024-09-01 05:00:00  7.375  7.375  7.360  7.360   16.01 2024-09-01 06:00:00   \n",
       "2024-09-01 06:00:00  7.360  7.360  7.360  7.360    0.00 2024-09-01 07:00:00   \n",
       "...                    ...    ...    ...    ...     ...                 ...   \n",
       "2024-10-01 02:00:00  9.046  9.097  9.046  9.097    1.44 2024-10-01 03:00:00   \n",
       "2024-10-01 03:00:00  9.148  9.245  9.148  9.245   21.90 2024-10-01 04:00:00   \n",
       "2024-10-01 04:00:00  9.250  9.286  9.227  9.286   40.04 2024-10-01 05:00:00   \n",
       "2024-10-01 05:00:00  9.274  9.274  9.190  9.190   44.25 2024-10-01 06:00:00   \n",
       "2024-10-01 06:00:00  9.250  9.329  9.250  9.329   34.29 2024-10-01 07:00:00   \n",
       "\n",
       "                     feature_close  feature_open  feature_high  feature_low  \\\n",
       "date_open                                                                     \n",
       "2024-09-01 01:00:00      -0.008610      1.005612      1.005612     1.000000   \n",
       "2024-09-01 02:00:00      -0.006414      1.000000      1.000000     1.000000   \n",
       "2024-09-01 03:00:00       0.000000      1.000000      1.000000     1.000000   \n",
       "2024-09-01 05:00:00      -0.010221      1.002038      1.002038     1.000000   \n",
       "2024-09-01 06:00:00       0.000000      1.000000      1.000000     1.000000   \n",
       "...                            ...           ...           ...          ...   \n",
       "2024-10-01 02:00:00      -0.002741      0.994394      1.000000     0.994394   \n",
       "2024-10-01 03:00:00       0.016269      0.989508      1.000000     0.989508   \n",
       "2024-10-01 04:00:00       0.004435      0.996123      1.000000     0.993646   \n",
       "2024-10-01 05:00:00      -0.010338      1.009140      1.009140     1.000000   \n",
       "2024-10-01 06:00:00       0.015125      0.991532      1.000000     0.991532   \n",
       "\n",
       "                     feature_volume  feature_sma10  feature_sma5  \n",
       "date_open                                                         \n",
       "2024-09-01 01:00:00        1.000000         7.5221        7.5436  \n",
       "2024-09-01 02:00:00        1.000000         7.5173        7.5172  \n",
       "2024-09-01 03:00:00        0.000000         7.5124        7.4908  \n",
       "2024-09-01 05:00:00        1.000000         7.4890        7.4304  \n",
       "2024-09-01 06:00:00        0.000000         7.4746        7.4056  \n",
       "...                             ...            ...           ...  \n",
       "2024-10-01 02:00:00        0.200837         9.0989        9.0630  \n",
       "2024-10-01 03:00:00        1.000000         9.1086        9.1018  \n",
       "2024-10-01 04:00:00        1.000000         9.1275        9.1598  \n",
       "2024-10-01 05:00:00        1.000000         9.1317        9.1880  \n",
       "2024-10-01 06:00:00        0.774915         9.1482        9.2294  \n",
       "\n",
       "[709 rows x 13 columns]"
      ]
     },
     "execution_count": 75,
     "metadata": {},
     "output_type": "execute_result"
    }
   ],
   "source": [
    "df = get_data(\"binanceus-ICPUSDT-1h.pkl\")\n",
    "df"
   ]
  },
  {
   "cell_type": "markdown",
   "metadata": {},
   "source": [
    "## Split the data into train and test data; need consecutive dates in each"
   ]
  },
  {
   "cell_type": "code",
   "execution_count": 76,
   "metadata": {},
   "outputs": [],
   "source": [
    "split_date=pd.to_datetime('09/25/2024')\n",
    "train_df=df[:split_date];\n",
    "test_df=df[split_date:];\n"
   ]
  },
  {
   "cell_type": "markdown",
   "metadata": {},
   "source": [
    "## Define Reward Functions"
   ]
  },
  {
   "cell_type": "code",
   "execution_count": 77,
   "metadata": {},
   "outputs": [],
   "source": [
    "# function is a logarithm of the quotient of the last last 2 timesteps (one hour apart)\n",
    "def log_reward_function(history):\n",
    "        return np.log(history[\"portfolio_valuation\", -1] / history[\"portfolio_valuation\", -2])\n",
    "\n",
    "# function is the difference between the last 2 time steps\n",
    "def diff_reward_function(history):\n",
    "        return history[\"portfolio_valuation\", -1] - history[\"portfolio_valuation\", -2]\n",
    "\n",
    "# An total growth of the portfolio since first timestep\n",
    "def cumulative_reward_function(history):\n",
    "        return np.diff(history[\"portfolio_valuation\", -1] , history[\"portfolio_valuation\", 0])/len(history[\"portfolio_valuation\"])\n",
    "\n",
    "# Shape Ratio reward function\n",
    "def shape_reward_function(history):\n",
    "        return history[\"portfolio_valuation\", -1] /np.std(history[\"portfolio_valuation\"])\n",
    "\n",
    "# Final evaluation (total portfolio increase/decrease)\n",
    "def final_evalulation(history):\n",
    "        return (history[\"portfolio_valuation\", -1] / history[\"portfolio_valuation\", 0]) - 1\n",
    "\n",
    "def n_trades(history):\n",
    "        return sum(np.abs(np.diff(history['position'])))"
   ]
  },
  {
   "cell_type": "code",
   "execution_count": 78,
   "metadata": {},
   "outputs": [],
   "source": [
    "def make_env(env_name, df, positions, reward_function, trading_fees, daily_borrow_interest=0.000072):\n",
    "# Trading Fees and Daily Borrow Interest are ratios (so percent / 100)\n",
    "#\n",
    "# Positions are the actions the agent can take (buy/sell/short/nothing) as ranges -inf to inf including decimal values.\n",
    "# These are the possible actions our agent will take. Sample values:\n",
    "#      1 = Long entire portfolio value = spend entire portfolio value on buying X, betting the price of X will rise and can sell for a profit\n",
    "#     -1 = Short entire portfolio value = Borrow & immediately sell X worth the entire portfolio value, betting the price of X will drop and can buy back\n",
    "#     0.5= Long half portfolio value\n",
    "#      2 = Long double portfolio value = Borrow $ equal to your portfolio then spend that + original portfolio value buying X, betting X will rise and can sell for a profit\n",
    "#     -2 = Short double portfolio value\n",
    "#      0 = Do nothing at this time\n",
    "\n",
    "    # Calculate the interest rate based off the amount of time between timesteps compared\n",
    "    # to the daily interest rate (daily_borrow_interest)\n",
    "    timestep_size = df.index[1]-df.index[0]\n",
    "    borrow_interest_per_timestep = daily_borrow_interest * timestep_size / pd.Timedelta(\"1 day\")\n",
    "    \n",
    "    env = gym.make(\"TradingEnv\",\n",
    "             name = env_name,\n",
    "             df = df,\n",
    "             positions = positions,\n",
    "             reward_function = reward_function,\n",
    "             trading_fees = trading_fees / 100,\n",
    "             borrow_interest_rate = borrow_interest_per_timestep,\n",
    "        )\n",
    "    \n",
    "    env.add_metric(name=\"position_change\", function=n_trades)\n",
    "\n",
    "    return env\n",
    "\n"
   ]
  },
  {
   "cell_type": "code",
   "execution_count": 79,
   "metadata": {},
   "outputs": [],
   "source": [
    "\n",
    "# reward_function = log_reward_function\n",
    "# train_env = gym.make(\"TradingEnv\",\n",
    "#         name= \"ICPUSD\",\n",
    "#         df = train_df,\n",
    "#         positions = [ -1, 0, 1], # -1 (=SHORT), 0(=OUT), +1 (=LONG)\n",
    "#         reward_function = reward_function,\n",
    "#         trading_fees = 0.01/100, # 0.01% per stock buy / sell (Binance fees)\n",
    "#         borrow_interest_rate= 0.0003/100, # 0.0003% per timestep (one timestep = 1h here)\n",
    "#     )\n"
   ]
  },
  {
   "cell_type": "code",
   "execution_count": 80,
   "metadata": {},
   "outputs": [],
   "source": [
    "train_env_name = \"ICP 1-Hour Train\"\n",
    "test_env_name = \"ICP 1-Hour Test\"\n",
    "reward_function = log_reward_function\n",
    "positions = [ -1, 0, 1]\n",
    "trading_fees = 0.01 / 100 # 0.01% per stock buy / sell (Binance fees)\n",
    "daily_rate = 0.000072 # 0.0072% daily interest\n",
    "\n",
    "train_env = make_env(train_env_name, train_df, positions, reward_function, trading_fees, daily_rate)\n",
    "test_env = make_env(test_env_name, test_df, positions, reward_function, trading_fees, daily_rate)\n",
    "\n",
    "train_env_original = train_env\n",
    "test_env_original = test_env"
   ]
  },
  {
   "cell_type": "code",
   "execution_count": 81,
   "metadata": {},
   "outputs": [
    {
     "data": {
      "text/plain": [
       "{'idx': 0,\n",
       " 'step': 0,\n",
       " 'date': np.datetime64('2024-09-01T01:00:00.000000000'),\n",
       " 'position_index': 1,\n",
       " 'position': np.int64(0),\n",
       " 'real_position': np.int64(0),\n",
       " 'data_date_close': Timestamp('2024-09-01 02:00:00'),\n",
       " 'data_volume': 1.74,\n",
       " 'data_high': 7.526,\n",
       " 'data_low': 7.484,\n",
       " 'data_close': 7.484,\n",
       " 'data_open': 7.526,\n",
       " 'portfolio_valuation': 1000.0,\n",
       " 'portfolio_distribution_asset': 0,\n",
       " 'portfolio_distribution_fiat': np.float64(1000.0),\n",
       " 'portfolio_distribution_borrowed_asset': 0,\n",
       " 'portfolio_distribution_borrowed_fiat': 0,\n",
       " 'portfolio_distribution_interest_asset': 0,\n",
       " 'portfolio_distribution_interest_fiat': 0,\n",
       " 'reward': 0}"
      ]
     },
     "execution_count": 81,
     "metadata": {},
     "output_type": "execute_result"
    }
   ],
   "source": [
    "obs,info=train_env.reset()\n",
    "info"
   ]
  },
  {
   "cell_type": "markdown",
   "metadata": {},
   "source": [
    "## Make Wrapper Environment for Pearl"
   ]
  },
  {
   "cell_type": "code",
   "execution_count": 106,
   "metadata": {},
   "outputs": [],
   "source": [
    "def train_model(\n",
    "        train_env, \n",
    "        epochs=5, \n",
    "        hidden_dims=[64, 64], \n",
    "        training_rounds=20,\n",
    "        learning_rate = 0.001,\n",
    "        discount_factor = 0.99,\n",
    "        batch_size = 128,\n",
    "        target_update_freq = 10,\n",
    "        soft_update_tau = 0.75,  # a value of 1 indicates no soft updates\n",
    "        is_conservative = False,\n",
    "        conservative_alpha = False,\n",
    "        **kwargs):\n",
    "    \n",
    "    # Apply Pearl Wrapper to the training environment; makes it easier for Pearl to interact with\n",
    "    train_env = GymEnvironment(train_env)\n",
    "    \n",
    "    num_actions = train_env.action_space.n\n",
    "    agent = PearlAgent(\n",
    "        policy_learner=DeepQLearning(\n",
    "        state_dim=train_env.observation_space.shape[0],\n",
    "        action_space=train_env.action_space, \n",
    "        hidden_dims=list(hidden_dims),\n",
    "        training_rounds=training_rounds,\n",
    "        learning_rate = learning_rate,\n",
    "        discount_factor = discount_factor,\n",
    "        batch_size = batch_size,\n",
    "        target_update_freq = target_update_freq,\n",
    "        soft_update_tau = soft_update_tau,  # a value of 1 indicates no soft updates\n",
    "        is_conservative = is_conservative,\n",
    "        conservative_alpha = conservative_alpha,\n",
    "        action_representation_module=OneHotActionTensorRepresentationModule(\n",
    "            max_number_actions=num_actions\n",
    "        ),\n",
    "    ),\n",
    "    replay_buffer=FIFOOffPolicyReplayBuffer(10_000),\n",
    "    )\n",
    "\n",
    "    losses=[]\n",
    "    \n",
    "    n_epochs=epochs\n",
    "    for i in tqdm(range(n_epochs)):\n",
    "        observation, action_space = train_env.reset()\n",
    "        agent.reset(observation, action_space)\n",
    "        done = False\n",
    "        while not done:\n",
    "            action = agent.act(exploit=False)\n",
    "            action_result = train_env.step(action)\n",
    "            \n",
    "            agent.observe(action_result)\n",
    "            loss=agent.learn()\n",
    "            [losses.append(l) for l in loss['loss']]\n",
    "            done = action_result.done\n",
    "\n",
    "    # For plotting purposes, limit all loss values to 1 so the scale of huge\n",
    "    # losses do not make all other lososes look like 0\n",
    "    # Ex: first loss 6,000 whereas other losses are 0.07\n",
    "    losses = [min(loss, 1) for loss in losses]\n",
    "\n",
    "    plt.plot(losses[:1000])\n",
    "\n",
    "    # Unwrap the Pearl-wrapped environment\n",
    "    train_env=train_env.env.unwrapped\n",
    "\n",
    "    return agent\n",
    "\n",
    "def test_model(test_env, agent):\n",
    "    # Apply Pearl Wrapper to the training environment; makes it easier for Pearl to interact with\n",
    "    test_env = GymEnvironment(test_env)\n",
    "    observation, action_space = test_env.reset()\n",
    "    agent.reset(observation, action_space)\n",
    "    done = False\n",
    "    while not done:\n",
    "        action = agent.act(exploit=True)\n",
    "        action_result = test_env.step(action)\n",
    "        agent.observe(action_result)\n",
    "        # no agent.learn() while testing\n",
    "        done = action_result.done\n",
    "    \n",
    "    # Get back the original test environment (get it out of its Pearl wrapper)\n",
    "    test_env=test_env.env.unwrapped\n",
    "\n",
    "    # Return the negative portfolio value because fmax isn't available to maximize portfolio,\n",
    "    # so to maximize it need to minimize the negative portfolio value\n",
    "\n",
    "    loss = {'loss': -final_evalulation(test_env.historical_info),\n",
    "            'status': STATUS_OK}\n",
    "            # don't add 'Trained_Model': agent since it may run out of memory\n",
    "    return loss\n",
    "    # return test_env\n",
    "\n",
    "\n",
    "# def train_test_model(train_env, test_env, epochs=5, hidden_dims=[64, 64], training_rounds=20):\n",
    "#     agent = train_model(train_env, epochs, hidden_dims, training_rounds)\n",
    "#     return test_model(test_env, agent)\n",
    "\n",
    "def train_test_model(params):\n",
    "    train_env = params['train_env']\n",
    "    test_env = params['test_env']\n",
    "    agent = train_model(**params)\n",
    "    return test_model(test_env, agent)\n",
    "\n",
    "\n",
    "# def f(params):\n",
    "#     epochs = params['epochs']\n",
    "#     hidden_dims = ['hidden_dims']"
   ]
  },
  {
   "cell_type": "code",
   "execution_count": 85,
   "metadata": {},
   "outputs": [
    {
     "name": "stderr",
     "output_type": "stream",
     "text": [
      " 50%|█████     | 1/2 [01:13<01:13, 73.70s/it]"
     ]
    },
    {
     "name": "stdout",
     "output_type": "stream",
     "text": [
      "Market Return : 26.39%   |   Portfolio Return : -1.34%   |   position_change : 616   |   \n"
     ]
    },
    {
     "name": "stderr",
     "output_type": "stream",
     "text": [
      "100%|██████████| 2/2 [02:20<00:00, 70.38s/it]"
     ]
    },
    {
     "name": "stdout",
     "output_type": "stream",
     "text": [
      "Market Return : 26.39%   |   Portfolio Return : 28.74%   |   position_change : 477   |   \n"
     ]
    },
    {
     "name": "stderr",
     "output_type": "stream",
     "text": [
      "\n"
     ]
    },
    {
     "data": {
      "image/png": "[encoded data removed]",
      "text/plain": [
       "<Figure size 640x480 with 1 Axes>"
      ]
     },
     "metadata": {},
     "output_type": "display_data"
    }
   ],
   "source": [
    "# epochs = 5\n",
    "# hidden_dims = [64, 64]\n",
    "# training_rounds = 20\n",
    "\n",
    "simple_params = {\n",
    "'train_env': train_env,\n",
    "'test_env': test_env,\n",
    "'epochs':2,\n",
    "'hidden_dims':[64, 64],\n",
    "'training_rounds':20\n",
    "}\n",
    "\n",
    "\n",
    "\n",
    "agent = train_model(**simple_params)"
   ]
  },
  {
   "cell_type": "code",
   "execution_count": 86,
   "metadata": {},
   "outputs": [
    {
     "data": {
      "text/plain": [
       "DeepQLearning(\n",
       "  (_action_representation_module): OneHotActionTensorRepresentationModule()\n",
       "  (_history_summarization_module): IdentityHistorySummarizationModule()\n",
       "  (_Q): VanillaQValueNetwork(\n",
       "    (_model): Sequential(\n",
       "      (0): Sequential(\n",
       "        (0): Linear(in_features=12, out_features=64, bias=True)\n",
       "        (1): ReLU()\n",
       "      )\n",
       "      (1): Sequential(\n",
       "        (0): Linear(in_features=64, out_features=64, bias=True)\n",
       "        (1): ReLU()\n",
       "      )\n",
       "      (2): Sequential(\n",
       "        (0): Linear(in_features=64, out_features=1, bias=True)\n",
       "      )\n",
       "    )\n",
       "  )\n",
       "  (_Q_target): VanillaQValueNetwork(\n",
       "    (_model): Sequential(\n",
       "      (0): Sequential(\n",
       "        (0): Linear(in_features=12, out_features=64, bias=True)\n",
       "        (1): ReLU()\n",
       "      )\n",
       "      (1): Sequential(\n",
       "        (0): Linear(in_features=64, out_features=64, bias=True)\n",
       "        (1): ReLU()\n",
       "      )\n",
       "      (2): Sequential(\n",
       "        (0): Linear(in_features=64, out_features=1, bias=True)\n",
       "      )\n",
       "    )\n",
       "  )\n",
       "  (safety_module): IdentitySafetyModule()\n",
       ")"
      ]
     },
     "execution_count": 86,
     "metadata": {},
     "output_type": "execute_result"
    }
   ],
   "source": [
    "agent.policy_learner"
   ]
  },
  {
   "cell_type": "code",
   "execution_count": 87,
   "metadata": {},
   "outputs": [
    {
     "name": "stdout",
     "output_type": "stream",
     "text": [
      "Market Return : -1.37%   |   Portfolio Return : -9.77%   |   position_change : 102   |   \n",
      "{'loss': np.float64(0.09774537993289467), 'status': 'ok'}\n"
     ]
    }
   ],
   "source": [
    "portfolio_return = test_model(test_env, agent)\n",
    "print(portfolio_return)"
   ]
  },
  {
   "cell_type": "code",
   "execution_count": 88,
   "metadata": {},
   "outputs": [],
   "source": [
    "# Short version of search_space\n",
    "# search_space={\n",
    "# 'train_env': train_env,\n",
    "# 'test_env': test_env,\n",
    "# 'epochs':hp.randint('epochs',2,5),\n",
    "# 'hidden_dims':hp.choice('hidden_dims',[[64,64],[128,128]]),\n",
    "# 'training_rounds':hp.randint('training_rounds', 5, 10)\n",
    "# }\n",
    "\n"
   ]
  },
  {
   "cell_type": "code",
   "execution_count": 90,
   "metadata": {},
   "outputs": [],
   "source": [
    "search_space={\n",
    "'train_env': train_env,\n",
    "'test_env': test_env,\n",
    "'epochs': hp.randint('epochs',2,10),\n",
    "'hidden_dims': hp.choice('hidden_dims',[[64,64],[128,128], [256, 256]]),\n",
    "'training_rounds': hp.randint('training_rounds', 5, 30),\n",
    "'learning_rate': hp.loguniform('learning_rate', 1e-6, 1e-1),\n",
    "'discount_factor': hp.uniform('discount_factor', 0.8, 0.99), # gamma (greediness)\n",
    "'batch_size': hp.choice('batch_size', [64, 128]),\n",
    "'target_update_freq': hp.choice('target_update_freq', [1, 5, 10, 24]),\n",
    "'soft_update_tau': hp.uniform('soft_update_tau', 0.1, .99), \n",
    "'is_conservative': hp.choice('is_conservative', [True, False]),\n",
    "'conservative_alpha': hp.uniform('conservative_alpha', 0.5, 1.0),\n",
    "}"
   ]
  },
  {
   "cell_type": "code",
   "execution_count": 91,
   "metadata": {},
   "outputs": [],
   "source": [
    "# dir(bla.historical_info)"
   ]
  },
  {
   "cell_type": "code",
   "execution_count": 92,
   "metadata": {},
   "outputs": [],
   "source": [
    "#bla.historical_info.columns\n",
    "#bla.historical_info['position']\n",
    "#sum(np.abs(np.diff(bla.historical_info['position'])))"
   ]
  },
  {
   "cell_type": "code",
   "execution_count": 93,
   "metadata": {},
   "outputs": [],
   "source": [
    "# def f(params):\n",
    "#     epochs = params['epochs']\n",
    "#     hidden_dims = ['hidden_dims']"
   ]
  },
  {
   "cell_type": "code",
   "execution_count": 94,
   "metadata": {},
   "outputs": [
    {
     "name": "stdout",
     "output_type": "stream",
     "text": [
      "  0%|          | 0/10 [00:00<?, ?trial/s, best loss=?]"
     ]
    },
    {
     "name": "stderr",
     "output_type": "stream",
     "text": [
      "  0%|          | 0/6 [00:00<?, ?it/s]\n"
     ]
    },
    {
     "name": "stdout",
     "output_type": "stream",
     "text": [
      "Market Return : 26.39%   |   Portfolio Return : -25.61%   |   position_change : 50   |   \n",
      "  0%|          | 0/10 [03:59<?, ?trial/s, best loss=?]"
     ]
    },
    {
     "name": "stderr",
     "output_type": "stream",
     "text": [
      " 17%|#6        | 1/6 [04:00<20:03, 240.62s/it]\n"
     ]
    },
    {
     "name": "stdout",
     "output_type": "stream",
     "text": [
      "Market Return : 26.39%   |   Portfolio Return : -21.56%   |   position_change : 50   |   \n",
      "  0%|          | 0/10 [07:58<?, ?trial/s, best loss=?]"
     ]
    },
    {
     "name": "stderr",
     "output_type": "stream",
     "text": [
      " 33%|###3      | 2/6 [07:58<15:55, 238.93s/it]\n"
     ]
    },
    {
     "name": "stdout",
     "output_type": "stream",
     "text": [
      "Market Return : 26.39%   |   Portfolio Return : -22.12%   |   position_change : 64   |   \n",
      "  0%|          | 0/10 [10:18<?, ?trial/s, best loss=?]"
     ]
    },
    {
     "name": "stderr",
     "output_type": "stream",
     "text": [
      " 50%|#####     | 3/6 [10:18<09:41, 193.77s/it]\n"
     ]
    },
    {
     "name": "stdout",
     "output_type": "stream",
     "text": [
      "Market Return : 26.39%   |   Portfolio Return : -23.88%   |   position_change : 32   |   \n",
      "  0%|          | 0/10 [12:46<?, ?trial/s, best loss=?]"
     ]
    },
    {
     "name": "stderr",
     "output_type": "stream",
     "text": [
      " 67%|######6   | 4/6 [12:46<05:51, 175.82s/it]\n"
     ]
    },
    {
     "name": "stdout",
     "output_type": "stream",
     "text": [
      "Market Return : 26.39%   |   Portfolio Return : -24.45%   |   position_change : 34   |   \n",
      "  0%|          | 0/10 [15:11<?, ?trial/s, best loss=?]"
     ]
    },
    {
     "name": "stderr",
     "output_type": "stream",
     "text": [
      " 83%|########3 | 5/6 [15:12<02:44, 164.88s/it]\n"
     ]
    },
    {
     "name": "stdout",
     "output_type": "stream",
     "text": [
      "Market Return : 26.39%   |   Portfolio Return : -23.94%   |   position_change : 64   |   \n",
      "  0%|          | 0/10 [17:44<?, ?trial/s, best loss=?]"
     ]
    },
    {
     "name": "stderr",
     "output_type": "stream",
     "text": [
      "100%|##########| 6/6 [17:44<00:00, 160.65s/it]\n",
      "100%|##########| 6/6 [17:44<00:00, 177.43s/it]\n"
     ]
    },
    {
     "name": "stdout",
     "output_type": "stream",
     "text": [
      "Market Return : -1.37%   |   Portfolio Return :  1.37%   |   position_change : 2   |   \n",
      " 10%|█         | 1/10 [17:44<2:39:42, 1064.75s/trial, best loss: -0.013738538436954384]"
     ]
    },
    {
     "name": "stderr",
     "output_type": "stream",
     "text": [
      "  0%|          | 0/5 [00:00<?, ?it/s]\n"
     ]
    },
    {
     "name": "stdout",
     "output_type": "stream",
     "text": [
      "Market Return : 26.39%   |   Portfolio Return : -27.47%   |   position_change : 52   |   \n",
      " 10%|█         | 1/10 [21:24<2:39:42, 1064.75s/trial, best loss: -0.013738538436954384]"
     ]
    },
    {
     "name": "stderr",
     "output_type": "stream",
     "text": [
      " 20%|##        | 1/5 [03:39<14:39, 219.76s/it]\n"
     ]
    },
    {
     "name": "stdout",
     "output_type": "stream",
     "text": [
      "Market Return : 26.39%   |   Portfolio Return : -20.51%   |   position_change : 28   |   \n",
      " 10%|█         | 1/10 [26:11<2:39:42, 1064.75s/trial, best loss: -0.013738538436954384]"
     ]
    },
    {
     "name": "stderr",
     "output_type": "stream",
     "text": [
      " 40%|####      | 2/5 [08:27<12:58, 259.63s/it]\n"
     ]
    },
    {
     "name": "stdout",
     "output_type": "stream",
     "text": [
      "Market Return : 26.39%   |   Portfolio Return : -24.18%   |   position_change : 65   |   \n",
      " 10%|█         | 1/10 [30:52<2:39:42, 1064.75s/trial, best loss: -0.013738538436954384]"
     ]
    },
    {
     "name": "stderr",
     "output_type": "stream",
     "text": [
      " 60%|######    | 3/5 [13:08<08:58, 269.29s/it]\n"
     ]
    },
    {
     "name": "stdout",
     "output_type": "stream",
     "text": [
      "Market Return : 26.39%   |   Portfolio Return : -27.16%   |   position_change : 51   |   \n",
      " 10%|█         | 1/10 [35:26<2:39:42, 1064.75s/trial, best loss: -0.013738538436954384]"
     ]
    },
    {
     "name": "stderr",
     "output_type": "stream",
     "text": [
      " 80%|########  | 4/5 [17:42<04:31, 271.15s/it]\n"
     ]
    },
    {
     "name": "stdout",
     "output_type": "stream",
     "text": [
      "Market Return : 26.39%   |   Portfolio Return : -27.68%   |   position_change : 68   |   \n",
      " 10%|█         | 1/10 [40:28<2:39:42, 1064.75s/trial, best loss: -0.013738538436954384]"
     ]
    },
    {
     "name": "stderr",
     "output_type": "stream",
     "text": [
      "100%|##########| 5/5 [22:44<00:00, 282.38s/it]\n",
      "100%|##########| 5/5 [22:44<00:00, 272.88s/it]\n"
     ]
    },
    {
     "name": "stdout",
     "output_type": "stream",
     "text": [
      "Market Return : -1.37%   |   Portfolio Return :  1.37%   |   position_change : 1   |   \n",
      " 20%|██        | 2/10 [40:29<2:45:28, 1241.08s/trial, best loss: -0.013739552176506464]"
     ]
    },
    {
     "name": "stderr",
     "output_type": "stream",
     "text": [
      "  0%|          | 0/2 [00:00<?, ?it/s]\n"
     ]
    },
    {
     "name": "stdout",
     "output_type": "stream",
     "text": [
      "Market Return : 26.39%   |   Portfolio Return : -25.19%   |   position_change : 50   |   \n",
      " 20%|██        | 2/10 [42:03<2:45:28, 1241.08s/trial, best loss: -0.013739552176506464]"
     ]
    },
    {
     "name": "stderr",
     "output_type": "stream",
     "text": [
      " 50%|#####     | 1/2 [01:34<01:34, 94.91s/it]\n"
     ]
    },
    {
     "name": "stdout",
     "output_type": "stream",
     "text": [
      "Market Return : 26.39%   |   Portfolio Return : -26.23%   |   position_change : 68   |   \n",
      " 20%|██        | 2/10 [44:31<2:45:28, 1241.08s/trial, best loss: -0.013739552176506464]"
     ]
    },
    {
     "name": "stderr",
     "output_type": "stream",
     "text": [
      "100%|##########| 2/2 [04:02<00:00, 126.06s/it]\n",
      "100%|##########| 2/2 [04:02<00:00, 121.38s/it]\n"
     ]
    },
    {
     "name": "stdout",
     "output_type": "stream",
     "text": [
      "Market Return : -1.37%   |   Portfolio Return :  1.37%   |   position_change : 0   |   \n",
      " 30%|███       | 3/10 [44:32<1:31:36, 785.27s/trial, best loss: -0.013740565916058767] "
     ]
    },
    {
     "name": "stderr",
     "output_type": "stream",
     "text": [
      "  0%|          | 0/2 [00:00<?, ?it/s]\n"
     ]
    },
    {
     "name": "stdout",
     "output_type": "stream",
     "text": [
      "Market Return : 26.39%   |   Portfolio Return : -19.11%   |   position_change : 54   |   \n",
      " 30%|███       | 3/10 [46:46<1:31:36, 785.27s/trial, best loss: -0.013740565916058767]"
     ]
    },
    {
     "name": "stderr",
     "output_type": "stream",
     "text": [
      " 50%|#####     | 1/2 [02:14<02:14, 134.94s/it]\n"
     ]
    },
    {
     "name": "stdout",
     "output_type": "stream",
     "text": [
      "Market Return : 26.39%   |   Portfolio Return : -31.94%   |   position_change : 65   |   \n",
      " 30%|███       | 3/10 [49:29<1:31:36, 785.27s/trial, best loss: -0.013740565916058767]"
     ]
    },
    {
     "name": "stderr",
     "output_type": "stream",
     "text": [
      "100%|##########| 2/2 [04:58<00:00, 151.59s/it]\n",
      "100%|##########| 2/2 [04:58<00:00, 149.09s/it]\n"
     ]
    },
    {
     "name": "stdout",
     "output_type": "stream",
     "text": [
      "Market Return : -1.37%   |   Portfolio Return :  1.37%   |   position_change : 1   |   \n",
      " 40%|████      | 4/10 [49:30<59:18, 593.01s/trial, best loss: -0.013740565916058767]  "
     ]
    },
    {
     "name": "stderr",
     "output_type": "stream",
     "text": [
      "  0%|          | 0/9 [00:00<?, ?it/s]\n"
     ]
    },
    {
     "name": "stdout",
     "output_type": "stream",
     "text": [
      "Market Return : 26.39%   |   Portfolio Return : -20.38%   |   position_change : 52   |   \n",
      " 40%|████      | 4/10 [57:26<59:18, 593.01s/trial, best loss: -0.013740565916058767]"
     ]
    },
    {
     "name": "stderr",
     "output_type": "stream",
     "text": [
      " 11%|#1        | 1/9 [07:57<1:03:38, 477.26s/it]\n"
     ]
    },
    {
     "name": "stdout",
     "output_type": "stream",
     "text": [
      "Market Return : 26.39%   |   Portfolio Return : -16.69%   |   position_change : 66   |   \n",
      " 40%|████      | 4/10 [1:07:05<59:18, 593.01s/trial, best loss: -0.013740565916058767]"
     ]
    },
    {
     "name": "stderr",
     "output_type": "stream",
     "text": [
      " 22%|##2       | 2/9 [17:36<1:02:39, 537.13s/it]\n"
     ]
    },
    {
     "name": "stdout",
     "output_type": "stream",
     "text": [
      "Market Return : 26.39%   |   Portfolio Return : -28.84%   |   position_change : 50   |   \n",
      " 40%|████      | 4/10 [1:18:15<59:18, 593.01s/trial, best loss: -0.013740565916058767]"
     ]
    },
    {
     "name": "stderr",
     "output_type": "stream",
     "text": [
      " 33%|###3      | 3/9 [28:46<59:46, 597.68s/it]  \n"
     ]
    },
    {
     "name": "stdout",
     "output_type": "stream",
     "text": [
      "Market Return : 26.39%   |   Portfolio Return : -16.99%   |   position_change : 50   |   \n",
      " 40%|████      | 4/10 [3:34:09<59:18, 593.01s/trial, best loss: -0.013740565916058767]"
     ]
    },
    {
     "name": "stderr",
     "output_type": "stream",
     "text": [
      " 44%|####4     | 4/9 [2:44:56<4:58:57, 3587.46s/it]\n"
     ]
    },
    {
     "name": "stdout",
     "output_type": "stream",
     "text": [
      "Market Return : 26.39%   |   Portfolio Return : -28.74%   |   position_change : 76   |   \n",
      " 40%|████      | 4/10 [6:15:47<59:18, 593.01s/trial, best loss: -0.013740565916058767]"
     ]
    },
    {
     "name": "stderr",
     "output_type": "stream",
     "text": [
      " 56%|#####5    | 5/9 [5:26:34<6:26:02, 5790.69s/it]\n"
     ]
    },
    {
     "name": "stdout",
     "output_type": "stream",
     "text": [
      "Market Return : 26.39%   |   Portfolio Return : -14.00%   |   position_change : 76   |   \n",
      " 40%|████      | 4/10 [8:57:30<59:18, 593.01s/trial, best loss: -0.013740565916058767]"
     ]
    },
    {
     "name": "stderr",
     "output_type": "stream",
     "text": [
      " 67%|######6   | 6/9 [8:08:17<5:56:03, 7121.06s/it]\n"
     ]
    },
    {
     "name": "stdout",
     "output_type": "stream",
     "text": [
      "Market Return : 26.39%   |   Portfolio Return : -21.90%   |   position_change : 52   |   \n",
      " 40%|████      | 4/10 [10:17:06<59:18, 593.01s/trial, best loss: -0.013740565916058767]"
     ]
    },
    {
     "name": "stderr",
     "output_type": "stream",
     "text": [
      " 78%|#######7  | 7/9 [9:27:37<3:31:38, 6349.07s/it]\n"
     ]
    },
    {
     "name": "stdout",
     "output_type": "stream",
     "text": [
      "Market Return : 26.39%   |   Portfolio Return : -18.51%   |   position_change : 77   |   \n",
      " 40%|████      | 4/10 [10:24:55<59:18, 593.01s/trial, best loss: -0.013740565916058767]"
     ]
    },
    {
     "name": "stderr",
     "output_type": "stream",
     "text": [
      " 89%|########8 | 8/9 [9:35:25<1:14:37, 4477.04s/it]\n"
     ]
    },
    {
     "name": "stdout",
     "output_type": "stream",
     "text": [
      "Market Return : 26.39%   |   Portfolio Return : -19.29%   |   position_change : 69   |   \n",
      " 40%|████      | 4/10 [10:32:36<59:18, 593.01s/trial, best loss: -0.013740565916058767]"
     ]
    },
    {
     "name": "stderr",
     "output_type": "stream",
     "text": [
      "100%|##########| 9/9 [9:43:06<00:00, 3221.43s/it]  \n",
      "100%|##########| 9/9 [9:43:06<00:00, 3887.39s/it]\n"
     ]
    },
    {
     "name": "stdout",
     "output_type": "stream",
     "text": [
      "Market Return : -1.37%   |   Portfolio Return :  1.37%   |   position_change : 1   |   \n",
      " 50%|█████     | 5/10 [10:32:37<18:02:58, 12995.66s/trial, best loss: -0.013740565916058767]"
     ]
    },
    {
     "name": "stderr",
     "output_type": "stream",
     "text": [
      "  0%|          | 0/8 [00:00<?, ?it/s]\n"
     ]
    },
    {
     "name": "stdout",
     "output_type": "stream",
     "text": [
      "Market Return : 26.39%   |   Portfolio Return : -24.55%   |   position_change : 77   |      \n",
      " 50%|█████     | 5/10 [10:33:21<18:02:58, 12995.66s/trial, best loss: -0.013740565916058767]"
     ]
    },
    {
     "name": "stderr",
     "output_type": "stream",
     "text": [
      " 12%|#2        | 1/8 [00:44<05:12, 44.67s/it]\n"
     ]
    },
    {
     "name": "stdout",
     "output_type": "stream",
     "text": [
      "Market Return : 26.39%   |   Portfolio Return : -24.75%   |   position_change : 51   |      \n",
      " 50%|█████     | 5/10 [10:34:11<18:02:58, 12995.66s/trial, best loss: -0.013740565916058767]"
     ]
    },
    {
     "name": "stderr",
     "output_type": "stream",
     "text": [
      " 25%|##5       | 2/8 [01:34<04:47, 47.87s/it]\n"
     ]
    },
    {
     "name": "stdout",
     "output_type": "stream",
     "text": [
      "Market Return : 26.39%   |   Portfolio Return : -27.48%   |   position_change : 58   |      \n",
      " 50%|█████     | 5/10 [10:35:12<18:02:58, 12995.66s/trial, best loss: -0.013740565916058767]"
     ]
    },
    {
     "name": "stderr",
     "output_type": "stream",
     "text": [
      " 38%|###7      | 3/8 [02:35<04:29, 53.83s/it]\n"
     ]
    },
    {
     "name": "stdout",
     "output_type": "stream",
     "text": [
      "Market Return : 26.39%   |   Portfolio Return : -29.17%   |   position_change : 44   |      \n",
      " 50%|█████     | 5/10 [10:36:14<18:02:58, 12995.66s/trial, best loss: -0.013740565916058767]"
     ]
    },
    {
     "name": "stderr",
     "output_type": "stream",
     "text": [
      " 50%|#####     | 4/8 [03:37<03:48, 57.06s/it]\n"
     ]
    },
    {
     "name": "stdout",
     "output_type": "stream",
     "text": [
      "Market Return : 26.39%   |   Portfolio Return : -20.20%   |   position_change : 66   |      \n",
      " 50%|█████     | 5/10 [10:37:15<18:02:58, 12995.66s/trial, best loss: -0.013740565916058767]"
     ]
    },
    {
     "name": "stderr",
     "output_type": "stream",
     "text": [
      " 62%|######2   | 5/8 [04:38<02:55, 58.55s/it]\n"
     ]
    },
    {
     "name": "stdout",
     "output_type": "stream",
     "text": [
      "Market Return : 26.39%   |   Portfolio Return : -32.89%   |   position_change : 66   |      \n",
      " 50%|█████     | 5/10 [10:38:15<18:02:58, 12995.66s/trial, best loss: -0.013740565916058767]"
     ]
    },
    {
     "name": "stderr",
     "output_type": "stream",
     "text": [
      " 75%|#######5  | 6/8 [05:38<01:58, 59.03s/it]\n"
     ]
    },
    {
     "name": "stdout",
     "output_type": "stream",
     "text": [
      "Market Return : 26.39%   |   Portfolio Return : -17.03%   |   position_change : 65   |      \n",
      " 50%|█████     | 5/10 [10:39:19<18:02:58, 12995.66s/trial, best loss: -0.013740565916058767]"
     ]
    },
    {
     "name": "stderr",
     "output_type": "stream",
     "text": [
      " 88%|########7 | 7/8 [06:42<01:00, 60.50s/it]\n"
     ]
    },
    {
     "name": "stdout",
     "output_type": "stream",
     "text": [
      "Market Return : 26.39%   |   Portfolio Return : -18.86%   |   position_change : 69   |      \n",
      " 50%|█████     | 5/10 [10:40:23<18:02:58, 12995.66s/trial, best loss: -0.013740565916058767]"
     ]
    },
    {
     "name": "stderr",
     "output_type": "stream",
     "text": [
      "100%|##########| 8/8 [07:46<00:00, 61.58s/it]\n",
      "100%|##########| 8/8 [07:46<00:00, 58.29s/it]\n"
     ]
    },
    {
     "name": "stdout",
     "output_type": "stream",
     "text": [
      "Market Return : -1.37%   |   Portfolio Return :  1.37%   |   position_change : 0   |        \n",
      " 60%|██████    | 6/10 [10:40:23<9:42:22, 8735.74s/trial, best loss: -0.013740565916058767]  "
     ]
    },
    {
     "name": "stderr",
     "output_type": "stream",
     "text": [
      "  0%|          | 0/4 [00:00<?, ?it/s]\n"
     ]
    },
    {
     "name": "stdout",
     "output_type": "stream",
     "text": [
      "Market Return : 26.39%   |   Portfolio Return : -27.33%   |   position_change : 74   |    \n",
      " 60%|██████    | 6/10 [10:42:57<9:42:22, 8735.74s/trial, best loss: -0.013740565916058767]"
     ]
    },
    {
     "name": "stderr",
     "output_type": "stream",
     "text": [
      " 25%|##5       | 1/4 [02:34<07:43, 154.56s/it]\n"
     ]
    },
    {
     "name": "stdout",
     "output_type": "stream",
     "text": [
      "Market Return : 26.39%   |   Portfolio Return : -31.56%   |   position_change : 52   |    \n",
      " 60%|██████    | 6/10 [10:45:51<9:42:22, 8735.74s/trial, best loss: -0.013740565916058767]"
     ]
    },
    {
     "name": "stderr",
     "output_type": "stream",
     "text": [
      " 50%|#####     | 2/4 [05:28<05:31, 165.72s/it]\n"
     ]
    },
    {
     "name": "stdout",
     "output_type": "stream",
     "text": [
      "Market Return : 26.39%   |   Portfolio Return : -29.28%   |   position_change : 52   |    \n",
      " 60%|██████    | 6/10 [10:48:44<9:42:22, 8735.74s/trial, best loss: -0.013740565916058767]"
     ]
    },
    {
     "name": "stderr",
     "output_type": "stream",
     "text": [
      " 75%|#######5  | 3/4 [08:21<02:49, 169.23s/it]\n"
     ]
    },
    {
     "name": "stdout",
     "output_type": "stream",
     "text": [
      "Market Return : 26.39%   |   Portfolio Return : -18.62%   |   position_change : 63   |    \n",
      " 60%|██████    | 6/10 [10:51:43<9:42:22, 8735.74s/trial, best loss: -0.013740565916058767]"
     ]
    },
    {
     "name": "stderr",
     "output_type": "stream",
     "text": [
      "100%|##########| 4/4 [11:20<00:00, 173.11s/it]\n",
      "100%|##########| 4/4 [11:20<00:00, 170.14s/it]\n"
     ]
    },
    {
     "name": "stdout",
     "output_type": "stream",
     "text": [
      "Market Return : -1.37%   |   Portfolio Return :  1.37%   |   position_change : 1   |      \n",
      " 70%|███████   | 7/10 [10:51:44<5:05:07, 6102.38s/trial, best loss: -0.013740565916058767]"
     ]
    },
    {
     "name": "stderr",
     "output_type": "stream",
     "text": [
      "  0%|          | 0/4 [00:00<?, ?it/s]\n"
     ]
    },
    {
     "name": "stdout",
     "output_type": "stream",
     "text": [
      "Market Return : 26.39%   |   Portfolio Return : -18.67%   |   position_change : 66   |    \n",
      " 70%|███████   | 7/10 [10:52:14<5:05:07, 6102.38s/trial, best loss: -0.013740565916058767]"
     ]
    },
    {
     "name": "stderr",
     "output_type": "stream",
     "text": [
      " 25%|##5       | 1/4 [00:29<01:29, 29.82s/it]\n"
     ]
    },
    {
     "name": "stdout",
     "output_type": "stream",
     "text": [
      "Market Return : 26.39%   |   Portfolio Return : -13.80%   |   position_change : 57   |    \n",
      " 70%|███████   | 7/10 [10:52:54<5:05:07, 6102.38s/trial, best loss: -0.013740565916058767]"
     ]
    },
    {
     "name": "stderr",
     "output_type": "stream",
     "text": [
      " 50%|#####     | 2/4 [01:10<01:12, 36.02s/it]\n"
     ]
    },
    {
     "name": "stdout",
     "output_type": "stream",
     "text": [
      "Market Return : 26.39%   |   Portfolio Return : -11.38%   |   position_change : 80   |    \n",
      " 70%|███████   | 7/10 [10:53:42<5:05:07, 6102.38s/trial, best loss: -0.013740565916058767]"
     ]
    },
    {
     "name": "stderr",
     "output_type": "stream",
     "text": [
      " 75%|#######5  | 3/4 [01:57<00:41, 41.36s/it]\n"
     ]
    },
    {
     "name": "stdout",
     "output_type": "stream",
     "text": [
      "Market Return : 26.39%   |   Portfolio Return : -25.56%   |   position_change : 27   |    \n",
      " 70%|███████   | 7/10 [10:54:31<5:05:07, 6102.38s/trial, best loss: -0.013740565916058767]"
     ]
    },
    {
     "name": "stderr",
     "output_type": "stream",
     "text": [
      "100%|##########| 4/4 [02:47<00:00, 44.51s/it]\n",
      "100%|##########| 4/4 [02:47<00:00, 41.81s/it]\n"
     ]
    },
    {
     "name": "stdout",
     "output_type": "stream",
     "text": [
      "Market Return : -1.37%   |   Portfolio Return :  1.37%   |   position_change : 1   |      \n",
      " 80%|████████  | 8/10 [10:54:31<2:20:25, 4212.94s/trial, best loss: -0.013740565916058767]"
     ]
    },
    {
     "name": "stderr",
     "output_type": "stream",
     "text": [
      "  0%|          | 0/7 [00:00<?, ?it/s]\n"
     ]
    },
    {
     "name": "stdout",
     "output_type": "stream",
     "text": [
      "Market Return : 26.39%   |   Portfolio Return : -15.79%   |   position_change : 80   |    \n",
      " 80%|████████  | 8/10 [10:55:01<2:20:25, 4212.94s/trial, best loss: -0.013740565916058767]"
     ]
    },
    {
     "name": "stderr",
     "output_type": "stream",
     "text": [
      " 14%|#4        | 1/7 [00:29<02:55, 29.31s/it]\n"
     ]
    },
    {
     "name": "stdout",
     "output_type": "stream",
     "text": [
      "Market Return : 26.39%   |   Portfolio Return : -17.06%   |   position_change : 34   |    \n",
      " 80%|████████  | 8/10 [10:55:34<2:20:25, 4212.94s/trial, best loss: -0.013740565916058767]"
     ]
    },
    {
     "name": "stderr",
     "output_type": "stream",
     "text": [
      " 29%|##8       | 2/7 [01:02<02:38, 31.64s/it]\n"
     ]
    },
    {
     "name": "stdout",
     "output_type": "stream",
     "text": [
      "Market Return : 26.39%   |   Portfolio Return : -27.93%   |   position_change : 62   |    \n",
      " 80%|████████  | 8/10 [10:56:14<2:20:25, 4212.94s/trial, best loss: -0.013740565916058767]"
     ]
    },
    {
     "name": "stderr",
     "output_type": "stream",
     "text": [
      " 43%|####2     | 3/7 [01:43<02:23, 35.76s/it]\n"
     ]
    },
    {
     "name": "stdout",
     "output_type": "stream",
     "text": [
      "Market Return : 26.39%   |   Portfolio Return : -28.87%   |   position_change : 43   |    \n",
      " 80%|████████  | 8/10 [10:57:05<2:20:25, 4212.94s/trial, best loss: -0.013740565916058767]"
     ]
    },
    {
     "name": "stderr",
     "output_type": "stream",
     "text": [
      " 57%|#####7    | 4/7 [02:33<02:04, 41.45s/it]\n"
     ]
    },
    {
     "name": "stdout",
     "output_type": "stream",
     "text": [
      "Market Return : 26.39%   |   Portfolio Return : -31.75%   |   position_change : 68   |    \n",
      " 80%|████████  | 8/10 [10:57:52<2:20:25, 4212.94s/trial, best loss: -0.013740565916058767]"
     ]
    },
    {
     "name": "stderr",
     "output_type": "stream",
     "text": [
      " 71%|#######1  | 5/7 [03:21<01:27, 43.67s/it]\n"
     ]
    },
    {
     "name": "stdout",
     "output_type": "stream",
     "text": [
      "Market Return : 26.39%   |   Portfolio Return : -22.79%   |   position_change : 70   |    \n",
      " 80%|████████  | 8/10 [10:58:36<2:20:25, 4212.94s/trial, best loss: -0.013740565916058767]"
     ]
    },
    {
     "name": "stderr",
     "output_type": "stream",
     "text": [
      " 86%|########5 | 6/7 [04:05<00:43, 43.87s/it]\n"
     ]
    },
    {
     "name": "stdout",
     "output_type": "stream",
     "text": [
      "Market Return : 26.39%   |   Portfolio Return : -23.48%   |   position_change : 55   |    \n",
      " 80%|████████  | 8/10 [10:59:21<2:20:25, 4212.94s/trial, best loss: -0.013740565916058767]"
     ]
    },
    {
     "name": "stderr",
     "output_type": "stream",
     "text": [
      "100%|##########| 7/7 [04:49<00:00, 44.09s/it]\n",
      "100%|##########| 7/7 [04:49<00:00, 41.40s/it]\n"
     ]
    },
    {
     "name": "stdout",
     "output_type": "stream",
     "text": [
      "Market Return : -1.37%   |   Portfolio Return :  1.37%   |   position_change : 0   |      \n",
      " 90%|█████████ | 9/10 [10:59:21<49:46, 2986.55s/trial, best loss: -0.013740565916058767]  "
     ]
    },
    {
     "name": "stderr",
     "output_type": "stream",
     "text": [
      "  0%|          | 0/2 [00:00<?, ?it/s]\n"
     ]
    },
    {
     "name": "stdout",
     "output_type": "stream",
     "text": [
      "Market Return : 26.39%   |   Portfolio Return : -21.62%   |   position_change : 57   |   \n",
      " 90%|█████████ | 9/10 [11:01:13<49:46, 2986.55s/trial, best loss: -0.013740565916058767]"
     ]
    },
    {
     "name": "stderr",
     "output_type": "stream",
     "text": [
      " 50%|#####     | 1/2 [01:51<01:51, 111.68s/it]\n"
     ]
    },
    {
     "name": "stdout",
     "output_type": "stream",
     "text": [
      "Market Return : 26.39%   |   Portfolio Return : -20.12%   |   position_change : 74   |   \n",
      " 90%|█████████ | 9/10 [11:03:34<49:46, 2986.55s/trial, best loss: -0.013740565916058767]"
     ]
    },
    {
     "name": "stderr",
     "output_type": "stream",
     "text": [
      "100%|##########| 2/2 [04:13<00:00, 129.33s/it]\n",
      "100%|##########| 2/2 [04:13<00:00, 126.68s/it]\n"
     ]
    },
    {
     "name": "stdout",
     "output_type": "stream",
     "text": [
      "Market Return : -1.37%   |   Portfolio Return :  1.37%   |   position_change : 0   |    \n",
      "100%|██████████| 10/10 [11:03:35<00:00, 3981.53s/trial, best loss: -0.013740565916058767]\n"
     ]
    },
    {
     "data": {
      "text/plain": [
       "{'batch_size': np.int64(0),\n",
       " 'conservative_alpha': np.float64(0.5922524637732596),\n",
       " 'discount_factor': np.float64(0.8773227674822074),\n",
       " 'epochs': np.int64(2),\n",
       " 'hidden_dims': np.int64(1),\n",
       " 'is_conservative': np.int64(1),\n",
       " 'learning_rate': np.float64(1.0975208463919917),\n",
       " 'soft_update_tau': np.float64(0.9392118500908295),\n",
       " 'target_update_freq': np.int64(1),\n",
       " 'training_rounds': np.int64(22)}"
      ]
     },
     "execution_count": 94,
     "metadata": {},
     "output_type": "execute_result"
    },
    {
     "data": {
      "image/png": "[encoded data removed]",
      "text/plain": [
       "<Figure size 640x480 with 1 Axes>"
      ]
     },
     "metadata": {},
     "output_type": "display_data"
    }
   ],
   "source": [
    "#def train_test_model(train_env, test_env, epochs=5, hidden_dims=[64, 64], training_rounds=20):\n",
    "trials = Trials()\n",
    "\n",
    "best = fmin(fn=train_test_model,space=search_space,algo=tpe.suggest, max_evals=10, trials=trials)\n",
    "best"
   ]
  },
  {
   "cell_type": "code",
   "execution_count": 95,
   "metadata": {},
   "outputs": [
    {
     "data": {
      "text/plain": [
       "{'batch_size': np.int64(0),\n",
       " 'conservative_alpha': np.float64(0.5922524637732596),\n",
       " 'discount_factor': np.float64(0.8773227674822074),\n",
       " 'epochs': np.int64(2),\n",
       " 'hidden_dims': np.int64(1),\n",
       " 'is_conservative': np.int64(1),\n",
       " 'learning_rate': np.float64(1.0975208463919917),\n",
       " 'soft_update_tau': np.float64(0.9392118500908295),\n",
       " 'target_update_freq': np.int64(1),\n",
       " 'training_rounds': np.int64(22)}"
      ]
     },
     "execution_count": 95,
     "metadata": {},
     "output_type": "execute_result"
    }
   ],
   "source": [
    "best"
   ]
  },
  {
   "cell_type": "code",
   "execution_count": 96,
   "metadata": {},
   "outputs": [
    {
     "name": "stdout",
     "output_type": "stream",
     "text": [
      "   tid                                   cmd workdir  \\\n",
      "0    0  (domain_attachment, FMinIter_Domain)    None   \n",
      "1    1  (domain_attachment, FMinIter_Domain)    None   \n",
      "2    2  (domain_attachment, FMinIter_Domain)    None   \n",
      "3    3  (domain_attachment, FMinIter_Domain)    None   \n",
      "4    4  (domain_attachment, FMinIter_Domain)    None   \n",
      "5    5  (domain_attachment, FMinIter_Domain)    None   \n",
      "6    6  (domain_attachment, FMinIter_Domain)    None   \n",
      "7    7  (domain_attachment, FMinIter_Domain)    None   \n",
      "8    8  (domain_attachment, FMinIter_Domain)    None   \n",
      "9    9  (domain_attachment, FMinIter_Domain)    None   \n",
      "\n",
      "                                                idxs  \\\n",
      "0  {'batch_size': [0], 'conservative_alpha': [0],...   \n",
      "1  {'batch_size': [1], 'conservative_alpha': [1],...   \n",
      "2  {'batch_size': [2], 'conservative_alpha': [2],...   \n",
      "3  {'batch_size': [3], 'conservative_alpha': [3],...   \n",
      "4  {'batch_size': [4], 'conservative_alpha': [4],...   \n",
      "5  {'batch_size': [5], 'conservative_alpha': [5],...   \n",
      "6  {'batch_size': [6], 'conservative_alpha': [6],...   \n",
      "7  {'batch_size': [7], 'conservative_alpha': [7],...   \n",
      "8  {'batch_size': [8], 'conservative_alpha': [8],...   \n",
      "9  {'batch_size': [9], 'conservative_alpha': [9],...   \n",
      "\n",
      "                                                vals  \n",
      "0  {'batch_size': [1], 'conservative_alpha': [0.8...  \n",
      "1  {'batch_size': [1], 'conservative_alpha': [0.5...  \n",
      "2  {'batch_size': [0], 'conservative_alpha': [0.5...  \n",
      "3  {'batch_size': [1], 'conservative_alpha': [0.9...  \n",
      "4  {'batch_size': [1], 'conservative_alpha': [0.9...  \n",
      "5  {'batch_size': [0], 'conservative_alpha': [0.6...  \n",
      "6  {'batch_size': [0], 'conservative_alpha': [0.9...  \n",
      "7  {'batch_size': [1], 'conservative_alpha': [0.9...  \n",
      "8  {'batch_size': [0], 'conservative_alpha': [0.6...  \n",
      "9  {'batch_size': [0], 'conservative_alpha': [0.5...  \n"
     ]
    },
    {
     "data": {
      "text/html": [
       "<div>\n",
       "<style scoped>\n",
       "    .dataframe tbody tr th:only-of-type {\n",
       "        vertical-align: middle;\n",
       "    }\n",
       "\n",
       "    .dataframe tbody tr th {\n",
       "        vertical-align: top;\n",
       "    }\n",
       "\n",
       "    .dataframe thead th {\n",
       "        text-align: right;\n",
       "    }\n",
       "</style>\n",
       "<table border=\"1\" class=\"dataframe\">\n",
       "  <thead>\n",
       "    <tr style=\"text-align: right;\">\n",
       "      <th></th>\n",
       "      <th>loss</th>\n",
       "      <th>status</th>\n",
       "      <th>batch_size</th>\n",
       "      <th>conservative_alpha</th>\n",
       "      <th>discount_factor</th>\n",
       "      <th>epochs</th>\n",
       "      <th>hidden_dims</th>\n",
       "      <th>is_conservative</th>\n",
       "      <th>learning_rate</th>\n",
       "      <th>soft_update_tau</th>\n",
       "      <th>target_update_freq</th>\n",
       "      <th>training_rounds</th>\n",
       "    </tr>\n",
       "  </thead>\n",
       "  <tbody>\n",
       "    <tr>\n",
       "      <th>0</th>\n",
       "      <td>-0.013739</td>\n",
       "      <td>ok</td>\n",
       "      <td>[1]</td>\n",
       "      <td>[0.8329027935794213]</td>\n",
       "      <td>[0.9311572192948744]</td>\n",
       "      <td>[6]</td>\n",
       "      <td>[0]</td>\n",
       "      <td>[0]</td>\n",
       "      <td>[1.0724435280030713]</td>\n",
       "      <td>[0.31786436261982176]</td>\n",
       "      <td>[1]</td>\n",
       "      <td>[20]</td>\n",
       "    </tr>\n",
       "    <tr>\n",
       "      <th>1</th>\n",
       "      <td>-0.013740</td>\n",
       "      <td>ok</td>\n",
       "      <td>[1]</td>\n",
       "      <td>[0.509893137644049]</td>\n",
       "      <td>[0.8915005120293203]</td>\n",
       "      <td>[5]</td>\n",
       "      <td>[1]</td>\n",
       "      <td>[0]</td>\n",
       "      <td>[1.0286262923408762]</td>\n",
       "      <td>[0.11806733495131497]</td>\n",
       "      <td>[2]</td>\n",
       "      <td>[26]</td>\n",
       "    </tr>\n",
       "    <tr>\n",
       "      <th>2</th>\n",
       "      <td>-0.013741</td>\n",
       "      <td>ok</td>\n",
       "      <td>[0]</td>\n",
       "      <td>[0.5922524637732596]</td>\n",
       "      <td>[0.8773227674822074]</td>\n",
       "      <td>[2]</td>\n",
       "      <td>[1]</td>\n",
       "      <td>[1]</td>\n",
       "      <td>[1.0975208463919917]</td>\n",
       "      <td>[0.9392118500908295]</td>\n",
       "      <td>[1]</td>\n",
       "      <td>[22]</td>\n",
       "    </tr>\n",
       "    <tr>\n",
       "      <th>3</th>\n",
       "      <td>-0.013740</td>\n",
       "      <td>ok</td>\n",
       "      <td>[1]</td>\n",
       "      <td>[0.9733116467761669]</td>\n",
       "      <td>[0.9529873051502105]</td>\n",
       "      <td>[2]</td>\n",
       "      <td>[0]</td>\n",
       "      <td>[1]</td>\n",
       "      <td>[1.0519250330708791]</td>\n",
       "      <td>[0.3556870071500625]</td>\n",
       "      <td>[2]</td>\n",
       "      <td>[27]</td>\n",
       "    </tr>\n",
       "    <tr>\n",
       "      <th>4</th>\n",
       "      <td>-0.013740</td>\n",
       "      <td>ok</td>\n",
       "      <td>[1]</td>\n",
       "      <td>[0.9114545467232746]</td>\n",
       "      <td>[0.9705516374285263]</td>\n",
       "      <td>[9]</td>\n",
       "      <td>[2]</td>\n",
       "      <td>[0]</td>\n",
       "      <td>[1.077758037490859]</td>\n",
       "      <td>[0.6548069257054862]</td>\n",
       "      <td>[1]</td>\n",
       "      <td>[27]</td>\n",
       "    </tr>\n",
       "    <tr>\n",
       "      <th>5</th>\n",
       "      <td>-0.013741</td>\n",
       "      <td>ok</td>\n",
       "      <td>[0]</td>\n",
       "      <td>[0.6591098460547438]</td>\n",
       "      <td>[0.9032412883424737]</td>\n",
       "      <td>[8]</td>\n",
       "      <td>[2]</td>\n",
       "      <td>[1]</td>\n",
       "      <td>[1.0964623998213168]</td>\n",
       "      <td>[0.2988405314306032]</td>\n",
       "      <td>[3]</td>\n",
       "      <td>[8]</td>\n",
       "    </tr>\n",
       "    <tr>\n",
       "      <th>6</th>\n",
       "      <td>-0.013740</td>\n",
       "      <td>ok</td>\n",
       "      <td>[0]</td>\n",
       "      <td>[0.9075661324566002]</td>\n",
       "      <td>[0.9720841649187668]</td>\n",
       "      <td>[4]</td>\n",
       "      <td>[2]</td>\n",
       "      <td>[1]</td>\n",
       "      <td>[1.0568137024859527]</td>\n",
       "      <td>[0.6840243717123794]</td>\n",
       "      <td>[0]</td>\n",
       "      <td>[20]</td>\n",
       "    </tr>\n",
       "    <tr>\n",
       "      <th>7</th>\n",
       "      <td>-0.013740</td>\n",
       "      <td>ok</td>\n",
       "      <td>[1]</td>\n",
       "      <td>[0.9702015326601524]</td>\n",
       "      <td>[0.8355584576455852]</td>\n",
       "      <td>[4]</td>\n",
       "      <td>[0]</td>\n",
       "      <td>[1]</td>\n",
       "      <td>[1.0216156238674021]</td>\n",
       "      <td>[0.4543956177760258]</td>\n",
       "      <td>[3]</td>\n",
       "      <td>[10]</td>\n",
       "    </tr>\n",
       "    <tr>\n",
       "      <th>8</th>\n",
       "      <td>-0.013741</td>\n",
       "      <td>ok</td>\n",
       "      <td>[0]</td>\n",
       "      <td>[0.6755727741950681]</td>\n",
       "      <td>[0.9515780949955581]</td>\n",
       "      <td>[7]</td>\n",
       "      <td>[1]</td>\n",
       "      <td>[0]</td>\n",
       "      <td>[1.0564138603482554]</td>\n",
       "      <td>[0.44458739553298454]</td>\n",
       "      <td>[2]</td>\n",
       "      <td>[6]</td>\n",
       "    </tr>\n",
       "    <tr>\n",
       "      <th>9</th>\n",
       "      <td>-0.013741</td>\n",
       "      <td>ok</td>\n",
       "      <td>[0]</td>\n",
       "      <td>[0.5629116046346958]</td>\n",
       "      <td>[0.9506103313720249]</td>\n",
       "      <td>[2]</td>\n",
       "      <td>[2]</td>\n",
       "      <td>[1]</td>\n",
       "      <td>[1.0617805475161814]</td>\n",
       "      <td>[0.9758890646418665]</td>\n",
       "      <td>[2]</td>\n",
       "      <td>[19]</td>\n",
       "    </tr>\n",
       "  </tbody>\n",
       "</table>\n",
       "</div>"
      ],
      "text/plain": [
       "       loss status batch_size    conservative_alpha       discount_factor  \\\n",
       "0 -0.013739     ok        [1]  [0.8329027935794213]  [0.9311572192948744]   \n",
       "1 -0.013740     ok        [1]   [0.509893137644049]  [0.8915005120293203]   \n",
       "2 -0.013741     ok        [0]  [0.5922524637732596]  [0.8773227674822074]   \n",
       "3 -0.013740     ok        [1]  [0.9733116467761669]  [0.9529873051502105]   \n",
       "4 -0.013740     ok        [1]  [0.9114545467232746]  [0.9705516374285263]   \n",
       "5 -0.013741     ok        [0]  [0.6591098460547438]  [0.9032412883424737]   \n",
       "6 -0.013740     ok        [0]  [0.9075661324566002]  [0.9720841649187668]   \n",
       "7 -0.013740     ok        [1]  [0.9702015326601524]  [0.8355584576455852]   \n",
       "8 -0.013741     ok        [0]  [0.6755727741950681]  [0.9515780949955581]   \n",
       "9 -0.013741     ok        [0]  [0.5629116046346958]  [0.9506103313720249]   \n",
       "\n",
       "  epochs hidden_dims is_conservative         learning_rate  \\\n",
       "0    [6]         [0]             [0]  [1.0724435280030713]   \n",
       "1    [5]         [1]             [0]  [1.0286262923408762]   \n",
       "2    [2]         [1]             [1]  [1.0975208463919917]   \n",
       "3    [2]         [0]             [1]  [1.0519250330708791]   \n",
       "4    [9]         [2]             [0]   [1.077758037490859]   \n",
       "5    [8]         [2]             [1]  [1.0964623998213168]   \n",
       "6    [4]         [2]             [1]  [1.0568137024859527]   \n",
       "7    [4]         [0]             [1]  [1.0216156238674021]   \n",
       "8    [7]         [1]             [0]  [1.0564138603482554]   \n",
       "9    [2]         [2]             [1]  [1.0617805475161814]   \n",
       "\n",
       "         soft_update_tau target_update_freq training_rounds  \n",
       "0  [0.31786436261982176]                [1]            [20]  \n",
       "1  [0.11806733495131497]                [2]            [26]  \n",
       "2   [0.9392118500908295]                [1]            [22]  \n",
       "3   [0.3556870071500625]                [2]            [27]  \n",
       "4   [0.6548069257054862]                [1]            [27]  \n",
       "5   [0.2988405314306032]                [3]             [8]  \n",
       "6   [0.6840243717123794]                [0]            [20]  \n",
       "7   [0.4543956177760258]                [3]            [10]  \n",
       "8  [0.44458739553298454]                [2]             [6]  \n",
       "9   [0.9758890646418665]                [2]            [19]  "
      ]
     },
     "execution_count": 96,
     "metadata": {},
     "output_type": "execute_result"
    }
   ],
   "source": [
    "def get_trials(trials):\n",
    "    trial_df = pd.DataFrame(trials.trials)\n",
    "    misc = trial_df['misc'].apply(lambda row: pd.Series(row))\n",
    "    result = trial_df['result'].apply(lambda row: pd.Series(row))\n",
    "    print(misc)\n",
    "    vals = misc['vals'].apply(lambda row: pd.Series(row))\n",
    "    df = pd.concat([result, vals], axis=1)\n",
    "    return df\n",
    "\n",
    "expanded_df = get_trials(trials)\n",
    "expanded_df\n"
   ]
  },
  {
   "cell_type": "code",
   "execution_count": 97,
   "metadata": {},
   "outputs": [
    {
     "data": {
      "text/plain": [
       "loss                              -0.013739\n",
       "status                                   ok\n",
       "batch_size                              [1]\n",
       "conservative_alpha     [0.8329027935794213]\n",
       "discount_factor        [0.9311572192948744]\n",
       "epochs                                  [6]\n",
       "hidden_dims                             [0]\n",
       "is_conservative                         [0]\n",
       "learning_rate          [1.0724435280030713]\n",
       "soft_update_tau       [0.31786436261982176]\n",
       "target_update_freq                      [1]\n",
       "training_rounds                        [20]\n",
       "Name: 0, dtype: object"
      ]
     },
     "execution_count": 97,
     "metadata": {},
     "output_type": "execute_result"
    }
   ],
   "source": [
    "expanded_df.loc[0]"
   ]
  },
  {
   "cell_type": "code",
   "execution_count": 98,
   "metadata": {},
   "outputs": [
    {
     "data": {
      "text/html": [
       "<div>\n",
       "<style scoped>\n",
       "    .dataframe tbody tr th:only-of-type {\n",
       "        vertical-align: middle;\n",
       "    }\n",
       "\n",
       "    .dataframe tbody tr th {\n",
       "        vertical-align: top;\n",
       "    }\n",
       "\n",
       "    .dataframe thead th {\n",
       "        text-align: right;\n",
       "    }\n",
       "</style>\n",
       "<table border=\"1\" class=\"dataframe\">\n",
       "  <thead>\n",
       "    <tr style=\"text-align: right;\">\n",
       "      <th></th>\n",
       "      <th>state</th>\n",
       "      <th>tid</th>\n",
       "      <th>spec</th>\n",
       "      <th>result</th>\n",
       "      <th>misc</th>\n",
       "      <th>exp_key</th>\n",
       "      <th>owner</th>\n",
       "      <th>version</th>\n",
       "      <th>book_time</th>\n",
       "      <th>refresh_time</th>\n",
       "    </tr>\n",
       "  </thead>\n",
       "  <tbody>\n",
       "    <tr>\n",
       "      <th>0</th>\n",
       "      <td>2</td>\n",
       "      <td>0</td>\n",
       "      <td>None</td>\n",
       "      <td>{'loss': -0.013738538436954384, 'status': 'ok'}</td>\n",
       "      <td>{'tid': 0, 'cmd': ('domain_attachment', 'FMinI...</td>\n",
       "      <td>None</td>\n",
       "      <td>None</td>\n",
       "      <td>0</td>\n",
       "      <td>2024-10-01 16:43:32.705</td>\n",
       "      <td>2024-10-01 17:01:17.448</td>\n",
       "    </tr>\n",
       "    <tr>\n",
       "      <th>1</th>\n",
       "      <td>2</td>\n",
       "      <td>1</td>\n",
       "      <td>None</td>\n",
       "      <td>{'loss': -0.013739552176506464, 'status': 'ok'}</td>\n",
       "      <td>{'tid': 1, 'cmd': ('domain_attachment', 'FMinI...</td>\n",
       "      <td>None</td>\n",
       "      <td>None</td>\n",
       "      <td>0</td>\n",
       "      <td>2024-10-01 17:01:17.454</td>\n",
       "      <td>2024-10-01 17:24:01.952</td>\n",
       "    </tr>\n",
       "    <tr>\n",
       "      <th>2</th>\n",
       "      <td>2</td>\n",
       "      <td>2</td>\n",
       "      <td>None</td>\n",
       "      <td>{'loss': -0.013740565916058767, 'status': 'ok'}</td>\n",
       "      <td>{'tid': 2, 'cmd': ('domain_attachment', 'FMinI...</td>\n",
       "      <td>None</td>\n",
       "      <td>None</td>\n",
       "      <td>0</td>\n",
       "      <td>2024-10-01 17:24:01.959</td>\n",
       "      <td>2024-10-01 17:28:04.811</td>\n",
       "    </tr>\n",
       "    <tr>\n",
       "      <th>3</th>\n",
       "      <td>2</td>\n",
       "      <td>3</td>\n",
       "      <td>None</td>\n",
       "      <td>{'loss': -0.013739552176506464, 'status': 'ok'}</td>\n",
       "      <td>{'tid': 3, 'cmd': ('domain_attachment', 'FMinI...</td>\n",
       "      <td>None</td>\n",
       "      <td>None</td>\n",
       "      <td>0</td>\n",
       "      <td>2024-10-01 17:28:04.817</td>\n",
       "      <td>2024-10-01 17:33:03.094</td>\n",
       "    </tr>\n",
       "    <tr>\n",
       "      <th>4</th>\n",
       "      <td>2</td>\n",
       "      <td>4</td>\n",
       "      <td>None</td>\n",
       "      <td>{'loss': -0.013739552176506464, 'status': 'ok'}</td>\n",
       "      <td>{'tid': 4, 'cmd': ('domain_attachment', 'FMinI...</td>\n",
       "      <td>None</td>\n",
       "      <td>None</td>\n",
       "      <td>0</td>\n",
       "      <td>2024-10-01 17:33:03.100</td>\n",
       "      <td>2024-10-02 03:16:09.891</td>\n",
       "    </tr>\n",
       "    <tr>\n",
       "      <th>5</th>\n",
       "      <td>2</td>\n",
       "      <td>5</td>\n",
       "      <td>None</td>\n",
       "      <td>{'loss': -0.013740565916058767, 'status': 'ok'}</td>\n",
       "      <td>{'tid': 5, 'cmd': ('domain_attachment', 'FMinI...</td>\n",
       "      <td>None</td>\n",
       "      <td>None</td>\n",
       "      <td>0</td>\n",
       "      <td>2024-10-02 03:16:09.897</td>\n",
       "      <td>2024-10-02 03:23:56.400</td>\n",
       "    </tr>\n",
       "    <tr>\n",
       "      <th>6</th>\n",
       "      <td>2</td>\n",
       "      <td>6</td>\n",
       "      <td>None</td>\n",
       "      <td>{'loss': -0.013739552176506464, 'status': 'ok'}</td>\n",
       "      <td>{'tid': 6, 'cmd': ('domain_attachment', 'FMinI...</td>\n",
       "      <td>None</td>\n",
       "      <td>None</td>\n",
       "      <td>0</td>\n",
       "      <td>2024-10-02 03:23:56.405</td>\n",
       "      <td>2024-10-02 03:35:17.171</td>\n",
       "    </tr>\n",
       "    <tr>\n",
       "      <th>7</th>\n",
       "      <td>2</td>\n",
       "      <td>7</td>\n",
       "      <td>None</td>\n",
       "      <td>{'loss': -0.013739552176506464, 'status': 'ok'}</td>\n",
       "      <td>{'tid': 7, 'cmd': ('domain_attachment', 'FMinI...</td>\n",
       "      <td>None</td>\n",
       "      <td>None</td>\n",
       "      <td>0</td>\n",
       "      <td>2024-10-02 03:35:17.176</td>\n",
       "      <td>2024-10-02 03:38:04.499</td>\n",
       "    </tr>\n",
       "    <tr>\n",
       "      <th>8</th>\n",
       "      <td>2</td>\n",
       "      <td>8</td>\n",
       "      <td>None</td>\n",
       "      <td>{'loss': -0.013740565916058767, 'status': 'ok'}</td>\n",
       "      <td>{'tid': 8, 'cmd': ('domain_attachment', 'FMinI...</td>\n",
       "      <td>None</td>\n",
       "      <td>None</td>\n",
       "      <td>0</td>\n",
       "      <td>2024-10-02 03:38:04.504</td>\n",
       "      <td>2024-10-02 03:42:54.427</td>\n",
       "    </tr>\n",
       "    <tr>\n",
       "      <th>9</th>\n",
       "      <td>2</td>\n",
       "      <td>9</td>\n",
       "      <td>None</td>\n",
       "      <td>{'loss': -0.013740565916058767, 'status': 'ok'}</td>\n",
       "      <td>{'tid': 9, 'cmd': ('domain_attachment', 'FMinI...</td>\n",
       "      <td>None</td>\n",
       "      <td>None</td>\n",
       "      <td>0</td>\n",
       "      <td>2024-10-02 03:42:54.433</td>\n",
       "      <td>2024-10-02 03:47:08.044</td>\n",
       "    </tr>\n",
       "  </tbody>\n",
       "</table>\n",
       "</div>"
      ],
      "text/plain": [
       "   state  tid  spec                                           result  \\\n",
       "0      2    0  None  {'loss': -0.013738538436954384, 'status': 'ok'}   \n",
       "1      2    1  None  {'loss': -0.013739552176506464, 'status': 'ok'}   \n",
       "2      2    2  None  {'loss': -0.013740565916058767, 'status': 'ok'}   \n",
       "3      2    3  None  {'loss': -0.013739552176506464, 'status': 'ok'}   \n",
       "4      2    4  None  {'loss': -0.013739552176506464, 'status': 'ok'}   \n",
       "5      2    5  None  {'loss': -0.013740565916058767, 'status': 'ok'}   \n",
       "6      2    6  None  {'loss': -0.013739552176506464, 'status': 'ok'}   \n",
       "7      2    7  None  {'loss': -0.013739552176506464, 'status': 'ok'}   \n",
       "8      2    8  None  {'loss': -0.013740565916058767, 'status': 'ok'}   \n",
       "9      2    9  None  {'loss': -0.013740565916058767, 'status': 'ok'}   \n",
       "\n",
       "                                                misc exp_key owner  version  \\\n",
       "0  {'tid': 0, 'cmd': ('domain_attachment', 'FMinI...    None  None        0   \n",
       "1  {'tid': 1, 'cmd': ('domain_attachment', 'FMinI...    None  None        0   \n",
       "2  {'tid': 2, 'cmd': ('domain_attachment', 'FMinI...    None  None        0   \n",
       "3  {'tid': 3, 'cmd': ('domain_attachment', 'FMinI...    None  None        0   \n",
       "4  {'tid': 4, 'cmd': ('domain_attachment', 'FMinI...    None  None        0   \n",
       "5  {'tid': 5, 'cmd': ('domain_attachment', 'FMinI...    None  None        0   \n",
       "6  {'tid': 6, 'cmd': ('domain_attachment', 'FMinI...    None  None        0   \n",
       "7  {'tid': 7, 'cmd': ('domain_attachment', 'FMinI...    None  None        0   \n",
       "8  {'tid': 8, 'cmd': ('domain_attachment', 'FMinI...    None  None        0   \n",
       "9  {'tid': 9, 'cmd': ('domain_attachment', 'FMinI...    None  None        0   \n",
       "\n",
       "                book_time            refresh_time  \n",
       "0 2024-10-01 16:43:32.705 2024-10-01 17:01:17.448  \n",
       "1 2024-10-01 17:01:17.454 2024-10-01 17:24:01.952  \n",
       "2 2024-10-01 17:24:01.959 2024-10-01 17:28:04.811  \n",
       "3 2024-10-01 17:28:04.817 2024-10-01 17:33:03.094  \n",
       "4 2024-10-01 17:33:03.100 2024-10-02 03:16:09.891  \n",
       "5 2024-10-02 03:16:09.897 2024-10-02 03:23:56.400  \n",
       "6 2024-10-02 03:23:56.405 2024-10-02 03:35:17.171  \n",
       "7 2024-10-02 03:35:17.176 2024-10-02 03:38:04.499  \n",
       "8 2024-10-02 03:38:04.504 2024-10-02 03:42:54.427  \n",
       "9 2024-10-02 03:42:54.433 2024-10-02 03:47:08.044  "
      ]
     },
     "execution_count": 98,
     "metadata": {},
     "output_type": "execute_result"
    }
   ],
   "source": [
    "trial_df = pd.DataFrame(trials.trials)\n",
    "trial_df"
   ]
  },
  {
   "cell_type": "code",
   "execution_count": 56,
   "metadata": {},
   "outputs": [
    {
     "data": {
      "text/plain": [
       "{'tid': 0,\n",
       " 'cmd': ('domain_attachment', 'FMinIter_Domain'),\n",
       " 'workdir': None,\n",
       " 'idxs': {'batch_size': [np.int64(0)],\n",
       "  'conservative_alpha': [np.int64(0)],\n",
       "  'discount_factor': [np.int64(0)],\n",
       "  'epochs': [np.int64(0)],\n",
       "  'hidden_dims': [np.int64(0)],\n",
       "  'is_conservative': [np.int64(0)],\n",
       "  'learning_rate': [np.int64(0)],\n",
       "  'soft_update_tau': [np.int64(0)],\n",
       "  'target_update_freq': [np.int64(0)],\n",
       "  'training_rounds': [np.int64(0)]},\n",
       " 'vals': {'batch_size': [np.int64(1)],\n",
       "  'conservative_alpha': [np.float64(0.9989178278882772)],\n",
       "  'discount_factor': [np.float64(0.9507968025152693)],\n",
       "  'epochs': [np.int64(8)],\n",
       "  'hidden_dims': [np.int64(0)],\n",
       "  'is_conservative': [np.int64(0)],\n",
       "  'learning_rate': [np.float64(1.0917655015568262)],\n",
       "  'soft_update_tau': [np.float64(0.646111934314871)],\n",
       "  'target_update_freq': [np.int64(2)],\n",
       "  'training_rounds': [np.int64(13)]}}"
      ]
     },
     "execution_count": 56,
     "metadata": {},
     "output_type": "execute_result"
    }
   ],
   "source": [
    "trial_df['misc'][0]"
   ]
  },
  {
   "cell_type": "code",
   "execution_count": 40,
   "metadata": {},
   "outputs": [
    {
     "data": {
      "text/plain": [
       "{'train_env': <OrderEnforcing<TradingEnv<TradingEnv>>>,\n",
       " 'test_env': <OrderEnforcing<TradingEnv<TradingEnv>>>,\n",
       " 'epochs': <hyperopt.pyll.base.Apply at 0x225f78ff7f0>,\n",
       " 'hidden_dims': <hyperopt.pyll.base.Apply at 0x225f78fffd0>,\n",
       " 'training_rounds': <hyperopt.pyll.base.Apply at 0x225f78ff460>,\n",
       " 'learning_rate': <hyperopt.pyll.base.Apply at 0x225f7858a90>,\n",
       " 'discount_factor': <hyperopt.pyll.base.Apply at 0x225f785a110>,\n",
       " 'batch_size': <hyperopt.pyll.base.Apply at 0x225f7858910>,\n",
       " 'target_update_freq': <hyperopt.pyll.base.Apply at 0x225f785bdf0>,\n",
       " 'soft_update_tau': <hyperopt.pyll.base.Apply at 0x225f7858e20>,\n",
       " 'is_conservative': <hyperopt.pyll.base.Apply at 0x225f785bfd0>,\n",
       " 'conservative_alpha': <hyperopt.pyll.base.Apply at 0x225f785af20>}"
      ]
     },
     "execution_count": 40,
     "metadata": {},
     "output_type": "execute_result"
    }
   ],
   "source": [
    "search_space"
   ]
  },
  {
   "cell_type": "code",
   "execution_count": 71,
   "metadata": {},
   "outputs": [
    {
     "data": {
      "text/plain": [
       "np.int64(0)"
      ]
     },
     "execution_count": 71,
     "metadata": {},
     "output_type": "execute_result"
    }
   ],
   "source": [
    "best['hidden_dims']"
   ]
  },
  {
   "cell_type": "code",
   "execution_count": 105,
   "metadata": {},
   "outputs": [
    {
     "name": "stderr",
     "output_type": "stream",
     "text": [
      "  0%|          | 0/2 [00:00<?, ?it/s]"
     ]
    },
    {
     "name": "stderr",
     "output_type": "stream",
     "text": [
      " 50%|█████     | 1/2 [01:16<01:16, 76.22s/it]"
     ]
    },
    {
     "name": "stdout",
     "output_type": "stream",
     "text": [
      "Market Return : 26.39%   |   Portfolio Return : -16.36%   |   position_change : 40   |   \n",
      "Market Return : 26.39%   |   Portfolio Return : -10.32%   |   position_change : 80   |   \n"
     ]
    },
    {
     "name": "stderr",
     "output_type": "stream",
     "text": [
      "100%|██████████| 2/2 [04:27<00:00, 133.73s/it]\n"
     ]
    },
    {
     "ename": "TypeError",
     "evalue": "cannot unpack non-iterable PearlAgent object",
     "output_type": "error",
     "traceback": [
      "\u001b[1;31m---------------------------------------------------------------------------\u001b[0m",
      "\u001b[1;31mTypeError\u001b[0m                                 Traceback (most recent call last)",
      "Cell \u001b[1;32mIn[105], line 12\u001b[0m\n\u001b[0;32m     10\u001b[0m best2[\u001b[38;5;124m'\u001b[39m\u001b[38;5;124mbatch_size\u001b[39m\u001b[38;5;124m'\u001b[39m] \u001b[38;5;241m=\u001b[39m \u001b[38;5;241m1\u001b[39m\n\u001b[0;32m     11\u001b[0m \u001b[38;5;66;03m#best2['hidden_dims'] = hidden_dims[best2['hidden_dims']]\u001b[39;00m\n\u001b[1;32m---> 12\u001b[0m agent, loss_best2 \u001b[38;5;241m=\u001b[39m train_model(\u001b[38;5;241m*\u001b[39m\u001b[38;5;241m*\u001b[39mbest2)\n",
      "\u001b[1;31mTypeError\u001b[0m: cannot unpack non-iterable PearlAgent object"
     ]
    },
    {
     "data": {
      "image/png": "[encoded data removed]",
      "text/plain": [
       "<Figure size 640x480 with 1 Axes>"
      ]
     },
     "metadata": {},
     "output_type": "display_data"
    }
   ],
   "source": [
    "# \n",
    "train_env = make_env(train_env_name, train_df, positions, reward_function, trading_fees, daily_rate)\n",
    "test_env = make_env(test_env_name, test_df, positions, reward_function, trading_fees, daily_rate)\n",
    "\n",
    "hidden_dims = [[64,64],[128,128], [256, 256]]\n",
    "\n",
    "best2 = best\n",
    "best2['train_env'] = train_env\n",
    "best2['test_env'] = test_env\n",
    "best2['batch_size'] = 1\n",
    "#best2['hidden_dims'] = hidden_dims[best2['hidden_dims']]\n",
    "agent, loss_best2 = train_model(**best2)"
   ]
  },
  {
   "cell_type": "code",
   "execution_count": 103,
   "metadata": {},
   "outputs": [
    {
     "data": {
      "text/plain": [
       "{'batch_size': np.int64(0),\n",
       " 'conservative_alpha': np.float64(0.5922524637732596),\n",
       " 'discount_factor': np.float64(0.8773227674822074),\n",
       " 'epochs': np.int64(2),\n",
       " 'hidden_dims': [128, 128],\n",
       " 'is_conservative': np.int64(1),\n",
       " 'learning_rate': np.float64(1.0975208463919917),\n",
       " 'soft_update_tau': np.float64(0.9392118500908295),\n",
       " 'target_update_freq': np.int64(1),\n",
       " 'training_rounds': np.int64(22),\n",
       " 'train_env': <OrderEnforcing<TradingEnv<TradingEnv>>>,\n",
       " 'test_env': <OrderEnforcing<TradingEnv<TradingEnv>>>}"
      ]
     },
     "execution_count": 103,
     "metadata": {},
     "output_type": "execute_result"
    }
   ],
   "source": [
    "best2"
   ]
  },
  {
   "cell_type": "code",
   "execution_count": 67,
   "metadata": {},
   "outputs": [
    {
     "ename": "NameError",
     "evalue": "name 'best_test2' is not defined",
     "output_type": "error",
     "traceback": [
      "\u001b[1;31m---------------------------------------------------------------------------\u001b[0m",
      "\u001b[1;31mNameError\u001b[0m                                 Traceback (most recent call last)",
      "Cell \u001b[1;32mIn[67], line 1\u001b[0m\n\u001b[1;32m----> 1\u001b[0m agent \u001b[38;5;241m=\u001b[39m train_model(\u001b[38;5;241m*\u001b[39m\u001b[38;5;241m*\u001b[39m\u001b[43mbest_test2\u001b[49m)\n",
      "\u001b[1;31mNameError\u001b[0m: name 'best_test2' is not defined"
     ]
    }
   ],
   "source": [
    "best\n",
    "\n",
    "agent = train_model(**best_test)"
   ]
  },
  {
   "cell_type": "code",
   "execution_count": 59,
   "metadata": {},
   "outputs": [],
   "source": [
    "# #env = GymEnvironment(env)\n",
    "\n",
    "# train_env = GymEnvironment(train_env)\n",
    "# test_env = GymEnvironment(test_env)"
   ]
  },
  {
   "cell_type": "code",
   "execution_count": 60,
   "metadata": {},
   "outputs": [],
   "source": [
    "\n",
    "\n",
    "# num_actions = train_env.action_space.n\n",
    "# agent = PearlAgent(\n",
    "#     policy_learner=DeepQLearning(\n",
    "#         state_dim=train_env.observation_space.shape[0],\n",
    "#         action_space=train_env.action_space, \n",
    "#         hidden_dims=[64, 64],\n",
    "#         training_rounds=20,\n",
    "#         action_representation_module=OneHotActionTensorRepresentationModule(\n",
    "#             max_number_actions=num_actions\n",
    "#         ),\n",
    "#     ),\n",
    "#     replay_buffer=FIFOOffPolicyReplayBuffer(10_000),\n",
    "# )\n"
   ]
  },
  {
   "cell_type": "code",
   "execution_count": 61,
   "metadata": {},
   "outputs": [
    {
     "data": {
      "text/plain": [
       "((9,),\n",
       " <pearl.utils.instantiations.spaces.discrete_action.DiscreteActionSpace at 0x2b7ccb27a30>)"
      ]
     },
     "execution_count": 61,
     "metadata": {},
     "output_type": "execute_result"
    }
   ],
   "source": [
    "## Probably unnecessary\n",
    "# observation, action_space = train_env.reset()\n",
    "# observation.shape,action_space"
   ]
  },
  {
   "cell_type": "code",
   "execution_count": 62,
   "metadata": {},
   "outputs": [],
   "source": [
    "# losses=[]"
   ]
  },
  {
   "cell_type": "code",
   "execution_count": null,
   "metadata": {},
   "outputs": [],
   "source": [
    "# n_epochs=1\n",
    "# for i in tqdm(range(n_epochs)):\n",
    "#     observation, action_space = train_env.reset()\n",
    "#     agent.reset(observation, action_space)\n",
    "#     done = False\n",
    "#     while not done:\n",
    "#         action = agent.act(exploit=False)\n",
    "#         action_result = train_env.step(action)\n",
    "#         agent.observe(action_result)\n",
    "#         loss=agent.learn()\n",
    "#         [losses.append(l) for l in loss['loss']]\n",
    "#         done = action_result.done\n"
   ]
  },
  {
   "cell_type": "code",
   "execution_count": 64,
   "metadata": {},
   "outputs": [
    {
     "data": {
      "text/plain": [
       "59900"
      ]
     },
     "execution_count": 64,
     "metadata": {},
     "output_type": "execute_result"
    }
   ],
   "source": [
    "# len(losses)"
   ]
  },
  {
   "cell_type": "code",
   "execution_count": 65,
   "metadata": {},
   "outputs": [
    {
     "data": {
      "text/plain": [
       "[<matplotlib.lines.Line2D at 0x2b7cc55ef50>]"
      ]
     },
     "execution_count": 65,
     "metadata": {},
     "output_type": "execute_result"
    },
    {
     "data": {
      "image/png": "[encoded data removed]",
      "text/plain": [
       "<Figure size 640x480 with 1 Axes>"
      ]
     },
     "metadata": {},
     "output_type": "display_data"
    }
   ],
   "source": [
    "plt.plot(losses[:1000])"
   ]
  },
  {
   "cell_type": "code",
   "execution_count": null,
   "metadata": {},
   "outputs": [],
   "source": [
    "\n"
   ]
  },
  {
   "cell_type": "code",
   "execution_count": null,
   "metadata": {},
   "outputs": [],
   "source": [
    "# observation, action_space = env.reset()\n",
    "# agent.reset(observation, action_space)\n",
    "# done = False\n",
    "# while not done:\n",
    "#     action = agent.act(exploit=True)\n",
    "#     action_result = env.step(action)\n",
    "#     agent.observe(action_result)\n",
    "#     # loss=agent.learn()\n",
    "#     # [losses.append(l) for l in loss['loss']]\n",
    "#     done = action_result.done\n",
    "\n",
    "observation, action_space = test_env.reset()\n",
    "agent.reset(observation, action_space)\n",
    "done = False\n",
    "while not done:\n",
    "    action = agent.act(exploit=True)\n",
    "    action_result = test_env.step(action)\n",
    "    agent.observe(action_result)\n",
    "    # loss=agent.learn()\n",
    "    done = action_result.done"
   ]
  },
  {
   "cell_type": "code",
   "execution_count": 67,
   "metadata": {},
   "outputs": [],
   "source": [
    "# Get back the original test environment (get it out of its Pearl wrapper)\n",
    "og_env=test_env.env.unwrapped"
   ]
  },
  {
   "cell_type": "code",
   "execution_count": 68,
   "metadata": {},
   "outputs": [],
   "source": [
    "og_env.save_for_render()"
   ]
  },
  {
   "cell_type": "code",
   "execution_count": 69,
   "metadata": {},
   "outputs": [
    {
     "name": "stdout",
     "output_type": "stream",
     "text": [
      " * Serving Flask app 'gym_trading_env.renderer'\n",
      " * Debug mode: off\n"
     ]
    },
    {
     "name": "stderr",
     "output_type": "stream",
     "text": [
      "INFO:werkzeug:\u001b[31m\u001b[1mWARNING: This is a development server. Do not use it in a production deployment. Use a production WSGI server instead.\u001b[0m\n",
      " * Running on http://127.0.0.1:5000\n",
      "INFO:werkzeug:\u001b[33mPress CTRL+C to quit\u001b[0m\n"
     ]
    }
   ],
   "source": [
    "renderer = Renderer(render_logs_dir=\"render_logs\")\n",
    "\n",
    "# Add Custom Lines (Simple Moving Average)\n",
    "renderer.add_line( name= \"sma10\", function= lambda df : df[\"close\"].rolling(10).mean(), line_options ={\"width\" : 1, \"color\": \"purple\"})\n",
    "renderer.add_line( name= \"sma20\", function= lambda df : df[\"close\"].rolling(20).mean(), line_options ={\"width\" : 1, \"color\": \"blue\"})\n",
    "\n",
    "renderer.run()"
   ]
  },
  {
   "cell_type": "code",
   "execution_count": null,
   "metadata": {},
   "outputs": [],
   "source": [
    "#action = agent.act(exploit=False)\n",
    "#action"
   ]
  },
  {
   "cell_type": "code",
   "execution_count": null,
   "metadata": {},
   "outputs": [],
   "source": [
    "# action_result"
   ]
  }
 ],
 "metadata": {
  "kernelspec": {
   "display_name": "wai",
   "language": "python",
   "name": "python3"
  },
  "language_info": {
   "codemirror_mode": {
    "name": "ipython",
    "version": 3
   },
   "file_extension": ".py",
   "mimetype": "text/x-python",
   "name": "python",
   "nbconvert_exporter": "python",
   "pygments_lexer": "ipython3",
   "version": "3.10.13"
  }
 },
 "nbformat": 4,
 "nbformat_minor": 2
}
