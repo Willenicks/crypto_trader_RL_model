{
 "cells": [
  {
   "cell_type": "markdown",
   "metadata": {},
   "source": [
    "## Required PIP Installations in Terminal Before Running Code"
   ]
  },
  {
   "cell_type": "code",
   "execution_count": 153,
   "metadata": {},
   "outputs": [],
   "source": [
    "# git clone https://github.com/facebookresearch/Pearl.git\n",
    "# cd Pearl\n",
    "# pip install -e .\n",
    "# cd ..\n",
    "#\n",
    "# pip install gym_trading_env  \n",
    "\n",
    "##### instructions for installing FinTA (Financial Technical Analysis) python Added 10 Oct 2024 #####\n",
    "#Note:  pip install finta\n"
   ]
  },
  {
   "cell_type": "code",
   "execution_count": 1,
   "metadata": {},
   "outputs": [
    {
     "name": "stderr",
     "output_type": "stream",
     "text": [
      "c:\\Users\\548253\\AppData\\Local\\anaconda3\\envs\\gym-trader5\\lib\\site-packages\\tqdm\\auto.py:21: TqdmWarning: IProgress not found. Please update jupyter and ipywidgets. See https://ipywidgets.readthedocs.io/en/stable/user_install.html\n",
      "  from .autonotebook import tqdm as notebook_tqdm\n"
     ]
    }
   ],
   "source": [
    "import gym_trading_env\n",
    "from gym_trading_env.downloader import download, EXCHANGE_LIMIT_RATES\n",
    "from gym_trading_env.renderer import Renderer\n",
    "import gymnasium as gym\n",
    "import datetime\n",
    "\n",
    "import pandas as pd\n",
    "from pandas.core import series\n",
    "import numpy as np\n",
    "\n",
    "# finta Lib - A Library of Technical Analysis Functions  \n",
    "from finta import TA\n",
    "\n",
    "import os # used to get current directory\n",
    "from tqdm.auto import tqdm\n",
    "import matplotlib.pyplot as plt\n",
    "from hyperopt import hp,tpe,fmin, STATUS_OK, Trials # for hyperparameterization\n",
    "from hyperopt.pyll.stochastic import sample\n",
    "from hyperopt import space_eval\n",
    "\n",
    "# Import all the Pearl related methods\n",
    "from pearl.pearl_agent import PearlAgent\n",
    "from pearl.action_representation_modules.one_hot_action_representation_module import (\n",
    "    OneHotActionTensorRepresentationModule,\n",
    ")\n",
    "from pearl.policy_learners.sequential_decision_making.deep_q_learning import (\n",
    "    DeepQLearning,\n",
    ")\n",
    "from pearl.replay_buffers.sequential_decision_making.fifo_off_policy_replay_buffer import (\n",
    "    FIFOOffPolicyReplayBuffer,\n",
    ")\n",
    "from pearl.utils.instantiations.environments.gym_environment import GymEnvironment\n",
    "from pearl.policy_learners.sequential_decision_making.implicit_q_learning import ImplicitQLearning\n",
    "from pearl.utils.functional_utils.train_and_eval.offline_learning_and_evaluation import (\n",
    "    get_offline_data_in_buffer,\n",
    "    offline_evaluation,\n",
    "    offline_learning,\n",
    ")\n",
    "from pearl.neural_networks.sequential_decision_making.actor_networks import VanillaContinuousActorNetwork\n",
    "from pearl.pearl_agent import PearlAgent\n",
    "from pearl.action_representation_modules.one_hot_action_representation_module import (\n",
    "    OneHotActionTensorRepresentationModule,\n",
    ")\n",
    "from pearl.policy_learners.sequential_decision_making.deep_q_learning import (\n",
    "    DeepQLearning,\n",
    ")\n",
    "from pearl.replay_buffers.sequential_decision_making.fifo_off_policy_replay_buffer import (\n",
    "    FIFOOffPolicyReplayBuffer,\n",
    ")\n",
    "from pearl.utils.instantiations.environments.gym_environment import GymEnvironment\n",
    "import torch # used for calculating the mean when evaluating Pearl training performance\n",
    "\n",
    "##FOR USE WITH VANILLAQVALUENETWORK\n",
    "#from pearl.neural_networks.sequential_decision_making.q_value_networks import VanillaQValueNetwork\n",
    "\n",
    "experiment_seed = 42"
   ]
  },
  {
   "cell_type": "code",
   "execution_count": 18,
   "metadata": {},
   "outputs": [],
   "source": [
    "# run this multiple times on purpose b/c it \n",
    "import warnings\n",
    "warnings.simplefilter('ignore')\n",
    "warnings.simplefilter('ignore')\n",
    "warnings.simplefilter('ignore')"
   ]
  },
  {
   "cell_type": "code",
   "execution_count": null,
   "metadata": {},
   "outputs": [],
   "source": []
  },
  {
   "cell_type": "code",
   "execution_count": 4,
   "metadata": {},
   "outputs": [
    {
     "name": "stdout",
     "output_type": "stream",
     "text": [
      "ICP/USDT downloaded from binanceus and stored at data/binanceus-ICPUSDT-1h.pkl\n"
     ]
    }
   ],
   "source": [
    "# Download data from site\n",
    "EXCHANGE_LIMIT_RATES[\"binanceus\"] = {\n",
    "    \"limit\" : 200, # One request will query 200 data points (aka candlesticks).\n",
    "    \"pause_every\" : 120, # it will pause every 120 requests.\n",
    "    \"pause\" : 2, # the pause will last 2 seconds.\n",
    "}\n",
    "download(\n",
    "    exchange_names = [\"binanceus\"],\n",
    "    symbols= [\"ICP/USDT\"],\n",
    "    timeframe= \"1h\",\n",
    "    dir = \"data\",\n",
    "    since= datetime.datetime(year= 2024, month= 9, day=1),\n",
    ")"
   ]
  },
  {
   "cell_type": "code",
   "execution_count": 5,
   "metadata": {},
   "outputs": [],
   "source": [
    "# #function to remove $ sign from dataframe ohclv features.  Don't know if we need it yet, in order to finta TA functions.\n",
    "# def split(dollar: str) -> float:\n",
    "#     return float(dollar.split(\"$\")[1])"
   ]
  },
  {
   "cell_type": "code",
   "execution_count": 6,
   "metadata": {},
   "outputs": [],
   "source": [
    "# def get_newcsvfilename(filename: str):\n",
    "#     filename_w_ext = os.path.basename(filename)\n",
    "#     base, ext = os.path.splitext(filename)\n",
    "#     print(filename)\n",
    "#     print(base)\n",
    "#     print(ext)\n",
    "#     newfilename = base + \".csv\"\n",
    "#     print(newfilename)\n",
    "#     return newfilename"
   ]
  },
  {
   "cell_type": "code",
   "execution_count": 7,
   "metadata": {},
   "outputs": [],
   "source": [
    "def get_data(filename: str):\n",
    "    if filename[:6] != \"./data/\":\n",
    "        filename = \"./data/\" + filename\n",
    "\n",
    "    # df is a DataFrame with original columns : \"open\", \"high\", \"low\", \"close\", \"Volume USD\"\n",
    "    df = pd.read_pickle(filename)\n",
    "\n",
    "    df.sort_index(inplace= True)\n",
    "\n",
    "    df[\"feature_sma10\"] = TA.SMA(df, 10)\n",
    "    df[\"feature_sma5\"] = TA.SMA(df, 5)\n",
    "    df[\"feature_rsi\"] = TA.RSI(df)\n",
    "    bbands = TA.BBANDS(df)   #Returns Series with Bollinger Bands Columns[BB_UPPER, BB_LOSER]\n",
    "    df[[\"feature_\" + col for col in bbands.columns]] = bbands\n",
    "    macd = TA.VW_MACD(df)\n",
    "    df[[\"macd_\" + col for col in macd.columns]] = macd\n",
    "    df[\"feature_storchrsi\"] = TA.STOCHRSI(df)\n",
    "    df[\"feature_adl\"] = TA.ADL(df)\n",
    "    df[\"feature_adx\"] = TA.ADX(df)\n",
    "    ppo = TA.PPO(df)\n",
    "    df[[\"ppo_\" + col for col in ppo.columns]] = ppo\n",
    "    df[\"feature_chaikin\"] = TA.CHAIKIN(df)\n",
    "    df[\"feature_cci\"] = TA.CCI(df)\n",
    "    df[\"feature_copp\"] = TA.COPP(df)\n",
    "    \n",
    "    # Create the feature : ( close[t] - close[t-1] )/ close[t-1]\n",
    "    df[\"feature_close\"] = df[\"close\"].pct_change()\n",
    "\n",
    "    # Create the feature : open[t] / close[t]\n",
    "    df[\"feature_open\"] = df[\"open\"]/df[\"close\"]\n",
    "\n",
    "    # Create the feature : high[t] / close[t]\n",
    "    df[\"feature_high\"] = df[\"high\"]/df[\"close\"]\n",
    "\n",
    "    # Create the feature : low[t] / close[t]\n",
    "    df[\"feature_low\"] = df[\"low\"]/df[\"close\"]\n",
    "\n",
    "    # Create the feature : volume[t] / max(*volume[t-7*24:t+1])\n",
    "    # Create the feature : volume[t] / max(*volume[2])\n",
    "    df[\"feature_volume\"] = df[\"volume\"] / df[\"volume\"].rolling(2).max()\n",
    "\n",
    "    # Simple moving averages of 10 and 5 units of time\n",
    "    df[\"feature_sma10\"] = df[\"close\"].rolling(10).mean()\n",
    "    df[\"feature_sma5\"] = df[\"close\"].rolling(5).mean()\n",
    "\n",
    "   \n",
    "\n",
    "    \n",
    "    df.dropna(inplace= True) # Clean again !\n",
    "    # Each step, the environment will return 5 inputs  : \"feature_close\", \"feature_open\", \"feature_high\", \"feature_low\", \"feature_volume\"\n",
    "\n",
    "    return df \n",
    "\n"
   ]
  },
  {
   "cell_type": "code",
   "execution_count": 8,
   "metadata": {},
   "outputs": [
    {
     "data": {
      "text/html": [
       "<div>\n",
       "<style scoped>\n",
       "    .dataframe tbody tr th:only-of-type {\n",
       "        vertical-align: middle;\n",
       "    }\n",
       "\n",
       "    .dataframe tbody tr th {\n",
       "        vertical-align: top;\n",
       "    }\n",
       "\n",
       "    .dataframe thead th {\n",
       "        text-align: right;\n",
       "    }\n",
       "</style>\n",
       "<table border=\"1\" class=\"dataframe\">\n",
       "  <thead>\n",
       "    <tr style=\"text-align: right;\">\n",
       "      <th></th>\n",
       "      <th>open</th>\n",
       "      <th>high</th>\n",
       "      <th>low</th>\n",
       "      <th>close</th>\n",
       "      <th>volume</th>\n",
       "      <th>date_close</th>\n",
       "      <th>feature_sma10</th>\n",
       "      <th>feature_sma5</th>\n",
       "      <th>feature_rsi</th>\n",
       "      <th>feature_BB_UPPER</th>\n",
       "      <th>...</th>\n",
       "      <th>ppo_SIGNAL</th>\n",
       "      <th>ppo_HISTO</th>\n",
       "      <th>feature_chaikin</th>\n",
       "      <th>feature_cci</th>\n",
       "      <th>feature_copp</th>\n",
       "      <th>feature_close</th>\n",
       "      <th>feature_open</th>\n",
       "      <th>feature_high</th>\n",
       "      <th>feature_low</th>\n",
       "      <th>feature_volume</th>\n",
       "    </tr>\n",
       "    <tr>\n",
       "      <th>date_open</th>\n",
       "      <th></th>\n",
       "      <th></th>\n",
       "      <th></th>\n",
       "      <th></th>\n",
       "      <th></th>\n",
       "      <th></th>\n",
       "      <th></th>\n",
       "      <th></th>\n",
       "      <th></th>\n",
       "      <th></th>\n",
       "      <th></th>\n",
       "      <th></th>\n",
       "      <th></th>\n",
       "      <th></th>\n",
       "      <th></th>\n",
       "      <th></th>\n",
       "      <th></th>\n",
       "      <th></th>\n",
       "      <th></th>\n",
       "      <th></th>\n",
       "      <th></th>\n",
       "    </tr>\n",
       "  </thead>\n",
       "  <tbody>\n",
       "    <tr>\n",
       "      <th>2024-09-01 14:00:00</th>\n",
       "      <td>7.260</td>\n",
       "      <td>7.321</td>\n",
       "      <td>7.212</td>\n",
       "      <td>7.321</td>\n",
       "      <td>166.04</td>\n",
       "      <td>2024-09-01 15:00:00</td>\n",
       "      <td>7.3453</td>\n",
       "      <td>7.3090</td>\n",
       "      <td>30.726289</td>\n",
       "      <td>7.612286</td>\n",
       "      <td>...</td>\n",
       "      <td>-0.375200</td>\n",
       "      <td>-0.115449</td>\n",
       "      <td>52.547663</td>\n",
       "      <td>-115.156553</td>\n",
       "      <td>-4.987003</td>\n",
       "      <td>0.002877</td>\n",
       "      <td>0.991668</td>\n",
       "      <td>1.000000</td>\n",
       "      <td>0.985111</td>\n",
       "      <td>1.000000</td>\n",
       "    </tr>\n",
       "    <tr>\n",
       "      <th>2024-09-01 15:00:00</th>\n",
       "      <td>7.349</td>\n",
       "      <td>7.426</td>\n",
       "      <td>7.349</td>\n",
       "      <td>7.426</td>\n",
       "      <td>52.98</td>\n",
       "      <td>2024-09-01 16:00:00</td>\n",
       "      <td>7.3519</td>\n",
       "      <td>7.3294</td>\n",
       "      <td>52.103034</td>\n",
       "      <td>7.604627</td>\n",
       "      <td>...</td>\n",
       "      <td>-0.376984</td>\n",
       "      <td>-0.007096</td>\n",
       "      <td>52.480776</td>\n",
       "      <td>-15.342307</td>\n",
       "      <td>-4.130492</td>\n",
       "      <td>0.014342</td>\n",
       "      <td>0.989631</td>\n",
       "      <td>1.000000</td>\n",
       "      <td>0.989631</td>\n",
       "      <td>0.319080</td>\n",
       "    </tr>\n",
       "    <tr>\n",
       "      <th>2024-09-01 17:00:00</th>\n",
       "      <td>7.293</td>\n",
       "      <td>7.293</td>\n",
       "      <td>7.257</td>\n",
       "      <td>7.257</td>\n",
       "      <td>12.49</td>\n",
       "      <td>2024-09-01 18:00:00</td>\n",
       "      <td>7.3337</td>\n",
       "      <td>7.3268</td>\n",
       "      <td>33.557465</td>\n",
       "      <td>7.577139</td>\n",
       "      <td>...</td>\n",
       "      <td>-0.394332</td>\n",
       "      <td>-0.060841</td>\n",
       "      <td>38.153374</td>\n",
       "      <td>-113.757330</td>\n",
       "      <td>-3.690235</td>\n",
       "      <td>-0.009959</td>\n",
       "      <td>1.004961</td>\n",
       "      <td>1.004961</td>\n",
       "      <td>1.000000</td>\n",
       "      <td>1.000000</td>\n",
       "    </tr>\n",
       "    <tr>\n",
       "      <th>2024-09-01 18:00:00</th>\n",
       "      <td>7.351</td>\n",
       "      <td>7.426</td>\n",
       "      <td>7.351</td>\n",
       "      <td>7.426</td>\n",
       "      <td>29.61</td>\n",
       "      <td>2024-09-01 19:00:00</td>\n",
       "      <td>7.3355</td>\n",
       "      <td>7.3520</td>\n",
       "      <td>52.525149</td>\n",
       "      <td>7.551887</td>\n",
       "      <td>...</td>\n",
       "      <td>-0.383385</td>\n",
       "      <td>0.043659</td>\n",
       "      <td>36.225716</td>\n",
       "      <td>14.492754</td>\n",
       "      <td>-2.947316</td>\n",
       "      <td>0.023288</td>\n",
       "      <td>0.989900</td>\n",
       "      <td>1.000000</td>\n",
       "      <td>0.989900</td>\n",
       "      <td>1.000000</td>\n",
       "    </tr>\n",
       "    <tr>\n",
       "      <th>2024-09-01 21:00:00</th>\n",
       "      <td>7.380</td>\n",
       "      <td>7.380</td>\n",
       "      <td>7.330</td>\n",
       "      <td>7.330</td>\n",
       "      <td>3.98</td>\n",
       "      <td>2024-09-01 22:00:00</td>\n",
       "      <td>7.3542</td>\n",
       "      <td>7.3730</td>\n",
       "      <td>43.678575</td>\n",
       "      <td>7.485129</td>\n",
       "      <td>...</td>\n",
       "      <td>-0.295398</td>\n",
       "      <td>0.092448</td>\n",
       "      <td>27.848160</td>\n",
       "      <td>-27.925747</td>\n",
       "      <td>-1.345529</td>\n",
       "      <td>-0.012928</td>\n",
       "      <td>1.006821</td>\n",
       "      <td>1.006821</td>\n",
       "      <td>1.000000</td>\n",
       "      <td>1.000000</td>\n",
       "    </tr>\n",
       "    <tr>\n",
       "      <th>...</th>\n",
       "      <td>...</td>\n",
       "      <td>...</td>\n",
       "      <td>...</td>\n",
       "      <td>...</td>\n",
       "      <td>...</td>\n",
       "      <td>...</td>\n",
       "      <td>...</td>\n",
       "      <td>...</td>\n",
       "      <td>...</td>\n",
       "      <td>...</td>\n",
       "      <td>...</td>\n",
       "      <td>...</td>\n",
       "      <td>...</td>\n",
       "      <td>...</td>\n",
       "      <td>...</td>\n",
       "      <td>...</td>\n",
       "      <td>...</td>\n",
       "      <td>...</td>\n",
       "      <td>...</td>\n",
       "      <td>...</td>\n",
       "      <td>...</td>\n",
       "    </tr>\n",
       "    <tr>\n",
       "      <th>2024-10-16 07:00:00</th>\n",
       "      <td>7.936</td>\n",
       "      <td>7.983</td>\n",
       "      <td>7.899</td>\n",
       "      <td>7.958</td>\n",
       "      <td>21.44</td>\n",
       "      <td>2024-10-16 08:00:00</td>\n",
       "      <td>8.0267</td>\n",
       "      <td>7.9810</td>\n",
       "      <td>43.633208</td>\n",
       "      <td>8.212951</td>\n",
       "      <td>...</td>\n",
       "      <td>-0.546729</td>\n",
       "      <td>-0.087149</td>\n",
       "      <td>161.849161</td>\n",
       "      <td>-107.646108</td>\n",
       "      <td>-2.212558</td>\n",
       "      <td>0.001006</td>\n",
       "      <td>0.997235</td>\n",
       "      <td>1.003141</td>\n",
       "      <td>0.992586</td>\n",
       "      <td>1.000000</td>\n",
       "    </tr>\n",
       "    <tr>\n",
       "      <th>2024-10-16 08:00:00</th>\n",
       "      <td>7.958</td>\n",
       "      <td>7.979</td>\n",
       "      <td>7.958</td>\n",
       "      <td>7.978</td>\n",
       "      <td>152.19</td>\n",
       "      <td>2024-10-16 09:00:00</td>\n",
       "      <td>8.0216</td>\n",
       "      <td>7.9718</td>\n",
       "      <td>44.843774</td>\n",
       "      <td>8.207116</td>\n",
       "      <td>...</td>\n",
       "      <td>-0.563294</td>\n",
       "      <td>-0.066262</td>\n",
       "      <td>175.947298</td>\n",
       "      <td>-72.103612</td>\n",
       "      <td>-2.121630</td>\n",
       "      <td>0.002513</td>\n",
       "      <td>0.997493</td>\n",
       "      <td>1.000125</td>\n",
       "      <td>0.997493</td>\n",
       "      <td>1.000000</td>\n",
       "    </tr>\n",
       "    <tr>\n",
       "      <th>2024-10-16 09:00:00</th>\n",
       "      <td>7.949</td>\n",
       "      <td>8.002</td>\n",
       "      <td>7.948</td>\n",
       "      <td>8.002</td>\n",
       "      <td>19.02</td>\n",
       "      <td>2024-10-16 10:00:00</td>\n",
       "      <td>8.0101</td>\n",
       "      <td>7.9806</td>\n",
       "      <td>46.333260</td>\n",
       "      <td>8.129828</td>\n",
       "      <td>...</td>\n",
       "      <td>-0.569670</td>\n",
       "      <td>-0.025503</td>\n",
       "      <td>170.360005</td>\n",
       "      <td>-51.989026</td>\n",
       "      <td>-1.898697</td>\n",
       "      <td>0.003008</td>\n",
       "      <td>0.993377</td>\n",
       "      <td>1.000000</td>\n",
       "      <td>0.993252</td>\n",
       "      <td>0.124975</td>\n",
       "    </tr>\n",
       "    <tr>\n",
       "      <th>2024-10-16 11:00:00</th>\n",
       "      <td>7.958</td>\n",
       "      <td>8.057</td>\n",
       "      <td>7.958</td>\n",
       "      <td>8.057</td>\n",
       "      <td>11.33</td>\n",
       "      <td>2024-10-16 12:00:00</td>\n",
       "      <td>8.0048</td>\n",
       "      <td>7.9932</td>\n",
       "      <td>50.057751</td>\n",
       "      <td>8.132926</td>\n",
       "      <td>...</td>\n",
       "      <td>-0.558917</td>\n",
       "      <td>0.061142</td>\n",
       "      <td>157.403240</td>\n",
       "      <td>10.404771</td>\n",
       "      <td>-1.259485</td>\n",
       "      <td>0.010789</td>\n",
       "      <td>0.987713</td>\n",
       "      <td>1.000000</td>\n",
       "      <td>0.987713</td>\n",
       "      <td>1.000000</td>\n",
       "    </tr>\n",
       "    <tr>\n",
       "      <th>2024-10-16 13:00:00</th>\n",
       "      <td>7.965</td>\n",
       "      <td>7.965</td>\n",
       "      <td>7.958</td>\n",
       "      <td>7.958</td>\n",
       "      <td>2.34</td>\n",
       "      <td>2024-10-16 14:00:00</td>\n",
       "      <td>7.9904</td>\n",
       "      <td>8.0090</td>\n",
       "      <td>44.286656</td>\n",
       "      <td>8.135159</td>\n",
       "      <td>...</td>\n",
       "      <td>-0.514437</td>\n",
       "      <td>0.065202</td>\n",
       "      <td>125.831715</td>\n",
       "      <td>-77.277638</td>\n",
       "      <td>-1.543000</td>\n",
       "      <td>-0.012287</td>\n",
       "      <td>1.000880</td>\n",
       "      <td>1.000880</td>\n",
       "      <td>1.000000</td>\n",
       "      <td>1.000000</td>\n",
       "    </tr>\n",
       "  </tbody>\n",
       "</table>\n",
       "<p>789 rows × 28 columns</p>\n",
       "</div>"
      ],
      "text/plain": [
       "                      open   high    low  close  volume          date_close  \\\n",
       "date_open                                                                     \n",
       "2024-09-01 14:00:00  7.260  7.321  7.212  7.321  166.04 2024-09-01 15:00:00   \n",
       "2024-09-01 15:00:00  7.349  7.426  7.349  7.426   52.98 2024-09-01 16:00:00   \n",
       "2024-09-01 17:00:00  7.293  7.293  7.257  7.257   12.49 2024-09-01 18:00:00   \n",
       "2024-09-01 18:00:00  7.351  7.426  7.351  7.426   29.61 2024-09-01 19:00:00   \n",
       "2024-09-01 21:00:00  7.380  7.380  7.330  7.330    3.98 2024-09-01 22:00:00   \n",
       "...                    ...    ...    ...    ...     ...                 ...   \n",
       "2024-10-16 07:00:00  7.936  7.983  7.899  7.958   21.44 2024-10-16 08:00:00   \n",
       "2024-10-16 08:00:00  7.958  7.979  7.958  7.978  152.19 2024-10-16 09:00:00   \n",
       "2024-10-16 09:00:00  7.949  8.002  7.948  8.002   19.02 2024-10-16 10:00:00   \n",
       "2024-10-16 11:00:00  7.958  8.057  7.958  8.057   11.33 2024-10-16 12:00:00   \n",
       "2024-10-16 13:00:00  7.965  7.965  7.958  7.958    2.34 2024-10-16 14:00:00   \n",
       "\n",
       "                     feature_sma10  feature_sma5  feature_rsi  \\\n",
       "date_open                                                       \n",
       "2024-09-01 14:00:00         7.3453        7.3090    30.726289   \n",
       "2024-09-01 15:00:00         7.3519        7.3294    52.103034   \n",
       "2024-09-01 17:00:00         7.3337        7.3268    33.557465   \n",
       "2024-09-01 18:00:00         7.3355        7.3520    52.525149   \n",
       "2024-09-01 21:00:00         7.3542        7.3730    43.678575   \n",
       "...                            ...           ...          ...   \n",
       "2024-10-16 07:00:00         8.0267        7.9810    43.633208   \n",
       "2024-10-16 08:00:00         8.0216        7.9718    44.843774   \n",
       "2024-10-16 09:00:00         8.0101        7.9806    46.333260   \n",
       "2024-10-16 11:00:00         8.0048        7.9932    50.057751   \n",
       "2024-10-16 13:00:00         7.9904        8.0090    44.286656   \n",
       "\n",
       "                     feature_BB_UPPER  ...  ppo_SIGNAL  ppo_HISTO  \\\n",
       "date_open                              ...                          \n",
       "2024-09-01 14:00:00          7.612286  ...   -0.375200  -0.115449   \n",
       "2024-09-01 15:00:00          7.604627  ...   -0.376984  -0.007096   \n",
       "2024-09-01 17:00:00          7.577139  ...   -0.394332  -0.060841   \n",
       "2024-09-01 18:00:00          7.551887  ...   -0.383385   0.043659   \n",
       "2024-09-01 21:00:00          7.485129  ...   -0.295398   0.092448   \n",
       "...                               ...  ...         ...        ...   \n",
       "2024-10-16 07:00:00          8.212951  ...   -0.546729  -0.087149   \n",
       "2024-10-16 08:00:00          8.207116  ...   -0.563294  -0.066262   \n",
       "2024-10-16 09:00:00          8.129828  ...   -0.569670  -0.025503   \n",
       "2024-10-16 11:00:00          8.132926  ...   -0.558917   0.061142   \n",
       "2024-10-16 13:00:00          8.135159  ...   -0.514437   0.065202   \n",
       "\n",
       "                     feature_chaikin  feature_cci  feature_copp  \\\n",
       "date_open                                                         \n",
       "2024-09-01 14:00:00        52.547663  -115.156553     -4.987003   \n",
       "2024-09-01 15:00:00        52.480776   -15.342307     -4.130492   \n",
       "2024-09-01 17:00:00        38.153374  -113.757330     -3.690235   \n",
       "2024-09-01 18:00:00        36.225716    14.492754     -2.947316   \n",
       "2024-09-01 21:00:00        27.848160   -27.925747     -1.345529   \n",
       "...                              ...          ...           ...   \n",
       "2024-10-16 07:00:00       161.849161  -107.646108     -2.212558   \n",
       "2024-10-16 08:00:00       175.947298   -72.103612     -2.121630   \n",
       "2024-10-16 09:00:00       170.360005   -51.989026     -1.898697   \n",
       "2024-10-16 11:00:00       157.403240    10.404771     -1.259485   \n",
       "2024-10-16 13:00:00       125.831715   -77.277638     -1.543000   \n",
       "\n",
       "                     feature_close  feature_open  feature_high  feature_low  \\\n",
       "date_open                                                                     \n",
       "2024-09-01 14:00:00       0.002877      0.991668      1.000000     0.985111   \n",
       "2024-09-01 15:00:00       0.014342      0.989631      1.000000     0.989631   \n",
       "2024-09-01 17:00:00      -0.009959      1.004961      1.004961     1.000000   \n",
       "2024-09-01 18:00:00       0.023288      0.989900      1.000000     0.989900   \n",
       "2024-09-01 21:00:00      -0.012928      1.006821      1.006821     1.000000   \n",
       "...                            ...           ...           ...          ...   \n",
       "2024-10-16 07:00:00       0.001006      0.997235      1.003141     0.992586   \n",
       "2024-10-16 08:00:00       0.002513      0.997493      1.000125     0.997493   \n",
       "2024-10-16 09:00:00       0.003008      0.993377      1.000000     0.993252   \n",
       "2024-10-16 11:00:00       0.010789      0.987713      1.000000     0.987713   \n",
       "2024-10-16 13:00:00      -0.012287      1.000880      1.000880     1.000000   \n",
       "\n",
       "                     feature_volume  \n",
       "date_open                            \n",
       "2024-09-01 14:00:00        1.000000  \n",
       "2024-09-01 15:00:00        0.319080  \n",
       "2024-09-01 17:00:00        1.000000  \n",
       "2024-09-01 18:00:00        1.000000  \n",
       "2024-09-01 21:00:00        1.000000  \n",
       "...                             ...  \n",
       "2024-10-16 07:00:00        1.000000  \n",
       "2024-10-16 08:00:00        1.000000  \n",
       "2024-10-16 09:00:00        0.124975  \n",
       "2024-10-16 11:00:00        1.000000  \n",
       "2024-10-16 13:00:00        1.000000  \n",
       "\n",
       "[789 rows x 28 columns]"
      ]
     },
     "execution_count": 8,
     "metadata": {},
     "output_type": "execute_result"
    }
   ],
   "source": [
    "df = get_data(\"binanceus-ICPUSDT-1h.pkl\")\n",
    "df"
   ]
  },
  {
   "cell_type": "markdown",
   "metadata": {},
   "source": [
    "## Split the data into train and test data; need consecutive dates in each"
   ]
  },
  {
   "cell_type": "code",
   "execution_count": 9,
   "metadata": {},
   "outputs": [],
   "source": [
    "split_date=pd.to_datetime('09/25/2024')\n",
    "train_df=df[:split_date]\n",
    "test_df=df[split_date:]\n"
   ]
  },
  {
   "cell_type": "markdown",
   "metadata": {},
   "source": [
    "## Define Reward Functions"
   ]
  },
  {
   "cell_type": "code",
   "execution_count": 10,
   "metadata": {},
   "outputs": [],
   "source": [
    "# function is a logarithm of the quotient of the last last 2 timesteps (one hour apart)\n",
    "def log_reward_function(history):\n",
    "        return np.log(history[\"portfolio_valuation\", -1] / history[\"portfolio_valuation\", -2])\n",
    "\n",
    "# function is the difference between the last 2 time steps\n",
    "def diff_reward_function(history):\n",
    "        return history[\"portfolio_valuation\", -1] - history[\"portfolio_valuation\", -2]\n",
    "\n",
    "# An total growth of the portfolio since first timestep\n",
    "def cumulative_reward_function(history):\n",
    "        return np.diff(history[\"portfolio_valuation\", -1] , history[\"portfolio_valuation\", 0])/len(history[\"portfolio_valuation\"])\n",
    "\n",
    "# Shape Ratio reward function\n",
    "def shape_reward_function(history):\n",
    "        return history[\"portfolio_valuation\", -1] /np.std(history[\"portfolio_valuation\"])\n",
    "\n",
    "# Final evaluation (total portfolio increase/decrease)\n",
    "def final_evalulation(history):\n",
    "        return (history[\"portfolio_valuation\", -1] / history[\"portfolio_valuation\", 0]) - 1\n",
    "\n",
    "def n_trades(history):\n",
    "        return sum(np.abs(np.diff(history['position'])))"
   ]
  },
  {
   "cell_type": "code",
   "execution_count": 11,
   "metadata": {},
   "outputs": [],
   "source": [
    "def make_env(env_name, df, positions, reward_function, trading_fees, daily_borrow_interest=0.000072):\n",
    "# Trading Fees and Daily Borrow Interest are ratios (so percent / 100)\n",
    "#\n",
    "# Positions are the actions the agent can take (buy/sell/short/nothing) as ranges -inf to inf including decimal values.\n",
    "# These are the possible actions our agent will take. Sample values:\n",
    "#      1 = Long entire portfolio value = spend entire portfolio value on buying X, betting the price of X will rise and can sell for a profit\n",
    "#     -1 = Short entire portfolio value = Borrow & immediately sell X worth the entire portfolio value, betting the price of X will drop and can buy back\n",
    "#     0.5= Long half portfolio value\n",
    "#      2 = Long double portfolio value = Borrow $ equal to your portfolio then spend that + original portfolio value buying X, betting X will rise and can sell for a profit\n",
    "#     -2 = Short double portfolio value\n",
    "#      0 = Do nothing at this time\n",
    "\n",
    "    # Calculate the interest rate based off the amount of time between timesteps compared\n",
    "    # to the daily interest rate (daily_borrow_interest)\n",
    "    timestep_size = df.index[1]-df.index[0]\n",
    "    borrow_interest_per_timestep = daily_borrow_interest * timestep_size / pd.Timedelta(\"1 day\")\n",
    "    \n",
    "    env = gym.make(\"TradingEnv\",\n",
    "             name = env_name,\n",
    "             df = df,\n",
    "             positions = positions,\n",
    "             reward_function = reward_function,\n",
    "             trading_fees = trading_fees / 100,\n",
    "             borrow_interest_rate = borrow_interest_per_timestep,\n",
    "        )\n",
    "    \n",
    "    env.add_metric(name=\"position_change\", function=n_trades)\n",
    "\n",
    "    return env\n",
    "\n"
   ]
  },
  {
   "cell_type": "code",
   "execution_count": 12,
   "metadata": {},
   "outputs": [],
   "source": [
    "\n",
    "# reward_function = log_reward_function\n",
    "# train_env = gym.make(\"TradingEnv\",\n",
    "#         name= \"ICPUSD\",\n",
    "#         df = train_df,\n",
    "#         positions = [ -1, 0, 1], # -1 (=SHORT), 0(=OUT), +1 (=LONG)\n",
    "#         reward_function = reward_function,\n",
    "#         trading_fees = 0.01/100, # 0.01% per stock buy / sell (Binance fees)\n",
    "#         borrow_interest_rate= 0.0003/100, # 0.0003% per timestep (one timestep = 1h here)\n",
    "#     )\n"
   ]
  },
  {
   "cell_type": "code",
   "execution_count": 19,
   "metadata": {},
   "outputs": [],
   "source": [
    "train_env_name = \"ICP 1-Hour Train\"\n",
    "test_env_name = \"ICP 1-Hour Test\"\n",
    "reward_function = log_reward_function\n",
    "positions = [ -1, 0, 1]\n",
    "trading_fees = 0.01 / 100 # 0.01% per stock buy / sell (Binance fees)\n",
    "daily_rate = 0.000072 # 0.0072% daily interest\n",
    "\n",
    "train_env = make_env(train_env_name, train_df, positions, reward_function, trading_fees, daily_rate)\n",
    "test_env = make_env(test_env_name, test_df, positions, reward_function, trading_fees, daily_rate)\n",
    "\n",
    "train_env_original = train_env\n",
    "test_env_original = test_env"
   ]
  },
  {
   "cell_type": "code",
   "execution_count": 20,
   "metadata": {},
   "outputs": [
    {
     "data": {
      "text/plain": [
       "{'idx': 0,\n",
       " 'step': 0,\n",
       " 'date': np.datetime64('2024-09-01T14:00:00.000000000'),\n",
       " 'position_index': 2,\n",
       " 'position': np.int64(1),\n",
       " 'real_position': np.int64(1),\n",
       " 'data_close': 7.321,\n",
       " 'data_date_close': Timestamp('2024-09-01 15:00:00'),\n",
       " 'data_macd_MACD': -0.03762242510134861,\n",
       " 'data_ppo_PPO': -0.49064888303172133,\n",
       " 'data_volume': 166.04,\n",
       " 'data_ppo_HISTO': -0.11544919175082113,\n",
       " 'data_open': 7.26,\n",
       " 'data_high': 7.321,\n",
       " 'data_macd_SIGNAL': -0.03266049876238728,\n",
       " 'data_ppo_SIGNAL': -0.3751996912809002,\n",
       " 'data_low': 7.212,\n",
       " 'portfolio_valuation': 1000.0,\n",
       " 'portfolio_distribution_asset': np.float64(136.59336156262808),\n",
       " 'portfolio_distribution_fiat': 0,\n",
       " 'portfolio_distribution_borrowed_asset': 0,\n",
       " 'portfolio_distribution_borrowed_fiat': 0,\n",
       " 'portfolio_distribution_interest_asset': 0,\n",
       " 'portfolio_distribution_interest_fiat': 0,\n",
       " 'reward': 0}"
      ]
     },
     "execution_count": 20,
     "metadata": {},
     "output_type": "execute_result"
    }
   ],
   "source": [
    "obs,info=train_env.reset()\n",
    "info"
   ]
  },
  {
   "cell_type": "markdown",
   "metadata": {},
   "source": [
    "## Make Wrapper Environment for Pearl"
   ]
  },
  {
   "cell_type": "code",
   "execution_count": 21,
   "metadata": {},
   "outputs": [],
   "source": [
    "def train_model(\n",
    "        train_env, \n",
    "        epochs=5, \n",
    "        hidden_dims=[64, 64], \n",
    "        training_rounds=20,\n",
    "        learning_rate = 0.001,\n",
    "        discount_factor = 0.99,\n",
    "        batch_size = 128,\n",
    "        target_update_freq = 10,\n",
    "        soft_update_tau = 0.75,  # a value of 1 indicates no soft updates\n",
    "        is_conservative = False,\n",
    "        conservative_alpha = False,\n",
    "        **kwargs):\n",
    "    \n",
    "    # Apply Pearl Wrapper to the training environment; makes it easier for Pearl to interact with\n",
    "    train_env = GymEnvironment(train_env)\n",
    "    \n",
    "    num_actions = train_env.action_space.n\n",
    "    agent = PearlAgent(\n",
    "        policy_learner=DeepQLearning(\n",
    "        state_dim=train_env.observation_space.shape[0],\n",
    "        action_space=train_env.action_space, \n",
    "        hidden_dims=list(hidden_dims),\n",
    "        training_rounds=training_rounds,\n",
    "        learning_rate = learning_rate,\n",
    "        discount_factor = discount_factor,\n",
    "        batch_size = batch_size,\n",
    "        target_update_freq = target_update_freq,\n",
    "        soft_update_tau = soft_update_tau,  # a value of 1 indicates no soft updates\n",
    "        is_conservative = is_conservative,\n",
    "        conservative_alpha = conservative_alpha,\n",
    "        action_representation_module=OneHotActionTensorRepresentationModule(\n",
    "            max_number_actions=num_actions\n",
    "        ),\n",
    "    ),\n",
    "    replay_buffer=FIFOOffPolicyReplayBuffer(10_000),\n",
    "    )\n",
    "\n",
    "    losses=[]\n",
    "    \n",
    "    n_epochs=epochs\n",
    "    for i in tqdm(range(n_epochs)):\n",
    "        observation, action_space = train_env.reset()\n",
    "        agent.reset(observation, action_space)\n",
    "        done = False\n",
    "        while not done:\n",
    "            action = agent.act(exploit=False)\n",
    "            action_result = train_env.step(action)\n",
    "            \n",
    "            agent.observe(action_result)\n",
    "            loss=agent.learn()\n",
    "            [losses.append(l) for l in loss['loss']]\n",
    "            done = action_result.done\n",
    "\n",
    "    # For plotting purposes, limit all loss values to 1 so the scale of huge\n",
    "    # losses do not make all other lososes look like 0\n",
    "    # Ex: first loss 6,000 whereas other losses are 0.07\n",
    "    losses = [min(loss, 1) for loss in losses]\n",
    "\n",
    "    plt.plot(losses[:1000])\n",
    "\n",
    "    # Unwrap the Pearl-wrapped environment\n",
    "    train_env=train_env.env.unwrapped\n",
    "\n",
    "    return agent\n",
    "\n",
    "def test_model(test_env, agent):\n",
    "    # Apply Pearl Wrapper to the training environment; makes it easier for Pearl to interact with\n",
    "    test_env = GymEnvironment(test_env)\n",
    "    observation, action_space = test_env.reset()\n",
    "    agent.reset(observation, action_space)\n",
    "    done = False\n",
    "    while not done:\n",
    "        action = agent.act(exploit=True)\n",
    "        action_result = test_env.step(action)\n",
    "        agent.observe(action_result)\n",
    "        # no agent.learn() while testing\n",
    "        done = action_result.done\n",
    "    \n",
    "    # Get back the original test environment (get it out of its Pearl wrapper)\n",
    "    test_env=test_env.env.unwrapped\n",
    "\n",
    "    # Return the negative portfolio value because fmax isn't available to maximize portfolio,\n",
    "    # so to maximize it need to minimize the negative portfolio value\n",
    "\n",
    "    loss = {'loss': -final_evalulation(test_env.historical_info),\n",
    "            'status': STATUS_OK}\n",
    "            # don't add 'Trained_Model': agent since it may run out of memory\n",
    "    return loss\n",
    "    # return test_env\n",
    "\n",
    "\n",
    "# def train_test_model(train_env, test_env, epochs=5, hidden_dims=[64, 64], training_rounds=20):\n",
    "#     agent = train_model(train_env, epochs, hidden_dims, training_rounds)\n",
    "#     return test_model(test_env, agent)\n",
    "\n",
    "def train_test_model(params):\n",
    "    train_env = params['train_env']\n",
    "    test_env = params['test_env']\n",
    "    agent = train_model(**params)\n",
    "    return test_model(test_env, agent)\n",
    "\n",
    "\n",
    "# def f(params):\n",
    "#     epochs = params['epochs']\n",
    "#     hidden_dims = ['hidden_dims']"
   ]
  },
  {
   "cell_type": "markdown",
   "metadata": {},
   "source": [
    "### For Short, Manual Runs (Uncomment out the below)"
   ]
  },
  {
   "cell_type": "code",
   "execution_count": null,
   "metadata": {},
   "outputs": [],
   "source": [
    "# simple_params = {\n",
    "# 'train_env': train_env,\n",
    "# 'test_env': test_env,\n",
    "# 'epochs':2,\n",
    "# 'hidden_dims':[64, 64],\n",
    "# 'training_rounds':20\n",
    "# }\n",
    "\n",
    "# agent = train_model(**simple_params)\n",
    "# agent.policy_learner"
   ]
  },
  {
   "cell_type": "code",
   "execution_count": null,
   "metadata": {},
   "outputs": [],
   "source": [
    "# portfolio_return = test_model(test_env, agent)\n",
    "# print(portfolio_return)"
   ]
  },
  {
   "cell_type": "code",
   "execution_count": null,
   "metadata": {},
   "outputs": [],
   "source": []
  },
  {
   "cell_type": "markdown",
   "metadata": {},
   "source": [
    "## Define the Search Space of Hyperparameters"
   ]
  },
  {
   "cell_type": "code",
   "execution_count": 22,
   "metadata": {},
   "outputs": [],
   "source": [
    "search_space={\n",
    "'train_env': train_env,\n",
    "'test_env': test_env,\n",
    "'epochs': hp.randint('epochs',10,50),\n",
    "'hidden_dims': hp.choice('hidden_dims',[[64,64],[128,128], [256, 256]]),\n",
    "'training_rounds': hp.randint('training_rounds', 5, 30),\n",
    "'learning_rate': hp.loguniform('learning_rate', 1e-6, 1e-1),\n",
    "'discount_factor': hp.uniform('discount_factor', 0.8, 0.99), # gamma (greediness)\n",
    "'batch_size': hp.choice('batch_size', [64, 128]),\n",
    "'target_update_freq': hp.choice('target_update_freq', [1, 5, 10, 24]),\n",
    "'soft_update_tau': hp.uniform('soft_update_tau', 0.1, .99), \n",
    "'is_conservative': hp.choice('is_conservative', [True, False]),\n",
    "'conservative_alpha': hp.uniform('conservative_alpha', 0.5, 1.0),\n",
    "}\n",
    "\n",
    "# Short version of search_space if short on time\n",
    "# search_space={\n",
    "# 'train_env': train_env,\n",
    "# 'test_env': test_env,\n",
    "# 'epochs':hp.randint('epochs',2,5),\n",
    "# 'hidden_dims':hp.choice('hidden_dims',[[64,64],[128,128]]),\n",
    "# 'training_rounds':hp.randint('training_rounds', 5, 10)\n",
    "# }\n"
   ]
  },
  {
   "cell_type": "code",
   "execution_count": 23,
   "metadata": {},
   "outputs": [
    {
     "name": "stdout",
     "output_type": "stream",
     "text": [
      "  0%|          | 0/1 [00:00<?, ?trial/s, best loss=?]"
     ]
    },
    {
     "name": "stderr",
     "output_type": "stream",
     "text": [
      "  0%|          | 0/8 [00:00<?, ?it/s]\n"
     ]
    },
    {
     "name": "stdout",
     "output_type": "stream",
     "text": [
      "Market Return : 29.20%   |   Portfolio Return : -18.21%   |   position_change : 105   |   \n",
      "  0%|          | 0/1 [00:46<?, ?trial/s, best loss=?]"
     ]
    },
    {
     "name": "stderr",
     "output_type": "stream",
     "text": [
      " 12%|#2        | 1/8 [00:42<04:59, 42.73s/it]\n"
     ]
    },
    {
     "name": "stdout",
     "output_type": "stream",
     "text": [
      "Market Return : 29.20%   |   Portfolio Return : -33.09%   |   position_change : 60   |   \n",
      "  0%|          | 0/1 [02:10<?, ?trial/s, best loss=?]"
     ]
    },
    {
     "name": "stderr",
     "output_type": "stream",
     "text": [
      " 25%|##5       | 2/8 [02:06<06:39, 66.66s/it]\n"
     ]
    },
    {
     "name": "stdout",
     "output_type": "stream",
     "text": [
      "Market Return : 29.20%   |   Portfolio Return : -30.72%   |   position_change : 31   |   \n",
      "  0%|          | 0/1 [03:48<?, ?trial/s, best loss=?]"
     ]
    },
    {
     "name": "stderr",
     "output_type": "stream",
     "text": [
      " 38%|###7      | 3/8 [03:44<06:46, 81.28s/it]\n"
     ]
    },
    {
     "name": "stdout",
     "output_type": "stream",
     "text": [
      "Market Return : 29.20%   |   Portfolio Return : -29.43%   |   position_change : 54   |   \n",
      "  0%|          | 0/1 [05:17<?, ?trial/s, best loss=?]"
     ]
    },
    {
     "name": "stderr",
     "output_type": "stream",
     "text": [
      " 50%|#####     | 4/8 [05:13<05:37, 84.37s/it]\n"
     ]
    },
    {
     "name": "stdout",
     "output_type": "stream",
     "text": [
      "Market Return : 29.20%   |   Portfolio Return : -27.67%   |   position_change : 62   |   \n",
      "  0%|          | 0/1 [06:52<?, ?trial/s, best loss=?]"
     ]
    },
    {
     "name": "stderr",
     "output_type": "stream",
     "text": [
      " 62%|######2   | 5/8 [06:48<04:24, 88.11s/it]\n"
     ]
    },
    {
     "name": "stdout",
     "output_type": "stream",
     "text": [
      "Market Return : 29.20%   |   Portfolio Return : -18.39%   |   position_change : 52   |   \n",
      "  0%|          | 0/1 [08:41<?, ?trial/s, best loss=?]"
     ]
    },
    {
     "name": "stderr",
     "output_type": "stream",
     "text": [
      " 75%|#######5  | 6/8 [08:37<03:10, 95.12s/it]\n"
     ]
    },
    {
     "name": "stdout",
     "output_type": "stream",
     "text": [
      "Market Return : 29.20%   |   Portfolio Return : -19.59%   |   position_change : 48   |   \n",
      "  0%|          | 0/1 [10:37<?, ?trial/s, best loss=?]"
     ]
    },
    {
     "name": "stderr",
     "output_type": "stream",
     "text": [
      " 88%|########7 | 7/8 [10:33<01:41, 101.97s/it]\n"
     ]
    },
    {
     "name": "stdout",
     "output_type": "stream",
     "text": [
      "Market Return : 29.20%   |   Portfolio Return : -22.11%   |   position_change : 47   |   \n",
      "  0%|          | 0/1 [12:29<?, ?trial/s, best loss=?]"
     ]
    },
    {
     "name": "stderr",
     "output_type": "stream",
     "text": [
      "100%|##########| 8/8 [12:25<00:00, 105.26s/it]\n",
      "100%|##########| 8/8 [12:25<00:00, 93.22s/it] \n"
     ]
    },
    {
     "name": "stdout",
     "output_type": "stream",
     "text": [
      "Market Return : -15.87%   |   Portfolio Return : 15.87%   |   position_change : 2   |   \n",
      "100%|██████████| 1/1 [12:31<00:00, 751.10s/trial, best loss: -0.15868000909923552]\n"
     ]
    },
    {
     "data": {
      "text/plain": [
       "{'batch_size': np.int64(1),\n",
       " 'conservative_alpha': np.float64(0.566336422139115),\n",
       " 'discount_factor': np.float64(0.9562430912571531),\n",
       " 'epochs': np.int64(8),\n",
       " 'hidden_dims': np.int64(1),\n",
       " 'is_conservative': np.int64(0),\n",
       " 'learning_rate': np.float64(1.0383616180001911),\n",
       " 'soft_update_tau': np.float64(0.5171679927255015),\n",
       " 'target_update_freq': np.int64(2),\n",
       " 'training_rounds': np.int64(7)}"
      ]
     },
     "execution_count": 23,
     "metadata": {},
     "output_type": "execute_result"
    },
    {
     "data": {
      "image/png": "[encoded data removed]",
      "text/plain": [
       "<Figure size 640x480 with 1 Axes>"
      ]
     },
     "metadata": {},
     "output_type": "display_data"
    }
   ],
   "source": [
    "#def train_test_model(train_env, test_env, epochs=5, hidden_dims=[64, 64], training_rounds=20):\n",
    "trials = Trials()\n",
    "\n",
    "best = fmin(fn=train_test_model,space=search_space,algo=tpe.suggest, max_evals=30, trials=trials)\n",
    "best"
   ]
  },
  {
   "cell_type": "code",
   "execution_count": 24,
   "metadata": {},
   "outputs": [
    {
     "data": {
      "text/plain": [
       "{'batch_size': np.int64(1),\n",
       " 'conservative_alpha': np.float64(0.566336422139115),\n",
       " 'discount_factor': np.float64(0.9562430912571531),\n",
       " 'epochs': np.int64(8),\n",
       " 'hidden_dims': np.int64(1),\n",
       " 'is_conservative': np.int64(0),\n",
       " 'learning_rate': np.float64(1.0383616180001911),\n",
       " 'soft_update_tau': np.float64(0.5171679927255015),\n",
       " 'target_update_freq': np.int64(2),\n",
       " 'training_rounds': np.int64(7)}"
      ]
     },
     "execution_count": 24,
     "metadata": {},
     "output_type": "execute_result"
    }
   ],
   "source": [
    "best"
   ]
  },
  {
   "cell_type": "markdown",
   "metadata": {},
   "source": [
    "## \"best\" shows data types instead of the parameter values themselves.  Let's get the actual values of the best parameters"
   ]
  },
  {
   "cell_type": "code",
   "execution_count": 33,
   "metadata": {},
   "outputs": [
    {
     "name": "stdout",
     "output_type": "stream",
     "text": [
      "Best parameter values are: \n"
     ]
    },
    {
     "data": {
      "text/plain": [
       "loss                              -0.15868\n",
       "status                                  ok\n",
       "batch_size                             [1]\n",
       "conservative_alpha     [0.566336422139115]\n",
       "discount_factor       [0.9562430912571531]\n",
       "epochs                                 [8]\n",
       "hidden_dims                            [1]\n",
       "is_conservative                        [0]\n",
       "learning_rate         [1.0383616180001911]\n",
       "soft_update_tau       [0.5171679927255015]\n",
       "target_update_freq                     [2]\n",
       "training_rounds                        [7]\n",
       "Name: 0, dtype: object"
      ]
     },
     "execution_count": 33,
     "metadata": {},
     "output_type": "execute_result"
    }
   ],
   "source": [
    "def get_trials(trials):\n",
    "    trial_df = pd.DataFrame(trials.trials)\n",
    "    misc = trial_df['misc'].apply(lambda row: pd.Series(row))\n",
    "    result = trial_df['result'].apply(lambda row: pd.Series(row))\n",
    "    #print(misc)\n",
    "    vals = misc['vals'].apply(lambda row: pd.Series(row))\n",
    "    df = pd.concat([result, vals], axis=1)\n",
    "    return df\n",
    "\n",
    "expanded_df = get_trials(trials)\n",
    "\n",
    "print(\"Best parameter values are: \")\n",
    "expanded_df.loc[0]\n",
    "\n"
   ]
  },
  {
   "cell_type": "code",
   "execution_count": 27,
   "metadata": {},
   "outputs": [
    {
     "data": {
      "text/html": [
       "<div>\n",
       "<style scoped>\n",
       "    .dataframe tbody tr th:only-of-type {\n",
       "        vertical-align: middle;\n",
       "    }\n",
       "\n",
       "    .dataframe tbody tr th {\n",
       "        vertical-align: top;\n",
       "    }\n",
       "\n",
       "    .dataframe thead th {\n",
       "        text-align: right;\n",
       "    }\n",
       "</style>\n",
       "<table border=\"1\" class=\"dataframe\">\n",
       "  <thead>\n",
       "    <tr style=\"text-align: right;\">\n",
       "      <th></th>\n",
       "      <th>state</th>\n",
       "      <th>tid</th>\n",
       "      <th>spec</th>\n",
       "      <th>result</th>\n",
       "      <th>misc</th>\n",
       "      <th>exp_key</th>\n",
       "      <th>owner</th>\n",
       "      <th>version</th>\n",
       "      <th>book_time</th>\n",
       "      <th>refresh_time</th>\n",
       "    </tr>\n",
       "  </thead>\n",
       "  <tbody>\n",
       "    <tr>\n",
       "      <th>0</th>\n",
       "      <td>2</td>\n",
       "      <td>0</td>\n",
       "      <td>None</td>\n",
       "      <td>{'loss': -0.15868000909923552, 'status': 'ok'}</td>\n",
       "      <td>{'tid': 0, 'cmd': ('domain_attachment', 'FMinI...</td>\n",
       "      <td>None</td>\n",
       "      <td>None</td>\n",
       "      <td>0</td>\n",
       "      <td>2024-10-16 13:26:16.769</td>\n",
       "      <td>2024-10-16 13:38:47.846</td>\n",
       "    </tr>\n",
       "  </tbody>\n",
       "</table>\n",
       "</div>"
      ],
      "text/plain": [
       "   state  tid  spec                                          result  \\\n",
       "0      2    0  None  {'loss': -0.15868000909923552, 'status': 'ok'}   \n",
       "\n",
       "                                                misc exp_key owner  version  \\\n",
       "0  {'tid': 0, 'cmd': ('domain_attachment', 'FMinI...    None  None        0   \n",
       "\n",
       "                book_time            refresh_time  \n",
       "0 2024-10-16 13:26:16.769 2024-10-16 13:38:47.846  "
      ]
     },
     "execution_count": 27,
     "metadata": {},
     "output_type": "execute_result"
    }
   ],
   "source": [
    "# trial_df = pd.DataFrame(trials.trials)\n",
    "# trial_df"
   ]
  },
  {
   "cell_type": "code",
   "execution_count": 28,
   "metadata": {},
   "outputs": [
    {
     "data": {
      "text/plain": [
       "{'tid': 0,\n",
       " 'cmd': ('domain_attachment', 'FMinIter_Domain'),\n",
       " 'workdir': None,\n",
       " 'idxs': {'batch_size': [np.int64(0)],\n",
       "  'conservative_alpha': [np.int64(0)],\n",
       "  'discount_factor': [np.int64(0)],\n",
       "  'epochs': [np.int64(0)],\n",
       "  'hidden_dims': [np.int64(0)],\n",
       "  'is_conservative': [np.int64(0)],\n",
       "  'learning_rate': [np.int64(0)],\n",
       "  'soft_update_tau': [np.int64(0)],\n",
       "  'target_update_freq': [np.int64(0)],\n",
       "  'training_rounds': [np.int64(0)]},\n",
       " 'vals': {'batch_size': [np.int64(1)],\n",
       "  'conservative_alpha': [np.float64(0.566336422139115)],\n",
       "  'discount_factor': [np.float64(0.9562430912571531)],\n",
       "  'epochs': [np.int64(8)],\n",
       "  'hidden_dims': [np.int64(1)],\n",
       "  'is_conservative': [np.int64(0)],\n",
       "  'learning_rate': [np.float64(1.0383616180001911)],\n",
       "  'soft_update_tau': [np.float64(0.5171679927255015)],\n",
       "  'target_update_freq': [np.int64(2)],\n",
       "  'training_rounds': [np.int64(7)]}}"
      ]
     },
     "execution_count": 28,
     "metadata": {},
     "output_type": "execute_result"
    }
   ],
   "source": [
    "# trial_df['misc'][0]"
   ]
  },
  {
   "cell_type": "markdown",
   "metadata": {},
   "source": [
    "## Retrain with the best parameters"
   ]
  },
  {
   "cell_type": "code",
   "execution_count": 47,
   "metadata": {},
   "outputs": [
    {
     "data": {
      "text/plain": [
       "{'batch_size': 128,\n",
       " 'conservative_alpha': 0.566336422139115,\n",
       " 'discount_factor': 0.9562430912571531,\n",
       " 'epochs': np.int64(8),\n",
       " 'hidden_dims': (128, 128),\n",
       " 'is_conservative': True,\n",
       " 'learning_rate': 1.0383616180001911,\n",
       " 'soft_update_tau': 0.5171679927255015,\n",
       " 'target_update_freq': 10,\n",
       " 'test_env': <OrderEnforcing<TradingEnv<TradingEnv>>>,\n",
       " 'train_env': <OrderEnforcing<TradingEnv<TradingEnv>>>,\n",
       " 'training_rounds': np.int64(7)}"
      ]
     },
     "execution_count": 47,
     "metadata": {},
     "output_type": "execute_result"
    }
   ],
   "source": [
    "from hyperopt import space_eval\n",
    "space_eval(search_space, best)"
   ]
  },
  {
   "cell_type": "code",
   "execution_count": 49,
   "metadata": {},
   "outputs": [
    {
     "ename": "TypeError",
     "evalue": "train_model() missing 1 required positional argument: 'train_env'",
     "output_type": "error",
     "traceback": [
      "\u001b[1;31m---------------------------------------------------------------------------\u001b[0m",
      "\u001b[1;31mTypeError\u001b[0m                                 Traceback (most recent call last)",
      "Cell \u001b[1;32mIn[49], line 3\u001b[0m\n\u001b[0;32m      1\u001b[0m train_env \u001b[38;5;241m=\u001b[39m make_env(train_env_name, train_df, positions, reward_function, trading_fees, daily_rate)\n\u001b[0;32m      2\u001b[0m test_env \u001b[38;5;241m=\u001b[39m make_env(test_env_name, test_df, positions, reward_function, trading_fees, daily_rate)\n\u001b[1;32m----> 3\u001b[0m agent, loss_best \u001b[38;5;241m=\u001b[39m train_model(\u001b[38;5;241m*\u001b[39m\u001b[38;5;241m*\u001b[39mbest)\n",
      "\u001b[1;31mTypeError\u001b[0m: train_model() missing 1 required positional argument: 'train_env'"
     ]
    }
   ],
   "source": [
    "# train_env = make_env(train_env_name, train_df, positions, reward_function, trading_fees, daily_rate)\n",
    "# test_env = make_env(test_env_name, test_df, positions, reward_function, trading_fees, daily_rate)\n",
    "# best2 = best.copy()\n",
    "\n",
    "# agent, loss_best = train_model(**best)"
   ]
  },
  {
   "cell_type": "code",
   "execution_count": 51,
   "metadata": {},
   "outputs": [
    {
     "name": "stderr",
     "output_type": "stream",
     "text": [
      "  0%|          | 0/8 [00:00<?, ?it/s]"
     ]
    },
    {
     "name": "stderr",
     "output_type": "stream",
     "text": [
      " 12%|█▎        | 1/8 [00:17<02:05, 17.86s/it]"
     ]
    },
    {
     "name": "stdout",
     "output_type": "stream",
     "text": [
      "Market Return : 29.20%   |   Portfolio Return : -1.14%   |   position_change : 78   |   \n"
     ]
    },
    {
     "name": "stderr",
     "output_type": "stream",
     "text": [
      " 25%|██▌       | 2/8 [00:32<01:36, 16.15s/it]"
     ]
    },
    {
     "name": "stdout",
     "output_type": "stream",
     "text": [
      "Market Return : 29.20%   |   Portfolio Return : -19.02%   |   position_change : 54   |   \n"
     ]
    },
    {
     "name": "stderr",
     "output_type": "stream",
     "text": [
      " 38%|███▊      | 3/8 [00:50<01:24, 16.95s/it]"
     ]
    },
    {
     "name": "stdout",
     "output_type": "stream",
     "text": [
      "Market Return : 29.20%   |   Portfolio Return : -28.54%   |   position_change : 44   |   \n"
     ]
    },
    {
     "name": "stderr",
     "output_type": "stream",
     "text": [
      " 50%|█████     | 4/8 [01:11<01:14, 18.51s/it]"
     ]
    },
    {
     "name": "stdout",
     "output_type": "stream",
     "text": [
      "Market Return : 29.20%   |   Portfolio Return : -30.49%   |   position_change : 27   |   \n"
     ]
    },
    {
     "name": "stderr",
     "output_type": "stream",
     "text": [
      " 62%|██████▎   | 5/8 [01:29<00:54, 18.32s/it]"
     ]
    },
    {
     "name": "stdout",
     "output_type": "stream",
     "text": [
      "Market Return : 29.20%   |   Portfolio Return : -31.57%   |   position_change : 34   |   \n"
     ]
    },
    {
     "name": "stderr",
     "output_type": "stream",
     "text": [
      " 75%|███████▌  | 6/8 [01:47<00:36, 18.35s/it]"
     ]
    },
    {
     "name": "stdout",
     "output_type": "stream",
     "text": [
      "Market Return : 29.20%   |   Portfolio Return : -25.86%   |   position_change : 43   |   \n"
     ]
    },
    {
     "name": "stderr",
     "output_type": "stream",
     "text": [
      " 88%|████████▊ | 7/8 [02:06<00:18, 18.30s/it]"
     ]
    },
    {
     "name": "stdout",
     "output_type": "stream",
     "text": [
      "Market Return : 29.20%   |   Portfolio Return : -32.69%   |   position_change : 31   |   \n"
     ]
    },
    {
     "name": "stderr",
     "output_type": "stream",
     "text": [
      "100%|██████████| 8/8 [02:24<00:00, 18.11s/it]"
     ]
    },
    {
     "name": "stdout",
     "output_type": "stream",
     "text": [
      "Market Return : 29.20%   |   Portfolio Return : -23.24%   |   position_change : 39   |   \n"
     ]
    },
    {
     "name": "stderr",
     "output_type": "stream",
     "text": [
      "\n"
     ]
    },
    {
     "data": {
      "image/png": "[encoded data removed]",
      "text/plain": [
       "<Figure size 640x480 with 1 Axes>"
      ]
     },
     "metadata": {},
     "output_type": "display_data"
    }
   ],
   "source": [
    "# \n",
    "train_env = make_env(train_env_name, train_df, positions, reward_function, trading_fees, daily_rate)\n",
    "test_env = make_env(test_env_name, test_df, positions, reward_function, trading_fees, daily_rate)\n",
    "\n",
    "hidden_dims = [[64,64],[128,128], [256, 256]]\n",
    "\n",
    "best2 = best.copy()\n",
    "\n",
    "best2['train_env'] = train_env\n",
    "best2['test_env'] = test_env\n",
    "best2['batch_size'] = 1\n",
    "best2['hidden_dims'] = hidden_dims[best2['hidden_dims']]\n",
    "agent = train_model(**best2)"
   ]
  },
  {
   "cell_type": "code",
   "execution_count": 36,
   "metadata": {},
   "outputs": [
    {
     "data": {
      "text/plain": [
       "dict"
      ]
     },
     "execution_count": 36,
     "metadata": {},
     "output_type": "execute_result"
    }
   ],
   "source": []
  },
  {
   "cell_type": "markdown",
   "metadata": {},
   "source": [
    "## Final Results of Best Model"
   ]
  },
  {
   "cell_type": "code",
   "execution_count": 57,
   "metadata": {},
   "outputs": [
    {
     "name": "stdout",
     "output_type": "stream",
     "text": [
      "Market Return : -15.87%   |   Portfolio Return : 15.87%   |   position_change : 1   |   \n",
      "{'loss': np.float64(-0.15868116778040298), 'status': 'ok'}\n"
     ]
    }
   ],
   "source": [
    "observation, action_space = test_env.reset()\n",
    "\n",
    "portfolio_return = test_model(test_env, agent)\n",
    "print(portfolio_return)"
   ]
  },
  {
   "cell_type": "code",
   "execution_count": 59,
   "metadata": {},
   "outputs": [],
   "source": [
    "# #env = GymEnvironment(env)\n",
    "\n",
    "# train_env = GymEnvironment(train_env)\n",
    "# test_env = GymEnvironment(test_env)"
   ]
  },
  {
   "cell_type": "code",
   "execution_count": 60,
   "metadata": {},
   "outputs": [],
   "source": [
    "\n",
    "\n",
    "# num_actions = train_env.action_space.n\n",
    "# agent = PearlAgent(\n",
    "#     policy_learner=DeepQLearning(\n",
    "#         state_dim=train_env.observation_space.shape[0],\n",
    "#         action_space=train_env.action_space, \n",
    "#         hidden_dims=[64, 64],\n",
    "#         training_rounds=20,\n",
    "#         action_representation_module=OneHotActionTensorRepresentationModule(\n",
    "#             max_number_actions=num_actions\n",
    "#         ),\n",
    "#     ),\n",
    "#     replay_buffer=FIFOOffPolicyReplayBuffer(10_000),\n",
    "# )\n"
   ]
  },
  {
   "cell_type": "code",
   "execution_count": null,
   "metadata": {},
   "outputs": [],
   "source": [
    "## Probably unnecessary\n",
    "# observation, action_space = train_env.reset()\n",
    "# observation.shape,action_space"
   ]
  },
  {
   "cell_type": "code",
   "execution_count": 62,
   "metadata": {},
   "outputs": [],
   "source": [
    "# losses=[]"
   ]
  },
  {
   "cell_type": "code",
   "execution_count": null,
   "metadata": {},
   "outputs": [],
   "source": [
    "# n_epochs=1\n",
    "# for i in tqdm(range(n_epochs)):\n",
    "#     observation, action_space = train_env.reset()\n",
    "#     agent.reset(observation, action_space)\n",
    "#     done = False\n",
    "#     while not done:\n",
    "#         action = agent.act(exploit=False)\n",
    "#         action_result = train_env.step(action)\n",
    "#         agent.observe(action_result)\n",
    "#         loss=agent.learn()\n",
    "#         [losses.append(l) for l in loss['loss']]\n",
    "#         done = action_result.done\n"
   ]
  },
  {
   "cell_type": "code",
   "execution_count": null,
   "metadata": {},
   "outputs": [],
   "source": [
    "# len(losses)"
   ]
  },
  {
   "cell_type": "code",
   "execution_count": 56,
   "metadata": {},
   "outputs": [],
   "source": [
    "#plt.plot(losses[:1000])"
   ]
  },
  {
   "cell_type": "code",
   "execution_count": null,
   "metadata": {},
   "outputs": [],
   "source": [
    "\n"
   ]
  },
  {
   "cell_type": "code",
   "execution_count": null,
   "metadata": {},
   "outputs": [],
   "source": [
    "# observation, action_space = env.reset()\n",
    "# agent.reset(observation, action_space)\n",
    "# done = False\n",
    "# while not done:\n",
    "#     action = agent.act(exploit=True)\n",
    "#     action_result = env.step(action)\n",
    "#     agent.observe(action_result)\n",
    "#     # loss=agent.learn()\n",
    "#     # [losses.append(l) for l in loss['loss']]\n",
    "#     done = action_result.done\n",
    "\n",
    "# later version\n",
    "# observation, action_space = test_env.reset()\n",
    "# agent.reset(observation, action_space)\n",
    "# done = False\n",
    "# while not done:\n",
    "#     action = agent.act(exploit=True)\n",
    "#     action_result = test_env.step(action)\n",
    "#     agent.observe(action_result)\n",
    "#     # loss=agent.learn()\n",
    "#     done = action_result.done"
   ]
  },
  {
   "cell_type": "code",
   "execution_count": 58,
   "metadata": {},
   "outputs": [],
   "source": [
    "# Get back the original test environment (get it out of its Pearl wrapper)\n",
    "og_env=test_env.env.unwrapped"
   ]
  },
  {
   "cell_type": "code",
   "execution_count": 59,
   "metadata": {},
   "outputs": [],
   "source": [
    "og_env.save_for_render()"
   ]
  },
  {
   "cell_type": "code",
   "execution_count": 60,
   "metadata": {},
   "outputs": [
    {
     "name": "stdout",
     "output_type": "stream",
     "text": [
      " * Serving Flask app 'gym_trading_env.renderer'\n",
      " * Debug mode: off\n"
     ]
    },
    {
     "name": "stderr",
     "output_type": "stream",
     "text": [
      "INFO:werkzeug:\u001b[31m\u001b[1mWARNING: This is a development server. Do not use it in a production deployment. Use a production WSGI server instead.\u001b[0m\n",
      " * Running on http://127.0.0.1:5000\n",
      "INFO:werkzeug:\u001b[33mPress CTRL+C to quit\u001b[0m\n",
      "INFO:werkzeug:127.0.0.1 - - [16/Oct/2024 23:43:30] \"GET / HTTP/1.1\" 200 -\n",
      "INFO:werkzeug:127.0.0.1 - - [16/Oct/2024 23:43:43] \"GET /update_data/ICPUSD_2024-09-16_03-06-07.pkl HTTP/1.1\" 200 -\n",
      "INFO:werkzeug:127.0.0.1 - - [16/Oct/2024 23:43:43] \"GET /metrics HTTP/1.1\" 200 -\n",
      "INFO:werkzeug:127.0.0.1 - - [16/Oct/2024 23:43:43] \"\u001b[33mGET /favicon.ico HTTP/1.1\u001b[0m\" 404 -\n"
     ]
    }
   ],
   "source": [
    "renderer = Renderer(render_logs_dir=\"render_logs\")\n",
    "\n",
    "# Add Custom Lines (Simple Moving Average)\n",
    "renderer.add_line( name= \"sma10\", function= lambda df : df[\"close\"].rolling(10).mean(), line_options ={\"width\" : 1, \"color\": \"purple\"})\n",
    "renderer.add_line( name= \"sma20\", function= lambda df : df[\"close\"].rolling(20).mean(), line_options ={\"width\" : 1, \"color\": \"blue\"})\n",
    "\n",
    "renderer.run()"
   ]
  },
  {
   "cell_type": "code",
   "execution_count": null,
   "metadata": {},
   "outputs": [],
   "source": [
    "#action = agent.act(exploit=False)\n",
    "#action"
   ]
  },
  {
   "cell_type": "code",
   "execution_count": null,
   "metadata": {},
   "outputs": [],
   "source": [
    "# action_result"
   ]
  }
 ],
 "metadata": {
  "kernelspec": {
   "display_name": "gym-trader5",
   "language": "python",
   "name": "python3"
  },
  "language_info": {
   "codemirror_mode": {
    "name": "ipython",
    "version": 3
   },
   "file_extension": ".py",
   "mimetype": "text/x-python",
   "name": "python",
   "nbconvert_exporter": "python",
   "pygments_lexer": "ipython3",
   "version": "3.10.13"
  }
 },
 "nbformat": 4,
 "nbformat_minor": 2
}
